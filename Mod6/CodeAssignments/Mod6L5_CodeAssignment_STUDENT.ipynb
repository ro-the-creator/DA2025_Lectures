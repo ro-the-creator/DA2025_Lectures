{
 "cells": [
  {
   "cell_type": "markdown",
   "metadata": {},
   "source": [
    "# Mod6L5 Data Challenge — Interpreting SLR Output (Dec 2023 NYC Taxi)\n",
    "\n",
    "\n",
    "**Format:** We Do (Instructor prompts) → You Do (Student work) → We Share (reflection)\n",
    "\n",
    "\n",
    "**Goal:** Choose **one** dependent variable (**Y**) from the taxi dataset and build **three** simple linear regressions (each with a different single **X**) on **Dec 2023** rides. For each model, interpret the **coefficient**, **intercept**, **p‑value**, and **R‑squared** in plain business language. Then decide which model is “better” *for decision‑making* and why.\n",
    "\n",
    "\n",
    "> **Reminder:** No train/test split or advanced metrics today. We focus on reading `.summary()` and communicating results."
   ]
  },
  {
   "cell_type": "markdown",
   "metadata": {},
   "source": [
    "## Instructor Section (10 mins)\n",
    "\n",
    "**Follow these steps/considerations as you work**\n",
    "\n",
    "\n",
    "1) **Pick a useful Y.** Which outcome would someone actually act on?  Who is the stakeholder for your Y?\n",
    "\n",
    "*Avoid constructing Y that bakes in your X (e.g., avoid using `fare_amount` as X when Y = `total_amount` which already includes fare).*\n",
    "\n",
    "\n",
    "2) **Choose three X’s** you can know at decision time, and that plausibly relate to Y. \n",
    "\n",
    "*You may engineer a feature to use in the model if you like*\n",
    "\n",
    "*Note:  SLR needs numeric only inputs so variables like `PULocationID` can't be used (categorical → not for SLR today unless you transform; stick to numeric X for this exercise)*\n",
    "\n",
    "\n",
    "3) **Interpretation lenses:**\n",
    "- **Units:** Always state slope in units (e.g., “per mile”, “per minute”).\n",
    "- **p‑value:** Does evidence suggest the slope ≠ 0?\n",
    "- **R²:** How much of Y’s variation is captured by this X? Does that help the decision?\n",
    "- **Intercept:** Is X=0 meaningful? If not, say it’s a math anchor.\n",
    "- **Plausibility:** Does the direction/size make sense (e.g., longer trip → higher fare)?\n",
    "\n",
    "\n",
    "4) **Better ≠ only higher R².** Weigh **interpretability**, **actionability**, and **evidence** (p‑value, CI) alongside R²."
   ]
  },
  {
   "cell_type": "markdown",
   "metadata": {},
   "source": [
    "## YOU DO (40 mins)"
   ]
  },
  {
   "cell_type": "markdown",
   "metadata": {},
   "source": [
    "### Step 1: Read in the Data & Choose your **Y** (dependent variable)\n",
    "\n",
    "Pick one from the 2023_Yellow_Taxi_Trip_Data_20251015 csv file  "
   ]
  },
  {
   "cell_type": "markdown",
   "metadata": {},
   "source": [
    "### Step 2: Propose three candidate **X** predictors (numeric)\n",
    "\n",
    "Pick three different X columns that are **numeric** and **known at decision time**."
   ]
  },
  {
   "cell_type": "markdown",
   "metadata": {},
   "source": [
    "### Step 3: Fit three one‑variable models with the SAME Y and different Xs"
   ]
  },
  {
   "cell_type": "markdown",
   "metadata": {},
   "source": [
    "### Step 4: Visual check for the “best” model candidate\n",
    "\n",
    "Pick the model you currently prefer (based on business sense + evidence).\n",
    "- Create a scatter of X vs. Y with the fitted line."
   ]
  },
  {
   "cell_type": "markdown",
   "metadata": {},
   "source": [
    "### Step 5: Interpret Each Model (write in plain English)\n",
    "Fill the three blocks below. Use **units** and **percentage points (pp)** where relevant.\n",
    "\n",
    "- **Slope (β₁):** “For each +1 unit of X, Y changes by …”\n",
    "- **Intercept (β₀):** meaningful or just a math anchor? Explain.\n",
    "- **p‑value:** is there evidence the slope ≠ 0?\n",
    "- **R²:** how much variation does this X explain?\n",
    "- **Judgment:** is the effect size **practically** meaningful (tie to business)?"
   ]
  },
  {
   "cell_type": "markdown",
   "metadata": {},
   "source": [
    "### Model A — Y = {{YOUR_Y}} ~ X1 = {{YOUR_X1}}\n",
    "- Slope (β₁): …\n",
    "- Intercept (β₀): …\n",
    "- p‑value (slope): …\n",
    "- 95% CI for slope: …\n",
    "- R²: …\n",
    "- Business readout (units): …\n",
    "- One limitation: …"
   ]
  },
  {
   "cell_type": "markdown",
   "metadata": {},
   "source": [
    "### Model B — Y = {{YOUR_Y}} ~ X2 = {{YOUR_X2}}\n",
    "- Slope (β₁): …\n",
    "- Intercept (β₀): …\n",
    "- p‑value (slope): …\n",
    "- 95% CI for slope: …\n",
    "- R²: …\n",
    "- Business readout (units): …\n",
    "- One limitation: …"
   ]
  },
  {
   "cell_type": "markdown",
   "metadata": {},
   "source": [
    "### Model C — Y = {{YOUR_Y}} ~ X3 = {{YOUR_X3}}\n",
    "- Slope (β₁): …\n",
    "- Intercept (β₀): …\n",
    "- p‑value (slope): …\n",
    "- 95% CI for slope: …\n",
    "- R²: …\n",
    "- Business readout (units): …\n",
    "- One limitation: …"
   ]
  },
  {
   "cell_type": "markdown",
   "metadata": {},
   "source": [
    "## We Share (10 mins) — Reflection & Decision (write 1-2 short paragraphs)\n",
    "\n",
    "1) **Which model is “better” for a stakeholder decision and why?**\n",
    "- Weigh **evidence** (p‑value, CI), **explanatory power** (R²), **interpretability**, and **business impact** (units, MDE if relevant).\n",
    "2) **What would you do next week to strengthen trust in this model?**\n",
    "- (Preview) time‑based validation, hold‑out testing, segment checks, adding more plausible X’s, checking assumptions."
   ]
  },
  {
   "cell_type": "markdown",
   "metadata": {},
   "source": []
  }
 ],
 "metadata": {
  "kernelspec": {
   "display_name": "Python (learn-env)",
   "language": "python",
   "name": "learn-env"
  },
  "language_info": {
   "codemirror_mode": {
    "name": "ipython",
    "version": 3
   },
   "file_extension": ".py",
   "mimetype": "text/x-python",
   "name": "python",
   "nbconvert_exporter": "python",
   "pygments_lexer": "ipython3",
   "version": "3.12.4"
  }
 },
 "nbformat": 4,
 "nbformat_minor": 2
}
