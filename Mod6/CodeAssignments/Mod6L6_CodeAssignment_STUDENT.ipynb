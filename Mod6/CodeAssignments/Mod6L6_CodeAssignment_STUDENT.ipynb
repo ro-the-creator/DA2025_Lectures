{
 "cells": [
  {
   "cell_type": "markdown",
   "metadata": {},
   "source": [
    "# Data Challenge 7 — Evaluating SLR, Assumptions, & the Bias–Variance Tradeoff\n",
    "\n",
    "**Goal:** Fit a simple linear regression (SLR) with a **train–test split**, report **MAE/RMSE** on *unseen* data, and use **training residuals** to check assumptions. Explain **bias vs. variance** in plain English.\n",
    "\n",
    "\n",
    "> Dataset: **NYC Yellow Taxi — Dec 2023** (CSV). Keep code *simple* — minimal coercion for chosen columns only."
   ]
  },
  {
   "cell_type": "markdown",
   "metadata": {},
   "source": [
    "## We Do — Instructor Session (20 mins)\n",
    "Use this **step-by-step plan** to guide students. Keep it high-level; they will implement in the *You Do* section.\n",
    "\n",
    "**Docs (quick links):**\n",
    "- Train/Test Split — scikit-learn: https://scikit-learn.org/stable/modules/generated/sklearn.model_selection.train_test_split.html\n",
    "- MAE / MSE / RMSE — scikit-learn: https://scikit-learn.org/stable/modules/generated/sklearn.metrics.mean_absolute_error.html\n",
    "- OLS (fit/predict/residuals) — statsmodels: https://www.statsmodels.org/stable/generated/statsmodels.regression.linear_model.OLS.html\n",
    "- OLS Results (attributes like `resid`, `fittedvalues`, `summary`) — statsmodels: https://www.statsmodels.org/stable/generated/statsmodels.regression.linear_model.RegressionResults.html\n",
    "- Q–Q plot — SciPy: https://docs.scipy.org/doc/scipy/reference/generated/scipy.stats.probplot.html\n",
    "\n",
    "### Pseudocode Plan\n",
    "1) **Load CSV** → preview columns/shape.\n",
    "2) **Assign Y and X (one predictor)** → pick numeric columns that matter; if needed, coerce **just** these to numeric and drop NAs.\n",
    "3) **Add intercept** → `X = add_constant(X)`.\n",
    "4) **Train–test split (80/20)** → `X_train, X_test, y_train, y_test = train_test_split(...)` (set `random_state`).\n",
    "5) **Fit on TRAIN** → `model = OLS(y_train, X_train).fit()`.\n",
    "6) **Predict on TEST** → `y_pred = model.predict(X_test)`.\n",
    "7) **Evaluate on TEST** → compute **MAE** and **RMSE** using `y_test` & `y_pred`; speak in **units of Y**.\n",
    "8) **Diagnostics on TRAIN** → use `model.resid` & `model.fittedvalues` for residuals vs fitted; Q–Q plot; check Durbin–Watson in `model.summary()`.\n",
    "9) **Bias–variance read (optional)** → compare train vs test errors.\n",
    "10) **Stakeholder one-liner** → MAE/RMSE in units + brief reliability note.\n"
   ]
  },
  {
   "cell_type": "markdown",
   "metadata": {},
   "source": [
    "## You Do — Student Section\n",
    "Work in pairs. Keep code simple and comment your choices."
   ]
  },
  {
   "cell_type": "markdown",
   "metadata": {},
   "source": [
    "### Step 0 — Setup & Imports"
   ]
  },
  {
   "cell_type": "markdown",
   "metadata": {},
   "source": [
    "### Step 1 & 2 — Read in the file and Choose **Y** (target) and **X** (one predictor)\n",
    "- Keep them numeric and present in your CSV.\n",
    "\n",
    "**Hint: You may have to drop missing values and do a force coercion to make sure the variables stay numeric (other coding assignments may help)**"
   ]
  },
  {
   "cell_type": "markdown",
   "metadata": {},
   "source": [
    "### Step 3 — Train–Test Split (80/20 random split for practice)"
   ]
  },
  {
   "cell_type": "markdown",
   "metadata": {},
   "source": [
    "### Step 4 — Fit on TRAIN only; Evaluate on TEST\n",
    "Compute **MAE** and **RMSE** in the **units of Y**."
   ]
  },
  {
   "cell_type": "markdown",
   "metadata": {},
   "source": [
    "### Step 5 — Diagnostic Plots (TRAIN residuals)\n",
    "Check regression assumptions using **training** residuals.\n",
    "- **Homoscedasticity:** random cloud around 0 (no cone).\n",
    "- **Normality:** Q–Q plot ~ diagonal."
   ]
  },
  {
   "cell_type": "markdown",
   "metadata": {},
   "source": [
    "### Step 6 — Quick Bias–Variance Read (optional)\n",
    "Compare **train** and **test** errors and describe what you see."
   ]
  },
  {
   "cell_type": "markdown",
   "metadata": {},
   "source": [
    "## We Share — Reflection & Wrap‑Up\n",
    "Write **1–2 short paragraphs** addressing:\n",
    "\n",
    "\n",
    "1) **Is this model good enough** for a real decision **right now**? Why/why not?\n",
    "Refer to **MAE/RMSE in units**, any **assumption issues**, and whether accuracy meets a reasonable business threshold.\n",
    "\n",
    "\n",
    "2) **What’s your next move** to improve trust/accuracy?\n",
    "Examples: adopt a **time‑aware split**, try a more relevant **X**, transform variables, segment checks (hour/zone), or move to **Multiple Linear Regression** with validation."
   ]
  }
 ],
 "metadata": {
  "kernelspec": {
   "display_name": "Python (learn-env)",
   "language": "python",
   "name": "learn-env"
  },
  "language_info": {
   "codemirror_mode": {
    "name": "ipython",
    "version": 3
   },
   "file_extension": ".py",
   "mimetype": "text/x-python",
   "name": "python",
   "nbconvert_exporter": "python",
   "pygments_lexer": "ipython3",
   "version": "3.12.4"
  }
 },
 "nbformat": 4,
 "nbformat_minor": 2
}
