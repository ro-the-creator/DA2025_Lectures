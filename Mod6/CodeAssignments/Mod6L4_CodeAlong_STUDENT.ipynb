{
 "cells": [
  {
   "cell_type": "markdown",
   "metadata": {},
   "source": [
    "## Mod 6 Lecture 4 Code-Along:  Simple Linear Regression\n",
    "\n",
    "### Purpose\n",
    "\n",
    "**Purpose**: Use both the statsmodels and sklearn libraries to fit a simple linear regression model ; fitted on full data (FOR NOW) just to learn mechanics. Validation comes in future lectures \n",
    "\n",
    "### Data\n",
    "We are looking at ONE month's worth of data (December 2023 to be exact).  Remember the data dictionary is found [HERE](https://data.cityofnewyork.us/Transportation/2023-Yellow-Taxi-Trip-Data/4b4i-vvec/about_data)"
   ]
  },
  {
   "cell_type": "markdown",
   "metadata": {},
   "source": [
    "### Step 0:  Read in Data & EXPLORE \n",
    "\n",
    "**Remember**:  EDA is MOST of your time so you should spend time doing EDA before ANY modeling "
   ]
  },
  {
   "cell_type": "code",
   "execution_count": null,
   "metadata": {},
   "outputs": [],
   "source": [
    "# import packages\n",
    "import statsmodels.api as sm\n",
    "from sklearn.linear_model import LinearRegression\n",
    "import pandas as pd\n",
    "import numpy as np"
   ]
  },
  {
   "cell_type": "code",
   "execution_count": null,
   "metadata": {},
   "outputs": [],
   "source": [
    "# Read in data and look at it!\n",
    "\n",
    "df = pd.read_csv(None, low_memory=False)\n",
    "display(df.head())\n",
    "display(df.info())\n",
    "display(df.describe())"
   ]
  },
  {
   "cell_type": "markdown",
   "metadata": {},
   "source": [
    "### Step 1:  Model `trip_distance` to make inferences about `tip_pct` using **Statsmodels**\n",
    "\n",
    "**Note**:  Look up statsmodels documentation BEFORE modeling so you see all the methods and attributes available to you! "
   ]
  },
  {
   "cell_type": "code",
   "execution_count": null,
   "metadata": {},
   "outputs": [],
   "source": [
    "# Coerce fare, tip, distance to numeric safely\n",
    "num_cols = ['fare_amount', 'tip_amount', 'trip_distance']\n",
    "for c in num_cols:\n",
    "    df[c] = None(\n",
    "        df[c].astype(str).str.strip().str.replace(r'[^0-9.+\\-eE]', '', regex=True),\n",
    "        errors=None\n",
    ")"
   ]
  },
  {
   "cell_type": "code",
   "execution_count": null,
   "metadata": {},
   "outputs": [],
   "source": [
    "# Clean data some and add a new column called 'tip_pct' as the target \n",
    "df = df[(df['fare_amount'] > 0) & (df['tip_amount'] >= 0) & (df['trip_distance'] > 0)]\n",
    "df = df.replace([np.inf, -np.inf], np.nan).dropna(subset=num_cols)\n",
    "df['tip_pct'] = None"
   ]
  },
  {
   "cell_type": "code",
   "execution_count": null,
   "metadata": {},
   "outputs": [],
   "source": [
    "X = sm.add_constant(df[['trip_distance']]) #add intercept yourself for statsmodels\n",
    "y = None\n",
    "model = None\n",
    "model.summary()"
   ]
  },
  {
   "cell_type": "markdown",
   "metadata": {},
   "source": [
    "#### Look at the coefficient and p-value...does it make sense?  How would you interpret the coeff and pvalue?\n",
    "\n",
    "Answer:  None"
   ]
  },
  {
   "cell_type": "markdown",
   "metadata": {},
   "source": [
    "### Step 2:  Model `trip_distance` to make inferences about `tip_pct` using **sklearn**\n",
    "\n",
    "**Note**:  Look up sklearn documentation BEFORE modeling so you see all the methods and attributes available to you! "
   ]
  },
  {
   "cell_type": "code",
   "execution_count": null,
   "metadata": {},
   "outputs": [],
   "source": [
    "X = None\n",
    "y = None\n",
    "lin = LinearRegression().fit(X, y) #default fits intercept \n",
    "print('Intercept (β₀):', lin.intercept_)\n",
    "print('Slope (β₁):', lin.coef_[0])"
   ]
  },
  {
   "cell_type": "markdown",
   "metadata": {},
   "source": [
    "#### Did sklearn give you the same results as statsmodels?  What are the code differences? "
   ]
  },
  {
   "cell_type": "markdown",
   "metadata": {},
   "source": [
    "### Step 3:  Make an inference to the business (NYC Transportation Commission)\n"
   ]
  },
  {
   "cell_type": "markdown",
   "metadata": {},
   "source": [
    "Answer: None"
   ]
  }
 ],
 "metadata": {
  "kernelspec": {
   "display_name": "Python (learn-env)",
   "language": "python",
   "name": "learn-env"
  },
  "language_info": {
   "codemirror_mode": {
    "name": "ipython",
    "version": 3
   },
   "file_extension": ".py",
   "mimetype": "text/x-python",
   "name": "python",
   "nbconvert_exporter": "python",
   "pygments_lexer": "ipython3",
   "version": "3.12.4"
  }
 },
 "nbformat": 4,
 "nbformat_minor": 2
}
