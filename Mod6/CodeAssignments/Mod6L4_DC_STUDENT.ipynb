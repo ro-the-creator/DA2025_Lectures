{
 "cells": [
  {
   "cell_type": "markdown",
   "metadata": {},
   "source": [
    "## Mod 6 Lecture 4 Data Challenge:  Simple Linear Regression\n",
    "\n",
    "### Purpose\n",
    "\n",
    "**Purpose**: Run a simple linear regression (SLR) on the NYC Yellow Taxi Dec 2023 excerpt to explain how a single input (X) relates to Tip % (Y). Practice picking a sensible X, fitting the line, and interpreting β₁, p‑value, and 95% confidence interval—plus basic assumption checks.\n",
    "\n",
    "### Data\n",
    "We are looking at ONE month's worth of data (December 2023 to be exact).  Remember the data dictionary is found [HERE](https://data.cityofnewyork.us/Transportation/2023-Yellow-Taxi-Trip-Data/4b4i-vvec/about_data)"
   ]
  },
  {
   "cell_type": "markdown",
   "metadata": {},
   "source": [
    "### Instructor Guidance (10 Minutes)\n",
    "\n",
    "#### Goals\n",
    "\n",
    "- Pick an X with a plausible relationship to Tip % that is available at trip time.\n",
    "\n",
    "- Communicate β₁ with units, p-vale, and a 95% CI.\n",
    "\n",
    "#### Special considerations\n",
    "\n",
    "- `Tip %` is `tip_amount / fare_amount`. Choosing `fare_amount` as X can create a built‑in relationship because it’s in the definition of Y (mathematical coupling). Encourage alternative X’s like `trip_distance`, `pickup_hour (as numeric)`, or `passenger_count`.\n",
    "\n",
    "- Linearity check: Is the relationship roughly straight‑line? If X is discrete (e.g., passenger_count), SLR still works but discuss meaning.\n",
    "\n",
    "- Intercept meaning: If X=0 is unrealistic (0 miles), say the intercept is just a mathematical anchor.\n",
    "\n",
    "- Outliers: Large distances/fares can dominate. Consider trimming extremes thoughtfully or explaining how you would handle outliers.  \n",
    "\n",
    "#### Critical thinking prompts as you work through the challenge (be prepared to answer at the end):\n",
    "\n",
    "- Which input would you use to make a decision before the ride starts? Why?\n",
    "\n",
    "- If β₁ is tiny but the p‑value is very small, is that useful for the business?\n",
    "\n",
    "- If residuals (can only get residuals after fitting the model) \"fan out\" as X grows, what story might that tell about tipping behavior?\n",
    "\n",
    "- Would your conclusion change if you looked at daytime vs. late night rides separately?"
   ]
  },
  {
   "cell_type": "markdown",
   "metadata": {},
   "source": [
    "### Student Tasks (35 minutes)"
   ]
  },
  {
   "cell_type": "markdown",
   "metadata": {},
   "source": [
    "Step 0 — Load Packages and Data, Fix Data Types, Create Tip % Column \n",
    "\n",
    "**Hint**:  You did this in the Code-Along, refer back to the notebook to help you!"
   ]
  },
  {
   "cell_type": "code",
   "execution_count": null,
   "metadata": {},
   "outputs": [],
   "source": [
    "None"
   ]
  },
  {
   "cell_type": "markdown",
   "metadata": {},
   "source": [
    "Step 1 — Choose Your X (be sure to chose an X variable that would be available at trip time (not after the trip takes place))\n",
    "\n",
    "Add a 2–3 sentence rationale in Markdown: Why could X relate to `tip_pct`? Why is it available **when the decision is made** (meaning driver has the information before the actual drive takes place)?"
   ]
  },
  {
   "cell_type": "code",
   "execution_count": null,
   "metadata": {},
   "outputs": [],
   "source": [
    "None"
   ]
  },
  {
   "cell_type": "markdown",
   "metadata": {},
   "source": [
    "Step 2 — Quick Visual Check (Linearity & Outliers)\n",
    "\n",
    "Add a 2-3 sentence rationale on how you would handle outliers or how you did handle outliers (if you handled them for this challenge).  Is the linear relationship there between your X and Y?  Is it a strong relationship?  What is the benefits of a strong relationship between X and Y?"
   ]
  },
  {
   "cell_type": "code",
   "execution_count": null,
   "metadata": {},
   "outputs": [],
   "source": [
    "None"
   ]
  },
  {
   "cell_type": "markdown",
   "metadata": {},
   "source": [
    "Step 3 — Fit SLR Model to Data"
   ]
  },
  {
   "cell_type": "code",
   "execution_count": null,
   "metadata": {},
   "outputs": [],
   "source": [
    "None"
   ]
  },
  {
   "cell_type": "markdown",
   "metadata": {},
   "source": [
    "Step 4 — Interpret the model's coefficients, p-values, and CI \n",
    "\n",
    "Double-click cell to type in your answer"
   ]
  },
  {
   "cell_type": "markdown",
   "metadata": {},
   "source": [
    "Step 5 — Post‑Fit Assumption Glance \n",
    "\n",
    "Add 2-3 sentences about the residuals any curve? funnel shape? obvious outliers?  How would you go about checking if residuals were normally distributed?  "
   ]
  },
  {
   "cell_type": "code",
   "execution_count": null,
   "metadata": {},
   "outputs": [],
   "source": [
    "#RUN THIS CELL WITHOUT CHANGES\n",
    "resid = ols.resid\n",
    "fitted = ols.fittedvalues\n",
    "plt.figure(figsize=(5,4))\n",
    "plt.scatter(fitted, resid, s=6, alpha=0.3)\n",
    "plt.axhline(0, color='k', lw=1)\n",
    "plt.xlabel('Fitted values (tip_pct)')\n",
    "plt.ylabel('Residuals')\n",
    "plt.title('Residuals vs Fitted (visual check)')\n",
    "plt.show()"
   ]
  },
  {
   "cell_type": "markdown",
   "metadata": {},
   "source": [
    "### Reflection (10-15 mins)\n",
    "\n",
    "**In addition to the critical thinking questions at the top** of the notebook be prepared to discuss: \n",
    "\n",
    "- If you had to make a decision tomorrow, would this simple model be enough? Why/why not?\n",
    "\n",
    "- What’s one different X you’d try next and why?"
   ]
  }
 ],
 "metadata": {
  "kernelspec": {
   "display_name": "Python (learn-env)",
   "language": "python",
   "name": "learn-env"
  },
  "language_info": {
   "codemirror_mode": {
    "name": "ipython",
    "version": 3
   },
   "file_extension": ".py",
   "mimetype": "text/x-python",
   "name": "python",
   "nbconvert_exporter": "python",
   "pygments_lexer": "ipython3",
   "version": "3.12.4"
  }
 },
 "nbformat": 4,
 "nbformat_minor": 2
}
