{
 "cells": [
  {
   "cell_type": "markdown",
   "metadata": {},
   "source": [
    "# 🧪 Live Lab: Introduction to Object-Oriented Programming (OOP) in Python\n",
    "\n",
    "Welcome to your first hands-on lab with **classes**, **attributes**, and **methods**! In this notebook, you’ll:\n",
    "\n",
    "- Create a basic class (`Vehicle`)\n",
    "- Create a subclass (`Car`)\n",
    "- Add your own attributes and behaviors\n",
    "- Use `__init__` to set up your objects\n",
    "- Use `id()` to inspect your object in memory\n",
    "\n",
    "---"
   ]
  },
  {
   "cell_type": "markdown",
   "metadata": {},
   "source": [
    "## 🚗 Step 1: Create a Basic Class\n",
    "\n",
    "This is your blueprint for all types of vehicles."
   ]
  },
  {
   "cell_type": "code",
   "execution_count": 26,
   "metadata": {},
   "outputs": [],
   "source": [
    "class Vehicle:\n",
    "    def __init__(self, wheels, color):\n",
    "        self.wheels = wheels\n",
    "        self.color = color\n",
    "\n",
    "    def describe(self):\n",
    "        print(f\"This vehicle has {self.wheels} wheels and is {self.color}.\")\n"
   ]
  },
  {
   "cell_type": "markdown",
   "metadata": {},
   "source": [
    "## 🧪 Step 2: Make an Object from the Class\n",
    "\n",
    "Let's create a real vehicle!"
   ]
  },
  {
   "cell_type": "code",
   "execution_count": 28,
   "metadata": {},
   "outputs": [
    {
     "name": "stdout",
     "output_type": "stream",
     "text": [
      "This vehicle has 2 wheels and is red.\n",
      "Memory address: 4473905984\n"
     ]
    }
   ],
   "source": [
    "bike = Vehicle(wheels=2, color='red')\n",
    "bike.describe()\n",
    "print(\"Memory address:\", id(bike))\n"
   ]
  },
  {
   "cell_type": "markdown",
   "metadata": {},
   "source": [
    "## 🚙 Step 3: Create a Subclass Called `Car`\n",
    "\n",
    "Cars are a type of Vehicle. We'll give them an extra feature: brand.\n"
   ]
  },
  {
   "cell_type": "code",
   "execution_count": 96,
   "metadata": {},
   "outputs": [],
   "source": [
    "class Car(Vehicle):\n",
    "    def __init__(self, wheels, color, brand):\n",
    "        super().__init__(wheels, color)\n",
    "        self.brand = brand\n",
    "\n",
    "    def honk(self):\n",
    "        print('beep beep!')\n",
    "\n"
   ]
  },
  {
   "cell_type": "markdown",
   "metadata": {},
   "source": [
    "## 🧪 Step 4: Try Out Your `Car` Class\n"
   ]
  },
  {
   "cell_type": "code",
   "execution_count": 97,
   "metadata": {},
   "outputs": [
    {
     "name": "stdout",
     "output_type": "stream",
     "text": [
      "This vehicle has 4 wheels and is silver.\n",
      "beep beep!\n",
      "Car memory address: 4481448592\n"
     ]
    }
   ],
   "source": [
    "my_car = Car(wheels=4, color='silver', brand='Subaru')\n",
    "my_car.describe()  # Uses method from Vehicle\n",
    "my_car.honk()      # Unique to Car\n",
    "print(\"Car memory address:\", id(my_car))\n"
   ]
  },
  {
   "cell_type": "markdown",
   "metadata": {},
   "source": [
    "# 🏠 Data Challenge: Make Your Own Subclasses\n",
    "\n",
    "Create two new types of vehicles: `Truck` and `Bicycle`.\n",
    "\n",
    "Each one must:\n",
    "\n",
    "- Inherit from the `Vehicle` class\n",
    "- Use `super().__init__()` to initialize wheels and color\n",
    "- Add at least 1 unique attribute\n",
    "- Add at least 1 unique method"
   ]
  },
  {
   "cell_type": "markdown",
   "metadata": {},
   "source": [
    "## 🛻 Task 1: Create a Truck class\n"
   ]
  },
  {
   "cell_type": "markdown",
   "metadata": {},
   "source": [
    "## 🚴 Task 2: Create a Bicycle class\n"
   ]
  },
  {
   "cell_type": "code",
   "execution_count": 100,
   "metadata": {},
   "outputs": [],
   "source": [
    "class Truck(Car):\n",
    "    def __init__(self, wheels, color, brand, bed_length):\n",
    "        super().__init__(wheels, color, brand)\n",
    "        self.bed_length = bed_length\n",
    "\n",
    "    def truck_bed(self):\n",
    "        print(f'The {self.brand} truck bed length is {self.bed_length} inches long')"
   ]
  },
  {
   "cell_type": "code",
   "execution_count": 134,
   "metadata": {},
   "outputs": [],
   "source": [
    "class Bicycle(Vehicle):\n",
    "    def __init__(self, wheels, color, type):\n",
    "        super().__init__(wheels, color)\n",
    "        self.type = type\n",
    "    \n",
    "    def trail_type(self):\n",
    "        self.type = self.type.upper()\n",
    "        if self.type == \"OFF-ROAD\":\n",
    "            print(f'{self.type.capitalize()} bike is good for dirt trails.')\n",
    "        if self.type == 'RACING':\n",
    "            print(f'{self.type.capitalize()} bike is good for street roads.')\n",
    "        if self.type == 'BMX':\n",
    "            print(f'{self.type} bike is good for skate parks.')"
   ]
  },
  {
   "cell_type": "markdown",
   "metadata": {},
   "source": [
    "## ✅ Task 3: Test Your Classes"
   ]
  },
  {
   "cell_type": "code",
   "execution_count": 137,
   "metadata": {},
   "outputs": [
    {
     "name": "stdout",
     "output_type": "stream",
     "text": [
      "The Ford truck bed length is 21 inches long\n",
      "------------------------------------------\n",
      "BMX bike is good for skate parks.\n",
      "------------------------------------------\n",
      "Off-road bike is good for dirt trails.\n",
      "------------------------------------------\n",
      "Racing bike is good for street roads.\n"
     ]
    }
   ],
   "source": [
    "my_truck = Truck(wheels=4, color='black', brand='Ford', bed_length=21)\n",
    "my_truck.truck_bed()\n",
    "print('------------------------------------------')\n",
    "my_bike = Bicycle(wheels=2, color='red', type='bmx')\n",
    "my_bike.trail_type()\n",
    "print('------------------------------------------')\n",
    "my_bike2 = Bicycle(wheels=3, color='green', type='off-road')\n",
    "my_bike2.trail_type()\n",
    "print('------------------------------------------')\n",
    "my_bike2 = Bicycle(wheels=2, color='yellow', type='racing')\n",
    "my_bike2.trail_type()"
   ]
  },
  {
   "cell_type": "markdown",
   "metadata": {},
   "source": [
    "## 🧠 Task 4 Reflection (Markdown Only – No Code)\n",
    "\n",
    "In 2–3 sentences, explain the following:\n",
    "\n",
    "1. Why is using a parent class like `Vehicle` better than writing separate, duplicate classes for `Car`, `Truck`, and `Bicycle`?\n",
    "    - Using a parent class allows you to have an overarching collection of attributes that the other classes can refer to and use. This is better because now you don't have to rewrite attributes for each additionally class you create.\n",
    "\n",
    "2. What are the advantages of using `super()` in your subclass constructors?\n",
    "    - Super() helps with referring to the parent class, from which it can grab the attributes that have already been established in that parent class. It is advantageous since you don't have to repeat lines of code.\n"
   ]
  }
 ],
 "metadata": {
  "kernelspec": {
   "display_name": "data-analysis-env",
   "language": "python",
   "name": "python3"
  },
  "language_info": {
   "codemirror_mode": {
    "name": "ipython",
    "version": 3
   },
   "file_extension": ".py",
   "mimetype": "text/x-python",
   "name": "python",
   "nbconvert_exporter": "python",
   "pygments_lexer": "ipython3",
   "version": "3.9.22"
  }
 },
 "nbformat": 4,
 "nbformat_minor": 2
}
