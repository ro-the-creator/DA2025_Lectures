{
 "cells": [
  {
   "cell_type": "markdown",
   "metadata": {},
   "source": [
    "# LiveLab: Creating a Simple Dash App \n",
    "\n",
    "\n",
    "## Dataset Description:\n",
    "\n",
    "You are working with a college sports dataset from [Kaggle](https://www.kaggle.com/datasets/umerhaddii/us-collegiate-sports-dataset)"
   ]
  },
  {
   "cell_type": "markdown",
   "metadata": {},
   "source": [
    "### Step 1:  Load & Inspect Data "
   ]
  },
  {
   "cell_type": "code",
   "execution_count": 7,
   "metadata": {},
   "outputs": [],
   "source": [
    "#Import pandas, plotly, and dash packages \n",
    "import dash\n",
    "from dash import html, dcc\n",
    "from dash.dependencies import Input, Output\n",
    "import pandas as pd\n",
    "import plotly.express as px"
   ]
  },
  {
   "cell_type": "code",
   "execution_count": 8,
   "metadata": {},
   "outputs": [
    {
     "name": "stderr",
     "output_type": "stream",
     "text": [
      "/var/folders/gs/yv3dj4zx2tgdd5tw701ypspm0000gp/T/ipykernel_7051/313251072.py:3: DtypeWarning:\n",
      "\n",
      "Columns (8) have mixed types. Specify dtype option on import or set low_memory=False.\n",
      "\n"
     ]
    },
    {
     "data": {
      "text/html": [
       "<div>\n",
       "<style scoped>\n",
       "    .dataframe tbody tr th:only-of-type {\n",
       "        vertical-align: middle;\n",
       "    }\n",
       "\n",
       "    .dataframe tbody tr th {\n",
       "        vertical-align: top;\n",
       "    }\n",
       "\n",
       "    .dataframe thead th {\n",
       "        text-align: right;\n",
       "    }\n",
       "</style>\n",
       "<table border=\"1\" class=\"dataframe\">\n",
       "  <thead>\n",
       "    <tr style=\"text-align: right;\">\n",
       "      <th></th>\n",
       "      <th>year</th>\n",
       "      <th>unitid</th>\n",
       "      <th>institution_name</th>\n",
       "      <th>city_txt</th>\n",
       "      <th>state_cd</th>\n",
       "      <th>zip_text</th>\n",
       "      <th>classification_code</th>\n",
       "      <th>classification_name</th>\n",
       "      <th>classification_other</th>\n",
       "      <th>ef_male_count</th>\n",
       "      <th>...</th>\n",
       "      <th>partic_coed_women</th>\n",
       "      <th>sum_partic_men</th>\n",
       "      <th>sum_partic_women</th>\n",
       "      <th>rev_men</th>\n",
       "      <th>rev_women</th>\n",
       "      <th>total_rev_menwomen</th>\n",
       "      <th>exp_men</th>\n",
       "      <th>exp_women</th>\n",
       "      <th>total_exp_menwomen</th>\n",
       "      <th>sports</th>\n",
       "    </tr>\n",
       "  </thead>\n",
       "  <tbody>\n",
       "    <tr>\n",
       "      <th>0</th>\n",
       "      <td>2015</td>\n",
       "      <td>100654</td>\n",
       "      <td>Alabama A &amp; M University</td>\n",
       "      <td>Normal</td>\n",
       "      <td>AL</td>\n",
       "      <td>35762.0</td>\n",
       "      <td>2</td>\n",
       "      <td>NCAA Division I-FCS</td>\n",
       "      <td>NaN</td>\n",
       "      <td>1923</td>\n",
       "      <td>...</td>\n",
       "      <td>NaN</td>\n",
       "      <td>31</td>\n",
       "      <td>0</td>\n",
       "      <td>345592.0</td>\n",
       "      <td>NaN</td>\n",
       "      <td>345592.0</td>\n",
       "      <td>397818.0</td>\n",
       "      <td>NaN</td>\n",
       "      <td>397818.0</td>\n",
       "      <td>Baseball</td>\n",
       "    </tr>\n",
       "    <tr>\n",
       "      <th>1</th>\n",
       "      <td>2015</td>\n",
       "      <td>100654</td>\n",
       "      <td>Alabama A &amp; M University</td>\n",
       "      <td>Normal</td>\n",
       "      <td>AL</td>\n",
       "      <td>35762.0</td>\n",
       "      <td>2</td>\n",
       "      <td>NCAA Division I-FCS</td>\n",
       "      <td>NaN</td>\n",
       "      <td>1923</td>\n",
       "      <td>...</td>\n",
       "      <td>NaN</td>\n",
       "      <td>19</td>\n",
       "      <td>16</td>\n",
       "      <td>1211095.0</td>\n",
       "      <td>748833.0</td>\n",
       "      <td>1959928.0</td>\n",
       "      <td>817868.0</td>\n",
       "      <td>742460.0</td>\n",
       "      <td>1560328.0</td>\n",
       "      <td>Basketball</td>\n",
       "    </tr>\n",
       "    <tr>\n",
       "      <th>2</th>\n",
       "      <td>2015</td>\n",
       "      <td>100654</td>\n",
       "      <td>Alabama A &amp; M University</td>\n",
       "      <td>Normal</td>\n",
       "      <td>AL</td>\n",
       "      <td>35762.0</td>\n",
       "      <td>2</td>\n",
       "      <td>NCAA Division I-FCS</td>\n",
       "      <td>NaN</td>\n",
       "      <td>1923</td>\n",
       "      <td>...</td>\n",
       "      <td>NaN</td>\n",
       "      <td>61</td>\n",
       "      <td>46</td>\n",
       "      <td>183333.0</td>\n",
       "      <td>315574.0</td>\n",
       "      <td>498907.0</td>\n",
       "      <td>246949.0</td>\n",
       "      <td>251184.0</td>\n",
       "      <td>498133.0</td>\n",
       "      <td>All Track Combined</td>\n",
       "    </tr>\n",
       "    <tr>\n",
       "      <th>3</th>\n",
       "      <td>2015</td>\n",
       "      <td>100654</td>\n",
       "      <td>Alabama A &amp; M University</td>\n",
       "      <td>Normal</td>\n",
       "      <td>AL</td>\n",
       "      <td>35762.0</td>\n",
       "      <td>2</td>\n",
       "      <td>NCAA Division I-FCS</td>\n",
       "      <td>NaN</td>\n",
       "      <td>1923</td>\n",
       "      <td>...</td>\n",
       "      <td>NaN</td>\n",
       "      <td>99</td>\n",
       "      <td>0</td>\n",
       "      <td>2808949.0</td>\n",
       "      <td>NaN</td>\n",
       "      <td>2808949.0</td>\n",
       "      <td>3059353.0</td>\n",
       "      <td>NaN</td>\n",
       "      <td>3059353.0</td>\n",
       "      <td>Football</td>\n",
       "    </tr>\n",
       "    <tr>\n",
       "      <th>4</th>\n",
       "      <td>2015</td>\n",
       "      <td>100654</td>\n",
       "      <td>Alabama A &amp; M University</td>\n",
       "      <td>Normal</td>\n",
       "      <td>AL</td>\n",
       "      <td>35762.0</td>\n",
       "      <td>2</td>\n",
       "      <td>NCAA Division I-FCS</td>\n",
       "      <td>NaN</td>\n",
       "      <td>1923</td>\n",
       "      <td>...</td>\n",
       "      <td>NaN</td>\n",
       "      <td>9</td>\n",
       "      <td>0</td>\n",
       "      <td>78270.0</td>\n",
       "      <td>NaN</td>\n",
       "      <td>78270.0</td>\n",
       "      <td>83913.0</td>\n",
       "      <td>NaN</td>\n",
       "      <td>83913.0</td>\n",
       "      <td>Golf</td>\n",
       "    </tr>\n",
       "    <tr>\n",
       "      <th>...</th>\n",
       "      <td>...</td>\n",
       "      <td>...</td>\n",
       "      <td>...</td>\n",
       "      <td>...</td>\n",
       "      <td>...</td>\n",
       "      <td>...</td>\n",
       "      <td>...</td>\n",
       "      <td>...</td>\n",
       "      <td>...</td>\n",
       "      <td>...</td>\n",
       "      <td>...</td>\n",
       "      <td>...</td>\n",
       "      <td>...</td>\n",
       "      <td>...</td>\n",
       "      <td>...</td>\n",
       "      <td>...</td>\n",
       "      <td>...</td>\n",
       "      <td>...</td>\n",
       "      <td>...</td>\n",
       "      <td>...</td>\n",
       "      <td>...</td>\n",
       "    </tr>\n",
       "    <tr>\n",
       "      <th>132322</th>\n",
       "      <td>2019</td>\n",
       "      <td>800001</td>\n",
       "      <td>Simon Fraser University</td>\n",
       "      <td>NaN</td>\n",
       "      <td>NaN</td>\n",
       "      <td>NaN</td>\n",
       "      <td>4</td>\n",
       "      <td>NCAA Division II with football</td>\n",
       "      <td>NaN</td>\n",
       "      <td>5681</td>\n",
       "      <td>...</td>\n",
       "      <td>NaN</td>\n",
       "      <td>30</td>\n",
       "      <td>21</td>\n",
       "      <td>652950.0</td>\n",
       "      <td>357251.0</td>\n",
       "      <td>1010201.0</td>\n",
       "      <td>652950.0</td>\n",
       "      <td>357251.0</td>\n",
       "      <td>1010201.0</td>\n",
       "      <td>Soccer</td>\n",
       "    </tr>\n",
       "    <tr>\n",
       "      <th>132323</th>\n",
       "      <td>2019</td>\n",
       "      <td>800001</td>\n",
       "      <td>Simon Fraser University</td>\n",
       "      <td>NaN</td>\n",
       "      <td>NaN</td>\n",
       "      <td>NaN</td>\n",
       "      <td>4</td>\n",
       "      <td>NCAA Division II with football</td>\n",
       "      <td>NaN</td>\n",
       "      <td>5681</td>\n",
       "      <td>...</td>\n",
       "      <td>NaN</td>\n",
       "      <td>0</td>\n",
       "      <td>19</td>\n",
       "      <td>NaN</td>\n",
       "      <td>381402.0</td>\n",
       "      <td>381402.0</td>\n",
       "      <td>NaN</td>\n",
       "      <td>381402.0</td>\n",
       "      <td>381402.0</td>\n",
       "      <td>Softball</td>\n",
       "    </tr>\n",
       "    <tr>\n",
       "      <th>132324</th>\n",
       "      <td>2019</td>\n",
       "      <td>800001</td>\n",
       "      <td>Simon Fraser University</td>\n",
       "      <td>NaN</td>\n",
       "      <td>NaN</td>\n",
       "      <td>NaN</td>\n",
       "      <td>4</td>\n",
       "      <td>NCAA Division II with football</td>\n",
       "      <td>NaN</td>\n",
       "      <td>5681</td>\n",
       "      <td>...</td>\n",
       "      <td>NaN</td>\n",
       "      <td>17</td>\n",
       "      <td>17</td>\n",
       "      <td>281726.0</td>\n",
       "      <td>237917.0</td>\n",
       "      <td>519643.0</td>\n",
       "      <td>281726.0</td>\n",
       "      <td>237917.0</td>\n",
       "      <td>519643.0</td>\n",
       "      <td>Swimming</td>\n",
       "    </tr>\n",
       "    <tr>\n",
       "      <th>132325</th>\n",
       "      <td>2019</td>\n",
       "      <td>800001</td>\n",
       "      <td>Simon Fraser University</td>\n",
       "      <td>NaN</td>\n",
       "      <td>NaN</td>\n",
       "      <td>NaN</td>\n",
       "      <td>4</td>\n",
       "      <td>NCAA Division II with football</td>\n",
       "      <td>NaN</td>\n",
       "      <td>5681</td>\n",
       "      <td>...</td>\n",
       "      <td>NaN</td>\n",
       "      <td>0</td>\n",
       "      <td>19</td>\n",
       "      <td>NaN</td>\n",
       "      <td>402135.0</td>\n",
       "      <td>402135.0</td>\n",
       "      <td>NaN</td>\n",
       "      <td>402135.0</td>\n",
       "      <td>402135.0</td>\n",
       "      <td>Volleyball</td>\n",
       "    </tr>\n",
       "    <tr>\n",
       "      <th>132326</th>\n",
       "      <td>2019</td>\n",
       "      <td>800001</td>\n",
       "      <td>Simon Fraser University</td>\n",
       "      <td>NaN</td>\n",
       "      <td>NaN</td>\n",
       "      <td>NaN</td>\n",
       "      <td>4</td>\n",
       "      <td>NCAA Division II with football</td>\n",
       "      <td>NaN</td>\n",
       "      <td>5681</td>\n",
       "      <td>...</td>\n",
       "      <td>NaN</td>\n",
       "      <td>24</td>\n",
       "      <td>23</td>\n",
       "      <td>259794.0</td>\n",
       "      <td>241066.0</td>\n",
       "      <td>500860.0</td>\n",
       "      <td>259794.0</td>\n",
       "      <td>241066.0</td>\n",
       "      <td>500860.0</td>\n",
       "      <td>Wrestling</td>\n",
       "    </tr>\n",
       "  </tbody>\n",
       "</table>\n",
       "<p>132327 rows × 28 columns</p>\n",
       "</div>"
      ],
      "text/plain": [
       "        year  unitid          institution_name city_txt state_cd  zip_text  \\\n",
       "0       2015  100654  Alabama A & M University   Normal       AL   35762.0   \n",
       "1       2015  100654  Alabama A & M University   Normal       AL   35762.0   \n",
       "2       2015  100654  Alabama A & M University   Normal       AL   35762.0   \n",
       "3       2015  100654  Alabama A & M University   Normal       AL   35762.0   \n",
       "4       2015  100654  Alabama A & M University   Normal       AL   35762.0   \n",
       "...      ...     ...                       ...      ...      ...       ...   \n",
       "132322  2019  800001   Simon Fraser University      NaN      NaN       NaN   \n",
       "132323  2019  800001   Simon Fraser University      NaN      NaN       NaN   \n",
       "132324  2019  800001   Simon Fraser University      NaN      NaN       NaN   \n",
       "132325  2019  800001   Simon Fraser University      NaN      NaN       NaN   \n",
       "132326  2019  800001   Simon Fraser University      NaN      NaN       NaN   \n",
       "\n",
       "        classification_code             classification_name  \\\n",
       "0                         2             NCAA Division I-FCS   \n",
       "1                         2             NCAA Division I-FCS   \n",
       "2                         2             NCAA Division I-FCS   \n",
       "3                         2             NCAA Division I-FCS   \n",
       "4                         2             NCAA Division I-FCS   \n",
       "...                     ...                             ...   \n",
       "132322                    4  NCAA Division II with football   \n",
       "132323                    4  NCAA Division II with football   \n",
       "132324                    4  NCAA Division II with football   \n",
       "132325                    4  NCAA Division II with football   \n",
       "132326                    4  NCAA Division II with football   \n",
       "\n",
       "       classification_other  ef_male_count  ...  partic_coed_women  \\\n",
       "0                       NaN           1923  ...                NaN   \n",
       "1                       NaN           1923  ...                NaN   \n",
       "2                       NaN           1923  ...                NaN   \n",
       "3                       NaN           1923  ...                NaN   \n",
       "4                       NaN           1923  ...                NaN   \n",
       "...                     ...            ...  ...                ...   \n",
       "132322                  NaN           5681  ...                NaN   \n",
       "132323                  NaN           5681  ...                NaN   \n",
       "132324                  NaN           5681  ...                NaN   \n",
       "132325                  NaN           5681  ...                NaN   \n",
       "132326                  NaN           5681  ...                NaN   \n",
       "\n",
       "        sum_partic_men  sum_partic_women    rev_men  rev_women  \\\n",
       "0                   31                 0   345592.0        NaN   \n",
       "1                   19                16  1211095.0   748833.0   \n",
       "2                   61                46   183333.0   315574.0   \n",
       "3                   99                 0  2808949.0        NaN   \n",
       "4                    9                 0    78270.0        NaN   \n",
       "...                ...               ...        ...        ...   \n",
       "132322              30                21   652950.0   357251.0   \n",
       "132323               0                19        NaN   381402.0   \n",
       "132324              17                17   281726.0   237917.0   \n",
       "132325               0                19        NaN   402135.0   \n",
       "132326              24                23   259794.0   241066.0   \n",
       "\n",
       "        total_rev_menwomen    exp_men  exp_women  total_exp_menwomen  \\\n",
       "0                 345592.0   397818.0        NaN            397818.0   \n",
       "1                1959928.0   817868.0   742460.0           1560328.0   \n",
       "2                 498907.0   246949.0   251184.0            498133.0   \n",
       "3                2808949.0  3059353.0        NaN           3059353.0   \n",
       "4                  78270.0    83913.0        NaN             83913.0   \n",
       "...                    ...        ...        ...                 ...   \n",
       "132322           1010201.0   652950.0   357251.0           1010201.0   \n",
       "132323            381402.0        NaN   381402.0            381402.0   \n",
       "132324            519643.0   281726.0   237917.0            519643.0   \n",
       "132325            402135.0        NaN   402135.0            402135.0   \n",
       "132326            500860.0   259794.0   241066.0            500860.0   \n",
       "\n",
       "                    sports  \n",
       "0                 Baseball  \n",
       "1               Basketball  \n",
       "2       All Track Combined  \n",
       "3                 Football  \n",
       "4                     Golf  \n",
       "...                    ...  \n",
       "132322              Soccer  \n",
       "132323            Softball  \n",
       "132324            Swimming  \n",
       "132325          Volleyball  \n",
       "132326           Wrestling  \n",
       "\n",
       "[132327 rows x 28 columns]"
      ]
     },
     "execution_count": 8,
     "metadata": {},
     "output_type": "execute_result"
    }
   ],
   "source": [
    "# Read in the data \n",
    "\n",
    "df = pd.read_csv('/Users/Marcy_Student/Downloads/sports.csv')\n",
    "df"
   ]
  },
  {
   "cell_type": "markdown",
   "metadata": {},
   "source": [
    "### Step 2:  Clean the Data and Only keep the Revenue Columns "
   ]
  },
  {
   "cell_type": "code",
   "execution_count": 9,
   "metadata": {},
   "outputs": [
    {
     "data": {
      "text/html": [
       "<div>\n",
       "<style scoped>\n",
       "    .dataframe tbody tr th:only-of-type {\n",
       "        vertical-align: middle;\n",
       "    }\n",
       "\n",
       "    .dataframe tbody tr th {\n",
       "        vertical-align: top;\n",
       "    }\n",
       "\n",
       "    .dataframe thead th {\n",
       "        text-align: right;\n",
       "    }\n",
       "</style>\n",
       "<table border=\"1\" class=\"dataframe\">\n",
       "  <thead>\n",
       "    <tr style=\"text-align: right;\">\n",
       "      <th></th>\n",
       "      <th>rev_men</th>\n",
       "      <th>rev_women</th>\n",
       "    </tr>\n",
       "  </thead>\n",
       "  <tbody>\n",
       "    <tr>\n",
       "      <th>1</th>\n",
       "      <td>1211095.0</td>\n",
       "      <td>748833.0</td>\n",
       "    </tr>\n",
       "    <tr>\n",
       "      <th>2</th>\n",
       "      <td>183333.0</td>\n",
       "      <td>315574.0</td>\n",
       "    </tr>\n",
       "    <tr>\n",
       "      <th>7</th>\n",
       "      <td>78274.0</td>\n",
       "      <td>131145.0</td>\n",
       "    </tr>\n",
       "    <tr>\n",
       "      <th>11</th>\n",
       "      <td>4189826.0</td>\n",
       "      <td>1966556.0</td>\n",
       "    </tr>\n",
       "    <tr>\n",
       "      <th>13</th>\n",
       "      <td>407728.0</td>\n",
       "      <td>346987.0</td>\n",
       "    </tr>\n",
       "    <tr>\n",
       "      <th>...</th>\n",
       "      <td>...</td>\n",
       "      <td>...</td>\n",
       "    </tr>\n",
       "    <tr>\n",
       "      <th>132319</th>\n",
       "      <td>403871.0</td>\n",
       "      <td>378615.0</td>\n",
       "    </tr>\n",
       "    <tr>\n",
       "      <th>132321</th>\n",
       "      <td>221193.0</td>\n",
       "      <td>224243.0</td>\n",
       "    </tr>\n",
       "    <tr>\n",
       "      <th>132322</th>\n",
       "      <td>652950.0</td>\n",
       "      <td>357251.0</td>\n",
       "    </tr>\n",
       "    <tr>\n",
       "      <th>132324</th>\n",
       "      <td>281726.0</td>\n",
       "      <td>237917.0</td>\n",
       "    </tr>\n",
       "    <tr>\n",
       "      <th>132326</th>\n",
       "      <td>259794.0</td>\n",
       "      <td>241066.0</td>\n",
       "    </tr>\n",
       "  </tbody>\n",
       "</table>\n",
       "<p>43614 rows × 2 columns</p>\n",
       "</div>"
      ],
      "text/plain": [
       "          rev_men  rev_women\n",
       "1       1211095.0   748833.0\n",
       "2        183333.0   315574.0\n",
       "7         78274.0   131145.0\n",
       "11      4189826.0  1966556.0\n",
       "13       407728.0   346987.0\n",
       "...           ...        ...\n",
       "132319   403871.0   378615.0\n",
       "132321   221193.0   224243.0\n",
       "132322   652950.0   357251.0\n",
       "132324   281726.0   237917.0\n",
       "132326   259794.0   241066.0\n",
       "\n",
       "[43614 rows x 2 columns]"
      ]
     },
     "execution_count": 9,
     "metadata": {},
     "output_type": "execute_result"
    }
   ],
   "source": [
    "# Drop the NAs on the revenue columns \n",
    "\n",
    "df_clean = df[['rev_men', 'rev_women']].dropna()\n",
    "df_clean\n"
   ]
  },
  {
   "cell_type": "markdown",
   "metadata": {},
   "source": [
    "### Step 3:  Compute Averages and Put in a New DataFrame "
   ]
  },
  {
   "cell_type": "code",
   "execution_count": 10,
   "metadata": {},
   "outputs": [
    {
     "data": {
      "text/html": [
       "<div>\n",
       "<style scoped>\n",
       "    .dataframe tbody tr th:only-of-type {\n",
       "        vertical-align: middle;\n",
       "    }\n",
       "\n",
       "    .dataframe tbody tr th {\n",
       "        vertical-align: top;\n",
       "    }\n",
       "\n",
       "    .dataframe thead th {\n",
       "        text-align: right;\n",
       "    }\n",
       "</style>\n",
       "<table border=\"1\" class=\"dataframe\">\n",
       "  <thead>\n",
       "    <tr style=\"text-align: right;\">\n",
       "      <th></th>\n",
       "      <th>Gender</th>\n",
       "      <th>Average Revenue</th>\n",
       "    </tr>\n",
       "  </thead>\n",
       "  <tbody>\n",
       "    <tr>\n",
       "      <th>0</th>\n",
       "      <td>Men</td>\n",
       "      <td>405013.608406</td>\n",
       "    </tr>\n",
       "    <tr>\n",
       "      <th>1</th>\n",
       "      <td>Women</td>\n",
       "      <td>269807.298711</td>\n",
       "    </tr>\n",
       "  </tbody>\n",
       "</table>\n",
       "</div>"
      ],
      "text/plain": [
       "  Gender  Average Revenue\n",
       "0    Men    405013.608406\n",
       "1  Women    269807.298711"
      ]
     },
     "execution_count": 10,
     "metadata": {},
     "output_type": "execute_result"
    }
   ],
   "source": [
    "# Compute averages\n",
    "avg_men = df_clean['rev_men'].mean()\n",
    "avg_women = df_clean['rev_women'].mean()\n",
    "\n",
    "# Put in a new DataFrame for plotting\n",
    "df_plot = pd.DataFrame({\n",
    "    \"Gender\": [\"Men\", \"Women\"],\n",
    "    \"Average Revenue\": [avg_men, avg_women]\n",
    "})\n",
    "df_plot"
   ]
  },
  {
   "cell_type": "markdown",
   "metadata": {},
   "source": [
    "### Step 4:  Plot the Data"
   ]
  },
  {
   "cell_type": "code",
   "execution_count": 11,
   "metadata": {},
   "outputs": [
    {
     "data": {
      "application/vnd.plotly.v1+json": {
       "config": {
        "plotlyServerURL": "https://plot.ly"
       },
       "data": [
        {
         "hovertemplate": "Gender=%{x}<br>Average Revenue=%{y}<extra></extra>",
         "legendgroup": "",
         "marker": {
          "color": "#636efa",
          "pattern": {
           "shape": ""
          }
         },
         "name": "",
         "orientation": "v",
         "showlegend": false,
         "textposition": "auto",
         "type": "bar",
         "x": [
          "Men",
          "Women"
         ],
         "xaxis": "x",
         "y": {
          "bdata": "190Bb1a4GEFCaOExvXcQQQ==",
          "dtype": "f8"
         },
         "yaxis": "y"
        }
       ],
       "layout": {
        "barmode": "relative",
        "legend": {
         "tracegroupgap": 0
        },
        "template": {
         "data": {
          "bar": [
           {
            "error_x": {
             "color": "#2a3f5f"
            },
            "error_y": {
             "color": "#2a3f5f"
            },
            "marker": {
             "line": {
              "color": "#E5ECF6",
              "width": 0.5
             },
             "pattern": {
              "fillmode": "overlay",
              "size": 10,
              "solidity": 0.2
             }
            },
            "type": "bar"
           }
          ],
          "barpolar": [
           {
            "marker": {
             "line": {
              "color": "#E5ECF6",
              "width": 0.5
             },
             "pattern": {
              "fillmode": "overlay",
              "size": 10,
              "solidity": 0.2
             }
            },
            "type": "barpolar"
           }
          ],
          "carpet": [
           {
            "aaxis": {
             "endlinecolor": "#2a3f5f",
             "gridcolor": "white",
             "linecolor": "white",
             "minorgridcolor": "white",
             "startlinecolor": "#2a3f5f"
            },
            "baxis": {
             "endlinecolor": "#2a3f5f",
             "gridcolor": "white",
             "linecolor": "white",
             "minorgridcolor": "white",
             "startlinecolor": "#2a3f5f"
            },
            "type": "carpet"
           }
          ],
          "choropleth": [
           {
            "colorbar": {
             "outlinewidth": 0,
             "ticks": ""
            },
            "type": "choropleth"
           }
          ],
          "contour": [
           {
            "colorbar": {
             "outlinewidth": 0,
             "ticks": ""
            },
            "colorscale": [
             [
              0,
              "#0d0887"
             ],
             [
              0.1111111111111111,
              "#46039f"
             ],
             [
              0.2222222222222222,
              "#7201a8"
             ],
             [
              0.3333333333333333,
              "#9c179e"
             ],
             [
              0.4444444444444444,
              "#bd3786"
             ],
             [
              0.5555555555555556,
              "#d8576b"
             ],
             [
              0.6666666666666666,
              "#ed7953"
             ],
             [
              0.7777777777777778,
              "#fb9f3a"
             ],
             [
              0.8888888888888888,
              "#fdca26"
             ],
             [
              1,
              "#f0f921"
             ]
            ],
            "type": "contour"
           }
          ],
          "contourcarpet": [
           {
            "colorbar": {
             "outlinewidth": 0,
             "ticks": ""
            },
            "type": "contourcarpet"
           }
          ],
          "heatmap": [
           {
            "colorbar": {
             "outlinewidth": 0,
             "ticks": ""
            },
            "colorscale": [
             [
              0,
              "#0d0887"
             ],
             [
              0.1111111111111111,
              "#46039f"
             ],
             [
              0.2222222222222222,
              "#7201a8"
             ],
             [
              0.3333333333333333,
              "#9c179e"
             ],
             [
              0.4444444444444444,
              "#bd3786"
             ],
             [
              0.5555555555555556,
              "#d8576b"
             ],
             [
              0.6666666666666666,
              "#ed7953"
             ],
             [
              0.7777777777777778,
              "#fb9f3a"
             ],
             [
              0.8888888888888888,
              "#fdca26"
             ],
             [
              1,
              "#f0f921"
             ]
            ],
            "type": "heatmap"
           }
          ],
          "histogram": [
           {
            "marker": {
             "pattern": {
              "fillmode": "overlay",
              "size": 10,
              "solidity": 0.2
             }
            },
            "type": "histogram"
           }
          ],
          "histogram2d": [
           {
            "colorbar": {
             "outlinewidth": 0,
             "ticks": ""
            },
            "colorscale": [
             [
              0,
              "#0d0887"
             ],
             [
              0.1111111111111111,
              "#46039f"
             ],
             [
              0.2222222222222222,
              "#7201a8"
             ],
             [
              0.3333333333333333,
              "#9c179e"
             ],
             [
              0.4444444444444444,
              "#bd3786"
             ],
             [
              0.5555555555555556,
              "#d8576b"
             ],
             [
              0.6666666666666666,
              "#ed7953"
             ],
             [
              0.7777777777777778,
              "#fb9f3a"
             ],
             [
              0.8888888888888888,
              "#fdca26"
             ],
             [
              1,
              "#f0f921"
             ]
            ],
            "type": "histogram2d"
           }
          ],
          "histogram2dcontour": [
           {
            "colorbar": {
             "outlinewidth": 0,
             "ticks": ""
            },
            "colorscale": [
             [
              0,
              "#0d0887"
             ],
             [
              0.1111111111111111,
              "#46039f"
             ],
             [
              0.2222222222222222,
              "#7201a8"
             ],
             [
              0.3333333333333333,
              "#9c179e"
             ],
             [
              0.4444444444444444,
              "#bd3786"
             ],
             [
              0.5555555555555556,
              "#d8576b"
             ],
             [
              0.6666666666666666,
              "#ed7953"
             ],
             [
              0.7777777777777778,
              "#fb9f3a"
             ],
             [
              0.8888888888888888,
              "#fdca26"
             ],
             [
              1,
              "#f0f921"
             ]
            ],
            "type": "histogram2dcontour"
           }
          ],
          "mesh3d": [
           {
            "colorbar": {
             "outlinewidth": 0,
             "ticks": ""
            },
            "type": "mesh3d"
           }
          ],
          "parcoords": [
           {
            "line": {
             "colorbar": {
              "outlinewidth": 0,
              "ticks": ""
             }
            },
            "type": "parcoords"
           }
          ],
          "pie": [
           {
            "automargin": true,
            "type": "pie"
           }
          ],
          "scatter": [
           {
            "fillpattern": {
             "fillmode": "overlay",
             "size": 10,
             "solidity": 0.2
            },
            "type": "scatter"
           }
          ],
          "scatter3d": [
           {
            "line": {
             "colorbar": {
              "outlinewidth": 0,
              "ticks": ""
             }
            },
            "marker": {
             "colorbar": {
              "outlinewidth": 0,
              "ticks": ""
             }
            },
            "type": "scatter3d"
           }
          ],
          "scattercarpet": [
           {
            "marker": {
             "colorbar": {
              "outlinewidth": 0,
              "ticks": ""
             }
            },
            "type": "scattercarpet"
           }
          ],
          "scattergeo": [
           {
            "marker": {
             "colorbar": {
              "outlinewidth": 0,
              "ticks": ""
             }
            },
            "type": "scattergeo"
           }
          ],
          "scattergl": [
           {
            "marker": {
             "colorbar": {
              "outlinewidth": 0,
              "ticks": ""
             }
            },
            "type": "scattergl"
           }
          ],
          "scattermap": [
           {
            "marker": {
             "colorbar": {
              "outlinewidth": 0,
              "ticks": ""
             }
            },
            "type": "scattermap"
           }
          ],
          "scattermapbox": [
           {
            "marker": {
             "colorbar": {
              "outlinewidth": 0,
              "ticks": ""
             }
            },
            "type": "scattermapbox"
           }
          ],
          "scatterpolar": [
           {
            "marker": {
             "colorbar": {
              "outlinewidth": 0,
              "ticks": ""
             }
            },
            "type": "scatterpolar"
           }
          ],
          "scatterpolargl": [
           {
            "marker": {
             "colorbar": {
              "outlinewidth": 0,
              "ticks": ""
             }
            },
            "type": "scatterpolargl"
           }
          ],
          "scatterternary": [
           {
            "marker": {
             "colorbar": {
              "outlinewidth": 0,
              "ticks": ""
             }
            },
            "type": "scatterternary"
           }
          ],
          "surface": [
           {
            "colorbar": {
             "outlinewidth": 0,
             "ticks": ""
            },
            "colorscale": [
             [
              0,
              "#0d0887"
             ],
             [
              0.1111111111111111,
              "#46039f"
             ],
             [
              0.2222222222222222,
              "#7201a8"
             ],
             [
              0.3333333333333333,
              "#9c179e"
             ],
             [
              0.4444444444444444,
              "#bd3786"
             ],
             [
              0.5555555555555556,
              "#d8576b"
             ],
             [
              0.6666666666666666,
              "#ed7953"
             ],
             [
              0.7777777777777778,
              "#fb9f3a"
             ],
             [
              0.8888888888888888,
              "#fdca26"
             ],
             [
              1,
              "#f0f921"
             ]
            ],
            "type": "surface"
           }
          ],
          "table": [
           {
            "cells": {
             "fill": {
              "color": "#EBF0F8"
             },
             "line": {
              "color": "white"
             }
            },
            "header": {
             "fill": {
              "color": "#C8D4E3"
             },
             "line": {
              "color": "white"
             }
            },
            "type": "table"
           }
          ]
         },
         "layout": {
          "annotationdefaults": {
           "arrowcolor": "#2a3f5f",
           "arrowhead": 0,
           "arrowwidth": 1
          },
          "autotypenumbers": "strict",
          "coloraxis": {
           "colorbar": {
            "outlinewidth": 0,
            "ticks": ""
           }
          },
          "colorscale": {
           "diverging": [
            [
             0,
             "#8e0152"
            ],
            [
             0.1,
             "#c51b7d"
            ],
            [
             0.2,
             "#de77ae"
            ],
            [
             0.3,
             "#f1b6da"
            ],
            [
             0.4,
             "#fde0ef"
            ],
            [
             0.5,
             "#f7f7f7"
            ],
            [
             0.6,
             "#e6f5d0"
            ],
            [
             0.7,
             "#b8e186"
            ],
            [
             0.8,
             "#7fbc41"
            ],
            [
             0.9,
             "#4d9221"
            ],
            [
             1,
             "#276419"
            ]
           ],
           "sequential": [
            [
             0,
             "#0d0887"
            ],
            [
             0.1111111111111111,
             "#46039f"
            ],
            [
             0.2222222222222222,
             "#7201a8"
            ],
            [
             0.3333333333333333,
             "#9c179e"
            ],
            [
             0.4444444444444444,
             "#bd3786"
            ],
            [
             0.5555555555555556,
             "#d8576b"
            ],
            [
             0.6666666666666666,
             "#ed7953"
            ],
            [
             0.7777777777777778,
             "#fb9f3a"
            ],
            [
             0.8888888888888888,
             "#fdca26"
            ],
            [
             1,
             "#f0f921"
            ]
           ],
           "sequentialminus": [
            [
             0,
             "#0d0887"
            ],
            [
             0.1111111111111111,
             "#46039f"
            ],
            [
             0.2222222222222222,
             "#7201a8"
            ],
            [
             0.3333333333333333,
             "#9c179e"
            ],
            [
             0.4444444444444444,
             "#bd3786"
            ],
            [
             0.5555555555555556,
             "#d8576b"
            ],
            [
             0.6666666666666666,
             "#ed7953"
            ],
            [
             0.7777777777777778,
             "#fb9f3a"
            ],
            [
             0.8888888888888888,
             "#fdca26"
            ],
            [
             1,
             "#f0f921"
            ]
           ]
          },
          "colorway": [
           "#636efa",
           "#EF553B",
           "#00cc96",
           "#ab63fa",
           "#FFA15A",
           "#19d3f3",
           "#FF6692",
           "#B6E880",
           "#FF97FF",
           "#FECB52"
          ],
          "font": {
           "color": "#2a3f5f"
          },
          "geo": {
           "bgcolor": "white",
           "lakecolor": "white",
           "landcolor": "#E5ECF6",
           "showlakes": true,
           "showland": true,
           "subunitcolor": "white"
          },
          "hoverlabel": {
           "align": "left"
          },
          "hovermode": "closest",
          "mapbox": {
           "style": "light"
          },
          "paper_bgcolor": "white",
          "plot_bgcolor": "#E5ECF6",
          "polar": {
           "angularaxis": {
            "gridcolor": "white",
            "linecolor": "white",
            "ticks": ""
           },
           "bgcolor": "#E5ECF6",
           "radialaxis": {
            "gridcolor": "white",
            "linecolor": "white",
            "ticks": ""
           }
          },
          "scene": {
           "xaxis": {
            "backgroundcolor": "#E5ECF6",
            "gridcolor": "white",
            "gridwidth": 2,
            "linecolor": "white",
            "showbackground": true,
            "ticks": "",
            "zerolinecolor": "white"
           },
           "yaxis": {
            "backgroundcolor": "#E5ECF6",
            "gridcolor": "white",
            "gridwidth": 2,
            "linecolor": "white",
            "showbackground": true,
            "ticks": "",
            "zerolinecolor": "white"
           },
           "zaxis": {
            "backgroundcolor": "#E5ECF6",
            "gridcolor": "white",
            "gridwidth": 2,
            "linecolor": "white",
            "showbackground": true,
            "ticks": "",
            "zerolinecolor": "white"
           }
          },
          "shapedefaults": {
           "line": {
            "color": "#2a3f5f"
           }
          },
          "ternary": {
           "aaxis": {
            "gridcolor": "white",
            "linecolor": "white",
            "ticks": ""
           },
           "baxis": {
            "gridcolor": "white",
            "linecolor": "white",
            "ticks": ""
           },
           "bgcolor": "#E5ECF6",
           "caxis": {
            "gridcolor": "white",
            "linecolor": "white",
            "ticks": ""
           }
          },
          "title": {
           "x": 0.05
          },
          "xaxis": {
           "automargin": true,
           "gridcolor": "white",
           "linecolor": "white",
           "ticks": "",
           "title": {
            "standoff": 15
           },
           "zerolinecolor": "white",
           "zerolinewidth": 2
          },
          "yaxis": {
           "automargin": true,
           "gridcolor": "white",
           "linecolor": "white",
           "ticks": "",
           "title": {
            "standoff": 15
           },
           "zerolinecolor": "white",
           "zerolinewidth": 2
          }
         }
        },
        "title": {
         "text": "Average Sports Revenue by Gender"
        },
        "xaxis": {
         "anchor": "y",
         "domain": [
          0,
          1
         ],
         "title": {
          "text": "Gender"
         }
        },
        "yaxis": {
         "anchor": "x",
         "domain": [
          0,
          1
         ],
         "title": {
          "text": "Average Revenue"
         }
        }
       }
      }
     },
     "metadata": {},
     "output_type": "display_data"
    }
   ],
   "source": [
    "# Plot grouped bar chart of Gender and Average Revenue \n",
    "fig = px.bar(df_plot, x=\"Gender\", y=\"Average Revenue\", title=\"Average Sports Revenue by Gender\")\n",
    "fig.show()"
   ]
  },
  {
   "cell_type": "markdown",
   "metadata": {},
   "source": [
    "### Step 4 Build the Dash App"
   ]
  },
  {
   "cell_type": "code",
   "execution_count": null,
   "metadata": {},
   "outputs": [
    {
     "data": {
      "text/html": [
       "\n",
       "        <iframe\n",
       "            width=\"100%\"\n",
       "            height=\"650\"\n",
       "            src=\"http://127.0.0.1:8050/\"\n",
       "            frameborder=\"0\"\n",
       "            allowfullscreen\n",
       "            \n",
       "        ></iframe>\n",
       "        "
      ],
      "text/plain": [
       "<IPython.lib.display.IFrame at 0x13dfb0cd0>"
      ]
     },
     "metadata": {},
     "output_type": "display_data"
    },
    {
     "ename": "",
     "evalue": "",
     "output_type": "error",
     "traceback": [
      "\u001b[1;31mThe Kernel crashed while executing code in the current cell or a previous cell. \n",
      "\u001b[1;31mPlease review the code in the cell(s) to identify a possible cause of the failure. \n",
      "\u001b[1;31mClick <a href='https://aka.ms/vscodeJupyterKernelCrash'>here</a> for more info. \n",
      "\u001b[1;31mView Jupyter <a href='command:jupyter.viewOutput'>log</a> for further details."
     ]
    }
   ],
   "source": [
    "app = dash.Dash(__name__)\n",
    "app.title = 'Average Sports Revenue by Gender'\n",
    "\n",
    "app.layout = html.Div([\n",
    "    html.H1(\"Average Sports Revenue by Gender\", style={'textAlign': 'center'}),\n",
    "    dcc.Graph(figure=fig)\n",
    "])\n",
    "\n",
    "if __name__ == \"__main__\":\n",
    "    app.run(debug=True, port=8050)"
   ]
  },
  {
   "cell_type": "markdown",
   "metadata": {},
   "source": [
    "### Step 5:  View in Browser\n",
    "\n",
    "Open up a browser to see if it pops up:  http://localhost:8050/\n"
   ]
  }
 ],
 "metadata": {
  "kernelspec": {
   "display_name": "data-analysis-env",
   "language": "python",
   "name": "python3"
  },
  "language_info": {
   "codemirror_mode": {
    "name": "ipython",
    "version": 3
   },
   "file_extension": ".py",
   "mimetype": "text/x-python",
   "name": "python",
   "nbconvert_exporter": "python",
   "pygments_lexer": "ipython3",
   "version": "3.9.22"
  }
 },
 "nbformat": 4,
 "nbformat_minor": 2
}
