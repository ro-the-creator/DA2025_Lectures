{
 "cells": [
  {
   "cell_type": "markdown",
   "metadata": {},
   "source": [
    "# Data Challenge: Creating Interactive Plotly Visuals\n",
    "\n",
    "## Targeted KSBs (Knowledge, Skills, and Behaviors)\n",
    "\n",
    "- **S6** – Demonstrates mastery in creating dynamic visualizations using Python (Plotly)\n",
    "- **K10** – Applies chart selection principles based on data types, variables, and audience needs\n",
    "- **S12** – Performs comprehensive data exploration to uncover patterns and relationships\n",
    "\n",
    "---\n",
    "\n",
    "## Dataset Description:\n",
    "\n",
    "This dataset contains information about various Indian sweets, including their ingredients, preparation time, and flavor profile.  You can read more about the data [Here](https://www.kaggle.com/datasets/nehaprabhavalkar/indian-food-101?select=indian_food.csv)\n",
    "\n",
    "---\n",
    "\n",
    "## Task 1: Plot a Scatter Plot of Prep Time vs Cook Time\n",
    "### Objective:\n",
    "Create a line chart showing the relationship between **prep time** and **cook time** for each food item. Use Plotly to visualize these two variables and identify any patterns.\n",
    "\n",
    "### Instructions:\n",
    "1. **Load the dataset** using `pandas`.\n",
    "2. Use **Plotly Express** to create a **scatterplot**.\n",
    "3. Set **prep_time** on the x-axis and **cook_time** on the y-axis.\n",
    "4. **Label** the axes appropriately and add a **title** for clarity."
   ]
  },
  {
   "cell_type": "code",
   "execution_count": null,
   "metadata": {},
   "outputs": [],
   "source": [
    "#Run this cell without changes \n",
    "import pandas as pd \n",
    "import plotly_express as px"
   ]
  },
  {
   "cell_type": "code",
   "execution_count": null,
   "metadata": {},
   "outputs": [],
   "source": [
    "# Read in the data (data/indian_food.csv) -- Hint use pandas to read in the CSV \n",
    "\n",
    "df = None"
   ]
  },
  {
   "cell_type": "code",
   "execution_count": null,
   "metadata": {},
   "outputs": [],
   "source": [
    "# Create a scatterplot of prep_time on X-axis & cook_time on Y-axis \n",
    "\n",
    "fig = px.scatter(df, x=None, y=None, title=None)\n",
    "\n",
    "# Show the plot\n",
    "fig.show()"
   ]
  },
  {
   "cell_type": "markdown",
   "metadata": {},
   "source": [
    "### What insights did you get from Task 1? (Double-click to type answer)"
   ]
  },
  {
   "cell_type": "markdown",
   "metadata": {},
   "source": [
    "## Task 2: Bar Chart of Cook Time by Region\n",
    "\n",
    "### Objective:\n",
    "Create a bar chart that shows the average cook time for each region. This will help us understand the cooking time distribution across different regions.  **There is a \"weird\" bar in the chart why is that the case??**\n",
    "\n",
    "\n",
    "### Instructions:\n",
    "- Group the data by the region. (Hint:  may need a df.groupby() method here!)\n",
    "\n",
    "- Calculate the average cook time for each region.\n",
    "\n",
    "- Create a bar chart using Plotly to show this average cook time for each region.\n",
    "\n",
    "- Label the axes and title the chart."
   ]
  },
  {
   "cell_type": "code",
   "execution_count": null,
   "metadata": {},
   "outputs": [],
   "source": [
    "# Task 2: Create a bar chart showing the average cook time by region\n",
    "# Fill in the code to group by region and calculate the average cook time\n",
    "df_region_avg = df.groupby(None)[None].mean().reset_index()\n",
    "\n",
    "# Create the bar chart\n",
    "fig = None(df_region_avg, x=None, y=None, title=\"Average Cook Time by Region\")\n",
    "\n",
    "# Show the plot\n",
    "None\n"
   ]
  },
  {
   "cell_type": "markdown",
   "metadata": {},
   "source": [
    "### What insights did you get from Task 2? (Double-click to type answer)"
   ]
  },
  {
   "cell_type": "markdown",
   "metadata": {},
   "source": [
    "## Task 3: Pie Chart of Flavor Profile Distribution\n",
    "\n",
    "### Objective:\n",
    "Create a pie chart showing the distribution of flavor profiles (e.g., sweet, savory) across the dataset.\n",
    "\n",
    "### Instructions:\n",
    "- Use Plotly Express to create a pie chart.\n",
    "\n",
    "- Plot the flavor_profile column, which will show the distribution of flavor types.\n",
    "\n",
    "- Ensure the chart is labeled clearly."
   ]
  },
  {
   "cell_type": "code",
   "execution_count": null,
   "metadata": {},
   "outputs": [],
   "source": [
    "# Task 3: Create a pie chart showing the flavor profile distribution\n",
    "# Fill in the code to create the pie chart -- look up documentation if needed \n",
    "fig = None \n",
    "\n",
    "# Show the plot\n",
    "fig.show()\n"
   ]
  },
  {
   "cell_type": "markdown",
   "metadata": {},
   "source": [
    "### What insights did you get from Task 3? (Double-click to type answer)"
   ]
  }
 ],
 "metadata": {
  "kernelspec": {
   "display_name": "Python (learn-env)",
   "language": "python",
   "name": "learn-env"
  },
  "language_info": {
   "codemirror_mode": {
    "name": "ipython",
    "version": 3
   },
   "file_extension": ".py",
   "mimetype": "text/x-python",
   "name": "python",
   "nbconvert_exporter": "python",
   "pygments_lexer": "ipython3",
   "version": "3.12.4"
  }
 },
 "nbformat": 4,
 "nbformat_minor": 2
}
