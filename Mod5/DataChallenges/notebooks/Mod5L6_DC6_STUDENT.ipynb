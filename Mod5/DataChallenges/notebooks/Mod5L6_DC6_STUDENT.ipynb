{
 "cells": [
  {
   "cell_type": "markdown",
   "metadata": {},
   "source": [
    "## 🛠️ Mod5 Data Challenge 6: Segmentation & RFM\n",
    "\n",
    "\n",
    "**Why this activity?**  \n",
    "You will practice building **RFM segmentation** from real e-commerce transactions to answer: *Who are our best customers, who is at risk, and who should we win back?*\n",
    "\n",
    "**Dataset:** UCI Online Retail II (Excel, 2009–2011). \n",
    "\n",
    "**Goals — You will be able to:**\n",
    "1) Load and minimally prepare real transaction data for RFM.  \n",
    "2) Compute **Recency, Frequency, Monetary** per customer.  \n",
    "3) Score and label simple **RFM segments**.  \n",
    "4) Interpret segments into **business actions**.\n",
    "\n",
    "**Interview practice:**\n",
    "- **Q1:** Give two concrete actions you’d take from an RFM analysis.  \n",
    "- **Q2:** How would you adapt RFM for a product with no revenue (e.g., a music app)?\n",
    "\n"
   ]
  },
  {
   "cell_type": "markdown",
   "metadata": {},
   "source": [
    "### 👩‍🏫 Instructor-Led Demo (20 minutes)"
   ]
  },
  {
   "cell_type": "markdown",
   "metadata": {},
   "source": [
    "### Step 1 — Load the Online Retail II Excel and prepare fields\n",
    "\n",
    "We will:\n",
    "1) Read both sheets from the Excel file and concatenate.  \n",
    "2) Parse dates.  \n",
    "3) Drop rows with missing **CustomerID** (needed for RFM).  \n",
    "4) Create **activity_date** alias from `InvoiceDate`.  \n",
    "5) Create **line_total = Quantity * UnitPrice** (we’ll use positive line totals for Monetary).\n",
    "\n",
    "**Speaker Notes:**  \n",
    "We keep setup minimal. For **Monetary**, we’ll use **positive line totals only** to avoid refunds/returns making negative spend dominate segments. In production, you’d decide whether to net refunds or keep separate KPIs.\n",
    "\n"
   ]
  },
  {
   "cell_type": "code",
   "execution_count": null,
   "metadata": {},
   "outputs": [],
   "source": [
    "# import packages per usual \n",
    "import pandas as pd\n",
    "import numpy as np\n",
    "import seaborn as sns\n",
    "import matplotlib.pyplot as plt\n",
    "from datetime import timedelta"
   ]
  },
  {
   "cell_type": "code",
   "execution_count": null,
   "metadata": {},
   "outputs": [],
   "source": [
    "#YOU'VE SEEN THIS CODE ALREADY :) \n",
    "\n",
    "# Path to your downloaded Excel file\n",
    "DATA_PATH = None\n",
    "\n",
    "# 1) Read both sheets and concatenate\n",
    "sheets = [\"Year 2009-2010\", \"Year 2010-2011\"]\n",
    "df_list = [pd.read_excel(DATA_PATH, sheet_name=s, engine=\"openpyxl\") for s in sheets]\n",
    "df = pd.concat(df_list, ignore_index=True)\n",
    "\n",
    "# 2) Parse datetime\n",
    "df[\"InvoiceDate\"] = pd.to_datetime(df[\"InvoiceDate\"], errors=\"coerce\")\n",
    "\n",
    "# 3) Drop missing CustomerID (required to build RFM)\n",
    "df = df.dropna(subset=[\"Customer ID\"]).copy()\n",
    "df[\"Customer ID\"] = df[\"Customer ID\"].astype(int)\n",
    "\n",
    "# 4) Activity date alias\n",
    "df[\"activity_date\"] = df[\"InvoiceDate\"]\n",
    "\n",
    "# 5) Line total (Monetary basis uses positive spend only)\n",
    "df[\"line_total\"] = df[\"Quantity\"] * df[\"Price\"]\n",
    "snapshot_date = df[\"InvoiceDate\"].max().normalize() + pd.Timedelta(days=1)\n",
    "\n",
    "df.head()\n"
   ]
  },
  {
   "cell_type": "markdown",
   "metadata": {},
   "source": [
    "### Step 2 — Select a market and compute RFM\n",
    "We will:  \n",
    "1) Filter to `Country == \"United Kingdom\"`  \n",
    "2) Compute:  \n",
    "   - **Recency**: days since last invoice  \n",
    "   - **Frequency**: # of unique invoices per customer  \n",
    "   - **Monetary**: total revenue per customer (can be negative if net refunds)\n",
    "\n",
    "**Speaker Notes:**  \n",
    "Frequency as **unique invoices** avoids inflating frequent line items on the same order.\n"
   ]
  },
  {
   "cell_type": "code",
   "execution_count": null,
   "metadata": {},
   "outputs": [],
   "source": [
    "df_uk = None\n",
    "\n",
    "rfm_uk = (\n",
    "    df_uk.groupby(\"Customer ID\")\n",
    "          .agg(\n",
    "              Recency=(\"InvoiceDate\", lambda s: (snapshot_date - s.max()).days),\n",
    "              Frequency=(\"Invoice\", \"nunique\"),\n",
    "              Monetary=(\"Price\", \"sum\")\n",
    "          )\n",
    "          .reset_index()\n",
    ")\n",
    "\n",
    "rfm_uk.head()\n"
   ]
  },
  {
   "cell_type": "markdown",
   "metadata": {},
   "source": [
    "### Step 3 — Score R, F, M and label segments\n",
    "We will:  \n",
    "1) Score each metric into **quartiles** (1–4)  \n",
    "   - **Recency**: lower is better → labels `[4,3,2,1]`  \n",
    "   - **Frequency/Monetary**: higher is better → labels `[1,2,3,4]`  \n",
    "2) Combine to an **RFM_Score** (e.g., 443)  \n",
    "3) Map simple labels (Champions, Loyal, At‑Risk, Lost)\n",
    "\n",
    "**Speaker Notes:**  \n",
    "Label rules are business‑defined. Keep logic simple and transparent.\n"
   ]
  },
  {
   "cell_type": "code",
   "execution_count": null,
   "metadata": {},
   "outputs": [],
   "source": [
    "# Avoid errors if too few unique values for qcut:\n",
    "def safe_qcut(x, q, labels):\n",
    "    try:\n",
    "        return pd.qcut(x.rank(method=\"first\"), q, labels=labels)\n",
    "    except ValueError:\n",
    "        # fallback: all middle score if not enough unique values\n",
    "        return pd.Series([labels[len(labels)//2]] * len(x), index=x.index)\n",
    "\n",
    "# Scores\n",
    "r_scores = pd.qcut(rfm_uk[\"Recency\"], 4, labels=[4,3,2,1])  # lower recency = better\n",
    "f_scores = safe_qcut(rfm_uk[\"Frequency\"], 4, labels=[1,2,3,4])\n",
    "m_scores = None\n",
    "\n",
    "rfm_uk[\"R_score\"] = r_scores.astype(int)\n",
    "rfm_uk[\"F_score\"] = f_scores.astype(int)\n",
    "rfm_uk[\"M_score\"] = m_scores.astype(int)\n",
    "rfm_uk[\"RFM_Score\"] = None\n",
    "\n",
    "# Simple labeler\n",
    "def label_rfm(row):\n",
    "    r,f,m = row[\"R_score\"], row[\"F_score\"], row[\"M_score\"]\n",
    "    if r>=3 and f>=3 and m>=3:\n",
    "        return \"Champions\"\n",
    "    if r>=3 and f>=2:\n",
    "        return \"Loyal\"\n",
    "    if r<=2 and f>=3 and m>=3:\n",
    "        return \"At-Risk Loyalists\"\n",
    "    if r<=2 and f<=2 and m<=2:\n",
    "        return \"Lost\"\n",
    "    return \"Others\"\n",
    "\n",
    "rfm_uk[\"Segment\"] = rfm_uk.apply(label_rfm, axis=1)\n",
    "\n",
    "rfm_uk.head()"
   ]
  },
  {
   "cell_type": "markdown",
   "metadata": {},
   "source": [
    "### Step 4 — Summarize segments & propose actions\n",
    "\n",
    "We will:  \n",
    "1) Count customers per segment  \n",
    "2) Compute total Monetary by segment (optional)  \n",
    "3) List **actions** per segment (e.g., loyalty, win‑back)\n",
    "\n",
    "**Speaker Notes:**  \n",
    "Tie segments to decisions (email, pricing, UX). Emphasize clarity over complexity.\n"
   ]
  },
  {
   "cell_type": "code",
   "execution_count": null,
   "metadata": {},
   "outputs": [],
   "source": [
    "seg_counts = rfm_uk[\"Segment\"].value_counts().rename_axis(\"Segment\").to_frame(\"Customers\")\n",
    "seg_value  = rfm_uk.groupby(\"Segment\")[\"Monetary\"].sum().to_frame(\"Total_Monetary\").sort_values(\"Total_Monetary\", ascending=False)\n",
    "\n",
    "display(seg_counts)\n",
    "display(seg_value)\n",
    "\n",
    "# Example actions (as a dict, could be converted to a table)\n",
    "segment_actions = {\n",
    "    \"Champions\": \"VIP perks, early access, referrals\",\n",
    "    \"Loyal\": \"Tiered rewards, personalized recommendations\",\n",
    "    \"At-Risk Loyalists\": \"Win-back offers, survey for friction\",\n",
    "    \"Lost\": \"Exit survey, targeted reactivation\",\n",
    "    \"Others\": \"Onboarding education, nudges\"\n",
    "}\n",
    "segment_actions\n"
   ]
  },
  {
   "cell_type": "markdown",
   "metadata": {},
   "source": [
    "### 👩‍🏫 Student Led (30 minutes) -- ANSWER KEY"
   ]
  },
  {
   "cell_type": "markdown",
   "metadata": {},
   "source": [
    "### Step 1 — Use the original dataframe (`df`) above and Filter to Germany and compute RFM\n",
    " \n",
    "1) Filter `Country == \"Germany\"`  \n",
    "2) Compute Recency (days since last invoice), Frequency (# unique invoices), Monetary (sum of amount)"
   ]
  },
  {
   "cell_type": "code",
   "execution_count": null,
   "metadata": {},
   "outputs": [],
   "source": [
    "# 1) Filter to Germany\n",
    "df_de = None  \n",
    "\n",
    "# 2) Compute RFM\n",
    "rfm_de = None  \n",
    "\n",
    "\n",
    "rfm_de.head()\n"
   ]
  },
  {
   "cell_type": "markdown",
   "metadata": {},
   "source": [
    "### Step 2 — Score R, F, M and label segments\n",
    "\n",
    "1) Create R, F, M scores (quartiles)  \n",
    "2) Combine into `RFM_Score`  \n",
    "3) Label segments with simple, explainable rules\n"
   ]
  },
  {
   "cell_type": "code",
   "execution_count": null,
   "metadata": {},
   "outputs": [],
   "source": [
    "# Helper for qcut with few uniques\n",
    "def safe_qcut(x, q, labels):\n",
    "    try:\n",
    "        return pd.qcut(x.rank(method=\"first\"), q, labels=labels)\n",
    "    except ValueError:\n",
    "        return pd.Series([labels[len(labels)//2]] * len(x), index=x.index)\n",
    "\n",
    "# Scores (fill in)\n",
    "r_scores = None  \n",
    "f_scores = None \n",
    "m_scores = None  \n",
    "\n",
    "rfm_de[\"R_score\"] = None  \n",
    "rfm_de[\"F_score\"] = None  \n",
    "rfm_de[\"M_score\"] = None  \n",
    "rfm_de[\"RFM_Score\"] = None  \n",
    "\n",
    " \n",
    " #Feel free to change the labels if you like :)\n",
    " def label_rfm(row):\n",
    "   r,f,m = row[\"R_score\"], row[\"F_score\"], row[\"M_score\"]\n",
    "    if r>=3 and f>=3 and m>=3:\n",
    "        return \"Champions\"\n",
    "    if r>=3 and f>=2:\n",
    "        return \"Loyal\"\n",
    "    if r<=2 and f>=3 and m>=3:\n",
    "        return \"At-Risk Loyalists\"\n",
    "    if r<=2 and f<=2 and m<=2:\n",
    "        return \"Lost\"\n",
    "    return \"Others\"\n",
    "\n",
    "rfm_de[\"Segment\"] = None  \n",
    "rfm_de.head(10)\n"
   ]
  },
  {
   "cell_type": "markdown",
   "metadata": {},
   "source": [
    "### Step 3 — Summarize segments and propose actions\n",
    "\n",
    "1) Count customers per segment  \n",
    "2) Compute total Monetary per segment (optional)  \n",
    "3) Suggest 1 concrete action per major segment for **Germany**\n"
   ]
  },
  {
   "cell_type": "code",
   "execution_count": null,
   "metadata": {},
   "outputs": [],
   "source": [
    "seg_counts_de = None\n",
    "seg_value_de  = None\n",
    "\n",
    "display(seg_counts_de)\n",
    "display(seg_value_de)"
   ]
  },
  {
   "cell_type": "markdown",
   "metadata": {},
   "source": [
    "## Wrap‑Up (10 mins): Turning RFM into Action\n",
    "\n",
    "Students:  Be prepared to compare UKs vs. Germany's RFM/insights :)\n",
    "\n",
    "- **Explainability:** RFM is transparent—every stakeholder can understand Recency, Frequency, Monetary.\n",
    "- **Actionability:** Map segments to clear plays:\n",
    "  - **Champions:** VIP perks, early access, referrals\n",
    "  - **Loyal:** Tiered rewards, personalized bundles\n",
    "  - **At‑Risk Loyalists:** Win‑back offers, friction survey\n",
    "  - **Lost:** Lightweight reactivation or exit survey\n",
    "- **Caveats:** Monetary can be negative if refunds dominate—decide whether to clamp at 0 for your use case.\n",
    "- **Next steps:**  \n",
    "  - Compare countries or channels;  \n",
    "  - Try deciles (1–10) for finer splits;  \n",
    "  - Track segment movement month‑over‑month.\n"
   ]
  }
 ],
 "metadata": {
  "kernelspec": {
   "display_name": "Python (learn-env)",
   "language": "python",
   "name": "learn-env"
  },
  "language_info": {
   "codemirror_mode": {
    "name": "ipython",
    "version": 3
   },
   "file_extension": ".py",
   "mimetype": "text/x-python",
   "name": "python",
   "nbconvert_exporter": "python",
   "pygments_lexer": "ipython3",
   "version": "3.12.4"
  }
 },
 "nbformat": 4,
 "nbformat_minor": 2
}
