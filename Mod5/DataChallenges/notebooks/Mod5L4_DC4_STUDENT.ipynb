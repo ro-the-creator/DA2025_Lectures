{
 "cells": [
  {
   "cell_type": "markdown",
   "metadata": {},
   "source": [
    "## 🛠️ Mod5 Data Challenge 4: Funnels & Step Conversions \n",
    "\n",
    "\n",
    "### **Goal:** Build a simple funnel using Olist’s public marketing data:\n",
    "1) **MQL**: all marketing qualified leads (MQLs)\n",
    "2) **Contacted**: leads with a non-null `first_contact_date`\n",
    "3) **Won**: leads that appear in `closed_deals` (i.e., `won_date` not null)\n",
    "\n",
    "We’ll compute counts and conversion rates overall and by **origin** (channel).\n",
    "\n",
    "### Data\n",
    "A marketing dataset by the Olist Store (one-year time frame).  Two files (one with \"leads\" the other with \"closed deals\")  Read more about the data [HERE](https://www.kaggle.com/datasets/olistbr/marketing-funnel-olist/data?select=olist_marketing_qualified_leads_dataset.csv).   "
   ]
  },
  {
   "cell_type": "markdown",
   "metadata": {},
   "source": [
    "### 👩‍🏫 Instructor-Led Demo (25 minutes)"
   ]
  },
  {
   "cell_type": "markdown",
   "metadata": {},
   "source": [
    "#### Step 0:  Load both data files, format date columns, AND JOIN them together"
   ]
  },
  {
   "cell_type": "code",
   "execution_count": null,
   "metadata": {},
   "outputs": [],
   "source": [
    "import pandas as pd\n",
    "import numpy as np\n",
    "\n",
    "#mql is the marketing qualified leads and closed is the closed deals \n",
    "\n",
    "mql = None\n",
    "closed = None\n",
    "\n",
    "# Standardize date columns to datetime objects\n",
    "mql['first_contact_date'] = pd.to_datetime(mql.get('first_contact_date'))\n",
    "closed['won_date'] = None\n",
    "\n",
    "# Join on mql_id to mark closed/won\n",
    "funnel = mql.merge(None)\n",
    "\n",
    "# Robust channel column (named 'origin' in the dataset)\n",
    "channel_col = 'origin' if 'origin' in funnel.columns else None\n",
    "if channel_col is None:\n",
    "    # if channel missing, create a single bucket\n",
    "    funnel['origin'] = 'All'\n",
    "    channel_col = 'origin'\n",
    "\n",
    "funnel.head(3)"
   ]
  },
  {
   "cell_type": "markdown",
   "metadata": {},
   "source": [
    "#### Step 1:  Define the Funnel\n"
   ]
  },
  {
   "cell_type": "code",
   "execution_count": null,
   "metadata": {},
   "outputs": [],
   "source": [
    "# Binary flags for each step\n",
    "funnel['is_mql'] = 1\n",
    "funnel['is_contacted'] = funnel['first_contact_date'].notna().astype(int)\n",
    "funnel['is_won'] = None\n",
    "\n",
    "steps = ['is_mql', 'is_contacted', 'is_won']\n"
   ]
  },
  {
   "cell_type": "markdown",
   "metadata": {},
   "source": [
    "#### Step 2:  Create the Step-to-step conversion columns for an Overall Funnel (across ALL origins)\n",
    "\n",
    "Students:  What does the `overall_conv` of `is_won` tell you?"
   ]
  },
  {
   "cell_type": "code",
   "execution_count": null,
   "metadata": {},
   "outputs": [],
   "source": [
    "overall = funnel[steps].sum().to_frame('count')\n",
    "overall['step'] = overall.index.map({'is_mql':'MQL','is_contacted':'Contacted','is_won':'Won'})\n",
    "overall = overall[['step','count']]\n",
    "\n",
    "# Step-to-step conversion\n",
    "overall['step_conv'] = overall['count'] / overall['count'].shift(1)\n",
    "\n",
    "# Overall conversion (from first step)\n",
    "overall['overall_conv'] = None\n",
    "overall['step_conv'] = (overall['step_conv']*100).round(2)\n",
    "overall['overall_conv'] = None\n",
    "overall\n"
   ]
  },
  {
   "cell_type": "markdown",
   "metadata": {},
   "source": [
    "#### Step 3:  Create a Funnel by Channel (counts + rates)\n",
    "\n",
    "Students:  What are some important insights from the results?  Would you recommend a marketing team to use one origin over the other? "
   ]
  },
  {
   "cell_type": "code",
   "execution_count": null,
   "metadata": {},
   "outputs": [],
   "source": [
    "by_ch = (funnel\n",
    "         .groupby(channel_col)[steps]\n",
    "         .sum()\n",
    "         .sort_values('is_mql', ascending=False))\n",
    "\n",
    "# Compute rates per channel row\n",
    "rates = by_ch.copy()\n",
    "rates['contacted_rate'] = (rates['is_contacted'] / rates['is_mql']).round(3)\n",
    "rates['won_rate']       = None\n",
    "rates['overall_rate']   = None\n",
    "\n",
    "# Tidy view\n",
    "out = by_ch.join(rates[['contacted_rate','won_rate','overall_rate']])\n",
    "out\n"
   ]
  },
  {
   "cell_type": "markdown",
   "metadata": {},
   "source": [
    "#### Instructor Section Notes: Interpreting the Output\n",
    "\n",
    "- **Largest drop** is usually MQL → Contacted (sales team reach rate).\n",
    "- **Won_rate** captures how many contacted leads ultimately close; it varies by origin.\n",
    "- **Overall_rate** (Won/MQL) is the north-star for channel efficiency.\n",
    "- Action: pick the **weakest step per channel** and state a concrete improvement (copy, targeting, SDR playbook, follow-up cadence, etc.).\n"
   ]
  },
  {
   "cell_type": "markdown",
   "metadata": {},
   "source": [
    "### 👩‍💻 Student-Led Section (20 minutes) -- ANSWER KEY"
   ]
  },
  {
   "cell_type": "markdown",
   "metadata": {},
   "source": [
    "### Student: Build & Interpret **Device** Funnels (Desktop vs Mobile)\n",
    "\n",
    "**Your tasks:**\n",
    "1) Make per-device funnel counts (MQL, Contacted, Won).\n",
    "2) Compute step conversion rates and overall conversion per device.\n",
    "3) Identify which device has the weakest \"won_rate\" and make a recommendation.  \n",
    "\n",
    "\n"
   ]
  },
  {
   "cell_type": "code",
   "execution_count": null,
   "metadata": {},
   "outputs": [],
   "source": [
    "# RUN THIS CELL WITHOUT CHANGES!  We are making a hypothetical \"device\" column to add to the data \n",
    "\n",
    "# Normalize/mend origin\n",
    "if 'origin' not in funnel.columns:\n",
    "    funnel['origin'] = 'Unknown'\n",
    "funnel['origin'] = funnel['origin'].fillna('Unknown').astype(str)\n",
    "\n",
    "# Channel → device priors (rough, realistic)\n",
    "device_priors = {\n",
    "    'Email':       {'Desktop': 0.60, 'Mobile': 0.40},\n",
    "    'Paid Search': {'Desktop': 0.45, 'Mobile': 0.55},\n",
    "    'Paid_Search': {'Desktop': 0.45, 'Mobile': 0.55},  # handle underscore variant\n",
    "    'Social':      {'Desktop': 0.30, 'Mobile': 0.70},\n",
    "    'Direct':      {'Desktop': 0.55, 'Mobile': 0.45},\n",
    "    'Referral':    {'Desktop': 0.50, 'Mobile': 0.50},\n",
    "    'Unknown':     {'Desktop': 0.50, 'Mobile': 0.50},\n",
    "}\n",
    "\n",
    "# Reproducible assignment\n",
    "rng = np.random.default_rng(7)\n",
    "\n",
    "def pick_device(origin):\n",
    "    priors = device_priors.get(origin, device_priors['Unknown'])\n",
    "    return rng.choice(['Desktop','Mobile'], p=[priors['Desktop'], priors['Mobile']])\n",
    "\n",
    "funnel['device'] = funnel['origin'].apply(pick_device)\n",
    "\n",
    "# Quick sanity check\n",
    "funnel['device'].value_counts(normalize=True).round(3)"
   ]
  },
  {
   "cell_type": "markdown",
   "metadata": {},
   "source": [
    "#### Task 1:  Get per-device counts\n"
   ]
  },
  {
   "cell_type": "code",
   "execution_count": null,
   "metadata": {},
   "outputs": [],
   "source": [
    "steps = ['is_mql','is_contacted','is_won']\n",
    "\n",
    "# Make sure a device column exists; if not, default everything to \"Unknown\"\n",
    "if 'device' not in funnel.columns:\n",
    "    funnel['device'] = 'Unknown'\n",
    "\n",
    "# Group and sum counts per device\n",
    "funnel_counts_student_device = None  #Hint:  Group by device and steps\n",
    "funnel_counts_student_device"
   ]
  },
  {
   "cell_type": "markdown",
   "metadata": {},
   "source": [
    "#### Task 2:  Get Per-Device Rates \n"
   ]
  },
  {
   "cell_type": "code",
   "execution_count": null,
   "metadata": {},
   "outputs": [],
   "source": [
    "conv_student_device = funnel_counts_student_device.copy()\n",
    "\n",
    "# Step rates\n",
    "# contacted_rate = contacted / mql\n",
    "# won_rate       = won / contacted\n",
    "# overall_rate   = won / mql\n",
    "\n",
    "conv_student_device['contacted_rate'] = None  \n",
    "conv_student_device['won_rate'] = None  \n",
    "conv_student_device['overall_rate'] = None  \n",
    "\n",
    "# Show rates only (cleaner view)\n",
    "conv_student_device[['contacted_rate','won_rate','overall_rate']]"
   ]
  },
  {
   "cell_type": "markdown",
   "metadata": {},
   "source": [
    "#### Task 3: Weakest Step Per Device"
   ]
  },
  {
   "cell_type": "code",
   "execution_count": null,
   "metadata": {},
   "outputs": [],
   "source": [
    "# For each device, find the smallest of contacted_rate and won_rate\n",
    "rate_cols = ['contacted_rate','won_rate']\n",
    "\n",
    "weakest_step_device = None  #Hint use a .idxmin() on the rate_cols\n",
    "weakest_rate_device = None  \n",
    "\n",
    "\n",
    "# Combine into a tidy summary\n",
    "summary_device = conv_student_device[['contacted_rate','won_rate','overall_rate']].copy()\n",
    "summary_device['weakest_step'] = weakest_step_device\n",
    "summary_device['weakest_rate'] = weakest_rate_device.round(3)\n",
    "summary_device"
   ]
  },
  {
   "cell_type": "markdown",
   "metadata": {},
   "source": [
    "### Interpretation of Your Results (3-5 Sentences)\n",
    "\n",
    "- For **Desktop** and **Mobile**, name the device that had the weakest \"won_rate\"\n",
    "- Suggest **one device‑specific action**:\n",
    "  - For Example:  \"If Desktop contacted_rate is low → test desktop hero/CTA (call to action) placement\"\n",
    "- Name **one metric** you’ll monitor next week to confirm improvements (e.g., won_rate for Mobile).\n"
   ]
  },
  {
   "cell_type": "markdown",
   "metadata": {},
   "source": [
    "### 📣 Class Share-Out & Instructor Wrap-Up (15 minutes)\n",
    "\n",
    "Be ready share out the following points with the class: \n",
    "\n",
    "**Explain:**\n",
    "Your one device-specific action and the one metric you would monitor "
   ]
  },
  {
   "cell_type": "markdown",
   "metadata": {},
   "source": [
    "#### Instructor Wrap-Up (Notes)\n",
    "\n",
    "\n",
    "- **Different segmentation, different story**: Channel vs Device can surface different weak steps in marketing. Keep both lenses in your toolkit.\n",
    "- **Targeted fixes**:\n",
    "  - Low *contacted_rate* → acquisition UX: ad/landing alignment, page speed (esp. mobile), CTA placement.\n",
    "  - Low *won_rate* → checkout/closing UX: form length, trust badges, mobile wallets, pricing clarity.\n",
    "- **Explainability first**: Step rates are intuitive and align to concrete product or marketing experiments.\n",
    "- **Guardrails**:\n",
    "  - Ensure steps belong to the same journey window (avoid mixing old impressions with recent sales).\n",
    "  - Dedupe MQLs; validate contact timestamps (no “phantom” contacts).\n",
    "  - Consider seasonality and campaigns when comparing devices.\n",
    "- **Next**:\n",
    "  - Cross‑segmentation (Device × Channel) to find where the *biggest leaks* are.\n",
    "  - Time trends: weekly device funnels to catch regressions after UI changes.\n",
    "  - Tie experiments to a single target step (e.g., Mobile *won_rate*) and commit to a monitoring window.\n",
    "\n",
    "\n"
   ]
  }
 ],
 "metadata": {
  "kernelspec": {
   "display_name": "Python (learn-env)",
   "language": "python",
   "name": "learn-env"
  },
  "language_info": {
   "codemirror_mode": {
    "name": "ipython",
    "version": 3
   },
   "file_extension": ".py",
   "mimetype": "text/x-python",
   "name": "python",
   "nbconvert_exporter": "python",
   "pygments_lexer": "ipython3",
   "version": "3.12.4"
  }
 },
 "nbformat": 4,
 "nbformat_minor": 2
}
