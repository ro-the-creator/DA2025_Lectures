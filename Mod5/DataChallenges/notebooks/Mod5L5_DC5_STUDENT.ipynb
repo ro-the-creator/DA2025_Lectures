{
 "cells": [
  {
   "cell_type": "markdown",
   "metadata": {},
   "source": [
    "## 🛠️ Mod5 Data Challenge 5: Cohorts & Retention \n",
    "\n",
    "\n",
    "**Why this activity?**  \n",
    "You’ll build **cohort retention** from real transaction data to answer: *Are customers coming back after their first purchase?* This extends today’s lecture on Cohorts & Retention to a real dataset.\n",
    "\n",
    "**Dataset:** UCI Online Retail II.  View more [HERE](https://archive.ics.uci.edu/dataset/502/online+retail+ii) \n",
    "\n",
    "**Goals — You will be able to:**\n",
    "1) Load & clean real transaction data (remove cancellations, keep positive quantities/prices).  \n",
    "2) Build **time‑anchored cohorts** (first purchase period).  \n",
    "3) Compute a **cohort retention matrix** (monthly or weekly).  \n",
    "4) Explain differences and propose product/marketing actions.\n",
    "\n",
    "**Interview practice:**\n",
    "- **Q1:** Why can MAU look stable while retention collapses?  \n",
    "- **Q2:** Day/Month‑1 retention fell for the newest cohort—what do you check first?  \n",
    "- **Q3:** When would you choose weekly vs monthly cohorts?\n"
   ]
  },
  {
   "cell_type": "markdown",
   "metadata": {},
   "source": [
    "### 👩‍🏫 Instructor-Led Demo (25 minutes)"
   ]
  },
  {
   "cell_type": "markdown",
   "metadata": {},
   "source": [
    "### Step 1:  Load & clean the Online Retail II Excel\n",
    "\n",
    "We will:  \n",
    "1) Read **both sheets** from the Excel file and concatenate.  \n",
    "2) Parse dates.  \n",
    "3) Drop rows with missing CustomerID and standardize types.  \n",
    "4) Create an **activity date** column (we’ll use InvoiceDate).\n",
    "\n",
    "Note:  We are keeping returns and cancellations in the data (for now) this may affect KPIs (like revenue), which is outside the scope of this cohort exercise but VERY important to point out.  \n"
   ]
  },
  {
   "cell_type": "code",
   "execution_count": null,
   "metadata": {},
   "outputs": [],
   "source": [
    "# import packages per usual \n",
    "import pandas as pd\n",
    "import numpy as np\n",
    "import seaborn as sns\n",
    "import matplotlib.pyplot as plt"
   ]
  },
  {
   "cell_type": "code",
   "execution_count": null,
   "metadata": {},
   "outputs": [],
   "source": [
    "# Path to your downloaded Excel file\n",
    "DATA_PATH = None  \n",
    "\n",
    "# 1) Read both sheets and concatenate\n",
    "sheets = [\"Year 2009-2010\", \"Year 2010-2011\"]\n",
    "df_list = [pd.read_excel(DATA_PATH, sheet_name=s, engine=\"openpyxl\") for s in sheets]\n",
    "df = pd.concat(df_list, ignore_index=True)\n",
    "\n",
    "# 2) Change InvoiceDate to datetime\n",
    "df[\"InvoiceDate\"] = None\n",
    "\n",
    "# 4) Drop missing CustomerID and standardize types\n",
    "df = df.dropna(subset=[\"Customer ID\"]).copy()\n",
    "df[\"Customer ID\"] = None\n",
    "\n",
    "# 5) Activity date (alias for clarity)\n",
    "df[\"activity_date\"] = df[\"InvoiceDate\"]\n",
    "\n",
    "df.head()\n"
   ]
  },
  {
   "cell_type": "markdown",
   "metadata": {},
   "source": [
    "#### Step 2:  Filter for a country (UK) and define cohorts \n",
    "\n",
    "We will:  \n",
    "1) Keep rows where `Country == \"United Kingdom\"`.  \n",
    "2) Define **cohort_month** as each customer’s first activity month.  \n",
    "3) Define **activity_month** for each row.  \n",
    "4) Compute **month_number** = months since cohort start.\n",
    "\n",
    "**Speaker Notes:** Cohorts are anchored by **first activity**; “Month 0” is the signup month; “Month 1” is the following month, etc.\n"
   ]
  },
  {
   "cell_type": "code",
   "execution_count": null,
   "metadata": {},
   "outputs": [],
   "source": [
    "# 1) Country filter\n",
    "df_uk = df[None].copy()\n",
    "\n",
    "# 2) First activity month (cohort anchor) per customer\n",
    "df_uk[\"cohort_month\"] = None\n",
    "\n",
    "# 3) Activity month per row\n",
    "df_uk[\"activity_month\"] = None\n",
    "\n",
    "# 4) Months since cohort start\n",
    "df_uk[\"month_number\"] = None\n",
    "\n",
    "df_uk[[\"Customer ID\",\"activity_date\",\"cohort_month\",\"activity_month\",\"month_number\"]].head()\n",
    "\n"
   ]
  },
  {
   "cell_type": "markdown",
   "metadata": {},
   "source": [
    "**Think:  Why do we see duplicate customer ID's here with the same activity date**?"
   ]
  },
  {
   "cell_type": "markdown",
   "metadata": {},
   "source": [
    "#### Step 3:  Build a monthly retention matrix and normalize by cohort size\n",
    "\n",
    "We will:  \n",
    "1) Count **unique active customers** by (`cohort_month`, `month_number`).  \n",
    "2) Pivot to cohorts × months.  \n",
    "3) Divide each row by **Month 0** to get retention fractions.\n",
    "\n",
    "**Speaker Notes:** Using unique customers avoids overcounting heavy purchasers; we measure presence, not volume.\n"
   ]
  },
  {
   "cell_type": "code",
   "execution_count": null,
   "metadata": {},
   "outputs": [],
   "source": [
    "# 1) Unique active customers per (cohort_month, month_number)\n",
    "cohort_counts_m = df_uk.groupby([\"cohort_month\",\"month_number\"])[\"Customer ID\"].nunique().reset_index()\n",
    "\n",
    "# 2) Pivot\n",
    "retention_m = None\n",
    "\n",
    "# 3) Normalize by cohort size (Month 0)\n",
    "cohort_size_m = retention_m.iloc[:, 0]\n",
    "retention_m_frac = retention_m.div(cohort_size_m, axis=0)\n",
    "\n",
    "retention_m_frac"
   ]
  },
  {
   "cell_type": "markdown",
   "metadata": {},
   "source": [
    "#### Step 4:  Heatmap & Interpretation\n",
    "\n",
    "We will:  \n",
    "1) Plot a seaborn heatmap of the **monthly** retention (0–1).  \n",
    "2) Write 2–3 sentences on what improves/worsens by Month 1 & Month 2 for UK, and 1 action you’d take.\n",
    "\n",
    "**Speaker Notes:** Visuals make cohort stories click; ask “what happened around low‑retention cohorts?”\n"
   ]
  },
  {
   "cell_type": "code",
   "execution_count": null,
   "metadata": {},
   "outputs": [],
   "source": [
    "# Plot heatmap of monthly retention (0–1)\n",
    "mat_m = retention_m_frac.copy().astype(float).sort_index(axis=0).sort_index(axis=1)\n",
    "plt.figure(figsize=(10, 5))\n",
    "ax = sns.heatmap(mat_m, annot=True, fmt=\".0%\", cbar_kws={\"label\": \"Retention (0–1)\"}, vmin=0, vmax=1)\n",
    "ax.set_title(\"United Kingdom — Monthly Cohort Retention\")\n",
    "ax.set_xlabel(\"Months Since First Purchase\")\n",
    "ax.set_ylabel(\"Cohort (Signup Month)\")\n",
    "plt.tight_layout()\n",
    "plt.show()"
   ]
  },
  {
   "cell_type": "markdown",
   "metadata": {},
   "source": [
    "### 👩‍💻 Student-Led Section (20 minutes) -- ANSWER KEY"
   ]
  },
  {
   "cell_type": "markdown",
   "metadata": {},
   "source": [
    "### Step 1: Filter to Germany (DE) and define weekly cohorts\n",
    "\n",
    "  \n",
    "1) Keep rows where `Country == \"Germany\"`.  \n",
    "2) Define **cohort_week** as each customer’s first activity week.  \n",
    "3) Define **activity_week** for each row.  \n",
    "4) Compute **week_number** = weeks since cohort start.\n",
    "\n",
    "\n",
    "\n"
   ]
  },
  {
   "cell_type": "code",
   "execution_count": null,
   "metadata": {},
   "outputs": [],
   "source": [
    "# 1) Country filter\n",
    "df_de = df[df[\"Country\"] == \"Germany\"].copy()\n",
    "\n",
    "# 2) First activity week (cohort anchor) per customer do your groupby\n",
    "df_de[\"cohort_week\"] = None\n",
    "\n",
    "# 3) Activity week per row\n",
    "df_de[\"activity_week\"] = df_de[\"activity_date\"].dt.to_period(\"W\")\n",
    "\n",
    "# 4) Weeks since cohort start (subtract cohort week from activity week)\n",
    "df_de[\"week_number\"] = None\n",
    "\n",
    "df_de[[\"Customer ID\",\"activity_date\",\"cohort_week\",\"activity_week\",\"week_number\"]].head()"
   ]
  },
  {
   "cell_type": "markdown",
   "metadata": {},
   "source": [
    "#### Step 2:  Build a **weekly** retention matrix and normalize by cohort size\n",
    "  \n",
    "1) Count **unique active customers** by (`cohort_week`, `week_number`).  \n",
    "2) Pivot to cohorts × weeks.  \n",
    "3) Divide each row by **Week 0** to get retention fractions.\n"
   ]
  },
  {
   "cell_type": "code",
   "execution_count": null,
   "metadata": {},
   "outputs": [],
   "source": [
    "# 1) Unique active customers per (cohort_week, week_number)\n",
    "cohort_counts_w = df_de.groupby(None)[\"Customer ID\"].nunique().reset_index()\n",
    "\n",
    "# 2) Pivot\n",
    "retention_w = cohort_counts_w.pivot(None)\n",
    "\n",
    "# 3) Normalize by cohort size (Week 0)\n",
    "cohort_size_w = retention_w.iloc[:, 0]\n",
    "retention_w_frac = retention_w.div(cohort_size_w, axis=0)\n",
    "\n",
    "retention_w_frac"
   ]
  },
  {
   "cell_type": "markdown",
   "metadata": {},
   "source": [
    "### Step 3:  Weekly heatmap & interpretation (Can be hard to see all weeks together -- try filtering OR Tableau on your own later)\n",
    "\n",
    "1) Plot a seaborn heatmap of weekly retention (0–1).  \n",
    "2) Write 2–3 sentences interpreting where Germany shows stronger/weaker weekly retention and one hypothesis for *why*.\n"
   ]
  },
  {
   "cell_type": "code",
   "execution_count": null,
   "metadata": {},
   "outputs": [],
   "source": [
    "# Plot heatmap of weekly retention (0–1)\n",
    "mat_w = retention_w_frac.copy().astype(float).sort_index(axis=0).sort_index(axis=1)\n",
    "plt.figure(figsize=(10, 5))\n",
    "ax = sns.heatmap(None, annot=True, fmt=\".0%\", cbar_kws={\"label\": \"Retention (0–1)\"}, vmin=0, vmax=1)\n",
    "ax.set_title(\"Germany — Weekly Cohort Retention\")\n",
    "ax.set_xlabel(\"Weeks Since First Purchase\")\n",
    "ax.set_ylabel(\"Cohort (Signup Week)\")\n",
    "plt.tight_layout()\n",
    "plt.show()"
   ]
  },
  {
   "cell_type": "markdown",
   "metadata": {},
   "source": [
    "### Wrap‑Up: Reading & Acting on Cohorts -- (15 mins)\n",
    "\n",
    "**Students:  Be prepared to reflect and answer the interview questions at the top of this notebook.**  \n",
    "\n",
    "- **Time matters:** Cohorts track the *same users* over time; MAU can hide churn if new users replace old ones.\n",
    "- **Granularity choice:** Weekly cohorts reveal short‑term dynamics (promos, bugs); monthly cohorts smooth noise but may hide spikes.\n",
    "- **Market differences:** UK monthly vs Germany weekly shows how market and period choice change the narrative.\n",
    "- **Actions:** If Month/Week‑1 retention dips, audit onboarding, returns/shipping policy, payment UX, or marketing sources in that signup window.\n",
    "- **Next:** Segment cohorts by acquisition channel or product category to find who sticks and why. Tie changes to a single success metric (e.g., +5pp in Month‑1 retention for new cohorts).\n"
   ]
  }
 ],
 "metadata": {
  "kernelspec": {
   "display_name": "Python (learn-env)",
   "language": "python",
   "name": "learn-env"
  },
  "language_info": {
   "codemirror_mode": {
    "name": "ipython",
    "version": 3
   },
   "file_extension": ".py",
   "mimetype": "text/x-python",
   "name": "python",
   "nbconvert_exporter": "python",
   "pygments_lexer": "ipython3",
   "version": "3.12.4"
  }
 },
 "nbformat": 4,
 "nbformat_minor": 2
}
