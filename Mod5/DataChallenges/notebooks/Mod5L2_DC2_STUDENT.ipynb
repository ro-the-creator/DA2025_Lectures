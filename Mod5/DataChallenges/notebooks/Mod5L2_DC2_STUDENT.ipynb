{
 "cells": [
  {
   "cell_type": "markdown",
   "metadata": {},
   "source": [
    "## 🛠️ Mod5 Data Challenge 2: Feature Engineering (Interaction Terms)\n",
    "\n",
    "\n",
    "**Goal:** Practice designing and interpreting *interaction features* that might help stakeholders (Ops Manager, Borough Director, Mayor’s Office) understand and act on 311 performance.\n",
    "\n",
    "**Structure**\n",
    "- Instructor: list candidate interaction features; build *one* together\n",
    "- Students: build more interactions, each tied to a stakeholder need\n",
    "- Wrap-up: talk through explainability, complexity, and trade-offs\n",
    "\n",
    "\n",
    "### Data\n",
    "Use the **nyc311.csv** file located in your Github's `data` folder within Mod5/DataChallenges.  This is a sample of the originial file looking at just one week of data since the dataset is HUGE.  Read more about the columns [HERE](https://data.cityofnewyork.us/Social-Services/311-Service-Requests-from-2010-to-Present/erm2-nwe9/about_data).   "
   ]
  },
  {
   "cell_type": "markdown",
   "metadata": {},
   "source": [
    "### 👩‍🏫 Instructor-Led Demo (15 minutes) -- FOLLOW ALONG"
   ]
  },
  {
   "cell_type": "markdown",
   "metadata": {},
   "source": [
    "#### Step 1:  Prep the Data \n",
    "* You have seen a majority of this code already!  Take **4 mins** and read through it AGAIN so you know what is stored in each boolean var (e.g. what is \"high priority\", etc.)\n",
    "\n",
    "* Read in data, and run the next cell AS IS!  (This is creating our features used for \"interaction terms\")"
   ]
  },
  {
   "cell_type": "code",
   "execution_count": null,
   "metadata": {},
   "outputs": [],
   "source": [
    "import pandas as pd\n",
    "import numpy as np\n",
    "\n",
    "df = None"
   ]
  },
  {
   "cell_type": "code",
   "execution_count": null,
   "metadata": {},
   "outputs": [],
   "source": [
    "# RUN THIS CELL WITHOUT CHANGES \n",
    "\n",
    "# Helper: robust tz conversion\n",
    "LOCAL_TZ = \"America/New_York\"\n",
    "\n",
    "def to_utc(series, local_tz=LOCAL_TZ):\n",
    "    s = pd.to_datetime(series, errors=\"coerce\")\n",
    "    if s.dt.tz is None:\n",
    "        s = s.dt.tz_localize(local_tz, nonexistent=\"shift_forward\", ambiguous=\"NaT\")\n",
    "    return s.dt.tz_convert(\"UTC\")\n",
    "\n",
    "# Identify likely datetime columns\n",
    "candidate_created = [c for c in df.columns if \"Created\" in c and \"Date\" in c]\n",
    "candidate_closed  = [c for c in df.columns if \"Closed\"  in c and \"Date\" in c]\n",
    "if not candidate_created or not candidate_closed:\n",
    "    raise KeyError(\"Could not find 'Created Date' and 'Closed Date' columns. Rename or update detection logic.\")\n",
    "\n",
    "CREATED_COL, CLOSED_COL = candidate_created[0], candidate_closed[0]\n",
    "\n",
    "# Drop nulls, convert to tz-aware UTC\n",
    "df = df.dropna(subset=[CREATED_COL, CLOSED_COL]).copy()\n",
    "df[CREATED_COL] = to_utc(df[CREATED_COL])\n",
    "df[CLOSED_COL]  = to_utc(df[CLOSED_COL])\n",
    "df = df.dropna(subset=[CREATED_COL, CLOSED_COL])\n",
    "\n",
    "# Compute response time (hrs)\n",
    "delta = df[CLOSED_COL] - df[CREATED_COL]\n",
    "df[\"response_time_hrs\"] = delta.dt.total_seconds() / 3600\n",
    "\n",
    "# Base temporal features\n",
    "df[\"hour_of_day\"] = df[CREATED_COL].dt.hour\n",
    "df[\"weekday\"]     = df[CREATED_COL].dt.weekday  # 0=Mon\n",
    "df[\"is_weekend\"]  = df[\"weekday\"] >= 5\n",
    "df[\"is_night\"]    = df[\"hour_of_day\"].isin([0,1,2,3,4,5])\n",
    "df[\"is_peak_commute\"] = df[\"hour_of_day\"].isin([7,8,9,16,17,18,19])\n",
    "\n",
    "# Complaint text normalization (helps reproducibility)\n",
    "if \"Complaint Type\" in df.columns:\n",
    "    df[\"complaint_norm\"] = (df[\"Complaint Type\"].astype(str)\n",
    "                            .str.normalize(\"NFKC\")\n",
    "                            .str.strip()\n",
    "                            .str.casefold())\n",
    "else:\n",
    "    df[\"complaint_norm\"] = \"\"\n",
    "\n",
    "# High-priority complaint flag (example list)\n",
    "priority_list = {\"heat/hot water\",\"electric\",\"elevator\",\"structural\",\"gas\",\"sewer\",\"water system\"}\n",
    "df[\"is_high_priority\"] = df[\"complaint_norm\"].isin(priority_list)\n",
    "\n",
    "# Borough normalization + a borough flag (example)\n",
    "if \"Borough\" in df.columns:\n",
    "    df[\"borough_norm\"] = df[\"Borough\"].astype(str).str.strip().str.title()\n",
    "    example_borough = \"Brooklyn\"\n",
    "    df[\"is_brooklyn\"] = df[\"borough_norm\"].eq(example_borough)\n",
    "else:\n",
    "    df[\"borough_norm\"] = \"\"\n",
    "    df[\"is_brooklyn\"] = False\n",
    "\n",
    "# Clean negatives & NaNs for response_time_hrs\n",
    "df = df[df[\"response_time_hrs\"] >= 0].dropna(subset=[\"response_time_hrs\"]).copy()\n",
    "\n",
    "df.head(3)\n"
   ]
  },
  {
   "cell_type": "markdown",
   "metadata": {},
   "source": [
    "#### Step 2:  Brainstorm Interaction Features using the Boolean Columns Created Above \n",
    "\n",
    "\n",
    "Type out several interactions **we haven't built in the code-along** and then we will create **#1** together\n",
    "\n",
    "1. `is_high_priority × is_weekend` → priority complaints that **arrive on weekends** (we will build this one together)\n",
    "\n",
    "\n",
    "We'll **build #1** together and discuss how a stakeholder could use it."
   ]
  },
  {
   "cell_type": "code",
   "execution_count": null,
   "metadata": {},
   "outputs": [],
   "source": [
    "# Binary interaction (1 if high-priority AND weekend)\n",
    "df[\"int_highprio_weekend\"] = None\n",
    "\n",
    "# Quick view and a sanity check\n",
    "display(df[[\"complaint_norm\",\"is_high_priority\",\"is_weekend\",\"int_highprio_weekend\"]].head(8))\n",
    "\n",
    "# What does this code do? \n",
    "print(\"Share of records that are high-priority weekend:\",\n",
    "      df[\"int_highprio_weekend\"].mean().round(4))"
   ]
  },
  {
   "cell_type": "markdown",
   "metadata": {},
   "source": [
    "### Step 3:  Aggregation of the feature we created against response time "
   ]
  },
  {
   "cell_type": "code",
   "execution_count": null,
   "metadata": {},
   "outputs": [],
   "source": [
    "# Compare average response time: high-priority weekend vs others\n",
    "agg = (df.groupby(None))[None]\n",
    "         .mean()\n",
    "         .rename({0:\"other\",1:\"highprio_weekend\"})\n",
    "         .reset_index(drop=True))\n",
    "agg.to_frame(\"avg_response_time_hrs\")\n"
   ]
  },
  {
   "cell_type": "markdown",
   "metadata": {},
   "source": [
    "#### Side Note:  Why create `int_highprio_weekend` feature in the first place aka the use-case\n",
    "\n",
    "- **Definition:** 1 if the complaint is both **high-priority** and submitted on a **weekend**, else 0.\n",
    "- **Why it matters:** Ops can check if **high-priority weekend** cases have longer response times or need different staffing.\n",
    "- **Stakeholder example:** The **Operations Manager** could propose adding a weekend on-call rota for elevator/electric emergencies if these cases show longer average response time.\n"
   ]
  },
  {
   "cell_type": "markdown",
   "metadata": {},
   "source": [
    "### 👩‍💻 Student-Led Section (20 minutes)"
   ]
  },
  {
   "cell_type": "markdown",
   "metadata": {},
   "source": [
    "**Goal:** Create and interpret *interaction features* that would help a stakeholder you choose (e.g., Ops Manager, Borough Director).\n",
    "\n",
    "**Rules**\n",
    "- The instructor built one interaction; you will build **others**.\n",
    "- For each interaction you create, add **one sentence** explaining how a stakeholder could use it.\n",
    "\n",
    "**Deliverables**\n",
    "- At least **2 new interactions**\n",
    "- A short **stakeholder note** under each (1–2 sentences)\n"
   ]
  },
  {
   "cell_type": "markdown",
   "metadata": {},
   "source": [
    "#### Task 1:  Create Interaction #1 \n",
    "\n",
    "**Goal:** Build a binary interaction using two booleans we already have (e.g., `is_weekend × is_night`, or `is_high_priority × is_peak_commute`).\n",
    "\n",
    "**Stakeholder note (1–2 sentences):** Explain how your chosen stakeholder could use this interaction to make a decision.\n"
   ]
  },
  {
   "cell_type": "code",
   "execution_count": null,
   "metadata": {},
   "outputs": [],
   "source": [
    "# Example pattern (replace None):\n",
    "new_col_name_1 = None  # e.g., \"int_highprio_peakcommute\"\n",
    "left_bool_1    = None  # e.g., df[\"is_high_priority\"]\n",
    "right_bool_1   = None  # e.g., df[\"is_peak_commute\"]\n",
    "\n",
    "df[new_col_name_1] = (left_bool_1.astype(int) * right_bool_1.astype(int))\n",
    "df[[new_col_name_1]].mean().round(4)  # quick share check"
   ]
  },
  {
   "cell_type": "markdown",
   "metadata": {},
   "source": [
    "#### Task 2: Create Interaction #2\n",
    "\n",
    "**Goal:** Build a **borough-specific** interaction (e.g., `is_brooklyn × is_high_priority` or `is_brooklyn × is_weekend`).\n",
    "\n",
    "**Stakeholder note (1–2 sentences):** Explain how a **Borough Director** could use this to prioritize crews or adjust on-hand maintenance staff.\n"
   ]
  },
  {
   "cell_type": "code",
   "execution_count": null,
   "metadata": {},
   "outputs": [],
   "source": [
    "# Example pattern (replace None):\n",
    "new_col_name_2 = None   # e.g., \"int_brooklyn_weekend\"\n",
    "left_bool_2    = None   # e.g., df[\"is_brooklyn\"]\n",
    "right_bool_2   = None   # e.g., df[\"is_weekend\"]\n",
    "\n",
    "df[new_col_name_2] = (left_bool_2.astype(int) * right_bool_2.astype(int))\n",
    "df[[new_col_name_2]].mean().round(4)"
   ]
  },
  {
   "cell_type": "markdown",
   "metadata": {},
   "source": [
    "#### Task 3 — Aggregate Check\n",
    "\n",
    "Compute and show the average `response_time_hrs` grouped by **each new interaction** you created.  \n",
    "Add a 1‑sentence takeaway for each (e.g., “Group=1 is slower by ~3.2 hours → staffing gap.”)\n"
   ]
  },
  {
   "cell_type": "code",
   "execution_count": null,
   "metadata": {},
   "outputs": [],
   "source": [
    "# Replace None with your new column names from Tasks 1 & 2\n",
    "for col in [None, None]:  # e.g., [\"int_highprio_peakcommute\", \"int_brooklyn_weekend\"]\n",
    "    grp = (df.groupby(col)[\"response_time_hrs\"].mean().round(2))\n",
    "    print(f\"\\n=== {col} ===\")\n",
    "    print(grp)"
   ]
  },
  {
   "cell_type": "markdown",
   "metadata": {},
   "source": [
    "#### Reflection (2–5 sentences)\n",
    "Pick **one** of your interactions and explain:\n",
    "\n",
    "- Why it is useful to your chosen stakeholder\n",
    "- One risk or bias it might introduce (e.g., masking weekday patterns)\n",
    "- A next step to validate it (e.g., compare across months, run an A/B on staffing)\n"
   ]
  },
  {
   "cell_type": "markdown",
   "metadata": {},
   "source": [
    "### 📣 Class Share-Out & Instructor Wrap-Up (15 minutes)\n",
    "\n",
    "Be ready to have the students share out the following points with the class: \n",
    "\n",
    "**Explain:**\n",
    "Your response to the reflection question above "
   ]
  },
  {
   "cell_type": "markdown",
   "metadata": {},
   "source": [
    "#### Instructor Wrap-Up: Explainability & Complexity (Notes)\n",
    "\n",
    "- **Interpretability:** Simple binary interactions are clearer to stakeholders than complex numeric × numeric terms.\n",
    "- **Complexity vs. Performance:** More interactions can improve model accuracy but may reduce explainability -- Mod 6\n",
    "- **Scaling:** If you use numeric × numeric interactions, consider scaling before modeling -- We didn't do that here BUT you saw how to scale in code-along\n",
    "- **Correlation & Leakage:** Interactions can be correlated!  This can cause a problem for modeling so keep that in mind -- Mod 6\n",
    "- **DECISION MAKING:** Remember our DATA IN CONTEXT AREA-- this notebook helped you drive decision making by not just looking at the data surface but creating features and interaction terms that MATTER!\n"
   ]
  }
 ],
 "metadata": {
  "kernelspec": {
   "display_name": "Python (learn-env)",
   "language": "python",
   "name": "learn-env"
  },
  "language_info": {
   "codemirror_mode": {
    "name": "ipython",
    "version": 3
   },
   "file_extension": ".py",
   "mimetype": "text/x-python",
   "name": "python",
   "nbconvert_exporter": "python",
   "pygments_lexer": "ipython3",
   "version": "3.12.4"
  }
 },
 "nbformat": 4,
 "nbformat_minor": 2
}
