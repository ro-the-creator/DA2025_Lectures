{
 "cells": [
  {
   "cell_type": "markdown",
   "metadata": {},
   "source": [
    "## 🛠️ Mod5 Data Challenge 2: Feature Engineering (Interaction Terms)\n",
    "\n",
    "\n",
    "**Goal:** Practice designing and interpreting *interaction features* that might help stakeholders (Ops Manager, Borough Director, Mayor’s Office) understand and act on 311 performance.\n",
    "\n",
    "**Structure**\n",
    "- Instructor: list candidate interaction features; build *one* together\n",
    "- Students: build more interactions, each tied to a stakeholder need\n",
    "- Wrap-up: talk through explainability, complexity, and trade-offs\n",
    "\n",
    "\n",
    "### Data\n",
    "Use the **nyc311.csv** file located in your Github's `data` folder within Mod5/DataChallenges.  This is a sample of the originial file looking at just one week of data since the dataset is HUGE.  Read more about the columns [HERE](https://data.cityofnewyork.us/Social-Services/311-Service-Requests-from-2010-to-Present/erm2-nwe9/about_data).   "
   ]
  },
  {
   "cell_type": "markdown",
   "metadata": {},
   "source": [
    "### 👩‍🏫 Instructor-Led Demo (15 minutes) -- FOLLOW ALONG"
   ]
  },
  {
   "cell_type": "markdown",
   "metadata": {},
   "source": [
    "#### Step 1:  Prep the Data \n",
    "* You have seen a majority of this code already!  Take **4 mins** and read through it AGAIN so you know what is stored in each boolean var (e.g. what is \"high priority\", etc.)\n",
    "\n",
    "* Read in data, and run the next cell AS IS!  (This is creating our features used for \"interaction terms\")"
   ]
  },
  {
   "cell_type": "code",
   "execution_count": 1,
   "metadata": {},
   "outputs": [],
   "source": [
    "import pandas as pd\n",
    "import numpy as np\n",
    "\n",
    "path = '/Users/Marcy_Student/Desktop/Marcy-Modules/Mod5/Data-challenge/nyc311.csv'\n",
    "df = pd.read_csv(path)"
   ]
  },
  {
   "cell_type": "code",
   "execution_count": 3,
   "metadata": {},
   "outputs": [
    {
     "data": {
      "text/html": [
       "<div>\n",
       "<style scoped>\n",
       "    .dataframe tbody tr th:only-of-type {\n",
       "        vertical-align: middle;\n",
       "    }\n",
       "\n",
       "    .dataframe tbody tr th {\n",
       "        vertical-align: top;\n",
       "    }\n",
       "\n",
       "    .dataframe thead th {\n",
       "        text-align: right;\n",
       "    }\n",
       "</style>\n",
       "<table border=\"1\" class=\"dataframe\">\n",
       "  <thead>\n",
       "    <tr style=\"text-align: right;\">\n",
       "      <th></th>\n",
       "      <th>Unique Key</th>\n",
       "      <th>Created Date</th>\n",
       "      <th>Closed Date</th>\n",
       "      <th>Agency</th>\n",
       "      <th>Agency Name</th>\n",
       "      <th>Complaint Type</th>\n",
       "      <th>Descriptor</th>\n",
       "      <th>Location Type</th>\n",
       "      <th>Incident Zip</th>\n",
       "      <th>Incident Address</th>\n",
       "      <th>...</th>\n",
       "      <th>response_time_hrs</th>\n",
       "      <th>hour_of_day</th>\n",
       "      <th>weekday</th>\n",
       "      <th>is_weekend</th>\n",
       "      <th>is_night</th>\n",
       "      <th>is_peak_commute</th>\n",
       "      <th>complaint_norm</th>\n",
       "      <th>is_high_priority</th>\n",
       "      <th>borough_norm</th>\n",
       "      <th>is_brooklyn</th>\n",
       "    </tr>\n",
       "  </thead>\n",
       "  <tbody>\n",
       "    <tr>\n",
       "      <th>7</th>\n",
       "      <td>66176906</td>\n",
       "      <td>2025-09-17 05:49:53+00:00</td>\n",
       "      <td>2025-09-17 07:00:34+00:00</td>\n",
       "      <td>DHS</td>\n",
       "      <td>Department of Homeless Services</td>\n",
       "      <td>Homeless Person Assistance</td>\n",
       "      <td>Non-Chronic</td>\n",
       "      <td>Store/Commercial</td>\n",
       "      <td>11385.0</td>\n",
       "      <td>55-25 MYRTLE AVENUE</td>\n",
       "      <td>...</td>\n",
       "      <td>1.178056</td>\n",
       "      <td>5</td>\n",
       "      <td>2</td>\n",
       "      <td>False</td>\n",
       "      <td>True</td>\n",
       "      <td>False</td>\n",
       "      <td>homeless person assistance</td>\n",
       "      <td>False</td>\n",
       "      <td>Queens</td>\n",
       "      <td>False</td>\n",
       "    </tr>\n",
       "    <tr>\n",
       "      <th>37</th>\n",
       "      <td>66170659</td>\n",
       "      <td>2025-09-17 05:33:27+00:00</td>\n",
       "      <td>2025-09-17 05:42:59+00:00</td>\n",
       "      <td>NYPD</td>\n",
       "      <td>New York City Police Department</td>\n",
       "      <td>Blocked Driveway</td>\n",
       "      <td>No Access</td>\n",
       "      <td>Street/Sidewalk</td>\n",
       "      <td>11419.0</td>\n",
       "      <td>111-01 101 AVENUE</td>\n",
       "      <td>...</td>\n",
       "      <td>0.158889</td>\n",
       "      <td>5</td>\n",
       "      <td>2</td>\n",
       "      <td>False</td>\n",
       "      <td>True</td>\n",
       "      <td>False</td>\n",
       "      <td>blocked driveway</td>\n",
       "      <td>False</td>\n",
       "      <td>Queens</td>\n",
       "      <td>False</td>\n",
       "    </tr>\n",
       "    <tr>\n",
       "      <th>43</th>\n",
       "      <td>66175356</td>\n",
       "      <td>2025-09-17 05:29:57+00:00</td>\n",
       "      <td>2025-09-17 05:46:21+00:00</td>\n",
       "      <td>NYPD</td>\n",
       "      <td>New York City Police Department</td>\n",
       "      <td>Noise - Residential</td>\n",
       "      <td>Loud Music/Party</td>\n",
       "      <td>Residential Building/House</td>\n",
       "      <td>10009.0</td>\n",
       "      <td>103 AVENUE B</td>\n",
       "      <td>...</td>\n",
       "      <td>0.273333</td>\n",
       "      <td>5</td>\n",
       "      <td>2</td>\n",
       "      <td>False</td>\n",
       "      <td>True</td>\n",
       "      <td>False</td>\n",
       "      <td>noise - residential</td>\n",
       "      <td>False</td>\n",
       "      <td>Manhattan</td>\n",
       "      <td>False</td>\n",
       "    </tr>\n",
       "  </tbody>\n",
       "</table>\n",
       "<p>3 rows × 51 columns</p>\n",
       "</div>"
      ],
      "text/plain": [
       "    Unique Key              Created Date               Closed Date Agency  \\\n",
       "7     66176906 2025-09-17 05:49:53+00:00 2025-09-17 07:00:34+00:00    DHS   \n",
       "37    66170659 2025-09-17 05:33:27+00:00 2025-09-17 05:42:59+00:00   NYPD   \n",
       "43    66175356 2025-09-17 05:29:57+00:00 2025-09-17 05:46:21+00:00   NYPD   \n",
       "\n",
       "                        Agency Name              Complaint Type  \\\n",
       "7   Department of Homeless Services  Homeless Person Assistance   \n",
       "37  New York City Police Department            Blocked Driveway   \n",
       "43  New York City Police Department         Noise - Residential   \n",
       "\n",
       "          Descriptor               Location Type  Incident Zip  \\\n",
       "7        Non-Chronic            Store/Commercial       11385.0   \n",
       "37         No Access             Street/Sidewalk       11419.0   \n",
       "43  Loud Music/Party  Residential Building/House       10009.0   \n",
       "\n",
       "       Incident Address  ... response_time_hrs hour_of_day weekday is_weekend  \\\n",
       "7   55-25 MYRTLE AVENUE  ...          1.178056           5       2      False   \n",
       "37    111-01 101 AVENUE  ...          0.158889           5       2      False   \n",
       "43         103 AVENUE B  ...          0.273333           5       2      False   \n",
       "\n",
       "   is_night is_peak_commute              complaint_norm is_high_priority  \\\n",
       "7      True           False  homeless person assistance            False   \n",
       "37     True           False            blocked driveway            False   \n",
       "43     True           False         noise - residential            False   \n",
       "\n",
       "   borough_norm is_brooklyn  \n",
       "7        Queens       False  \n",
       "37       Queens       False  \n",
       "43    Manhattan       False  \n",
       "\n",
       "[3 rows x 51 columns]"
      ]
     },
     "execution_count": 3,
     "metadata": {},
     "output_type": "execute_result"
    }
   ],
   "source": [
    "# RUN THIS CELL WITHOUT CHANGES \n",
    "\n",
    "# Helper: robust tz conversion\n",
    "LOCAL_TZ = \"America/New_York\"\n",
    "\n",
    "def to_utc(series, local_tz=LOCAL_TZ):\n",
    "    s = pd.to_datetime(series, errors=\"coerce\")\n",
    "    if s.dt.tz is None:\n",
    "        s = s.dt.tz_localize(local_tz, nonexistent=\"shift_forward\", ambiguous=\"NaT\")\n",
    "    return s.dt.tz_convert(\"UTC\")\n",
    "\n",
    "# Identify likely datetime columns\n",
    "candidate_created = [c for c in df.columns if \"Created\" in c and \"Date\" in c]\n",
    "candidate_closed  = [c for c in df.columns if \"Closed\"  in c and \"Date\" in c]\n",
    "if not candidate_created or not candidate_closed:\n",
    "    raise KeyError(\"Could not find 'Created Date' and 'Closed Date' columns. Rename or update detection logic.\")\n",
    "\n",
    "CREATED_COL, CLOSED_COL = candidate_created[0], candidate_closed[0]\n",
    "\n",
    "# Drop nulls, convert to tz-aware UTC\n",
    "df = df.dropna(subset=[CREATED_COL, CLOSED_COL]).copy()\n",
    "df[CREATED_COL] = to_utc(df[CREATED_COL])\n",
    "df[CLOSED_COL]  = to_utc(df[CLOSED_COL])\n",
    "df = df.dropna(subset=[CREATED_COL, CLOSED_COL])\n",
    "\n",
    "# Compute response time (hrs)\n",
    "delta = df[CLOSED_COL] - df[CREATED_COL]\n",
    "df[\"response_time_hrs\"] = delta.dt.total_seconds() / 3600\n",
    "\n",
    "# Base temporal features\n",
    "df[\"hour_of_day\"] = df[CREATED_COL].dt.hour\n",
    "df[\"weekday\"]     = df[CREATED_COL].dt.weekday  # 0=Mon\n",
    "df[\"is_weekend\"]  = df[\"weekday\"] >= 5\n",
    "df[\"is_night\"]    = df[\"hour_of_day\"].isin([0,1,2,3,4,5])\n",
    "df[\"is_peak_commute\"] = df[\"hour_of_day\"].isin([7,8,9,16,17,18,19])\n",
    "\n",
    "# Complaint text normalization (helps reproducibility)\n",
    "if \"Complaint Type\" in df.columns:\n",
    "    df[\"complaint_norm\"] = (df[\"Complaint Type\"].astype(str)\n",
    "                            .str.normalize(\"NFKC\")\n",
    "                            .str.strip()\n",
    "                            .str.casefold())\n",
    "else:\n",
    "    df[\"complaint_norm\"] = \"\"\n",
    "\n",
    "# High-priority complaint flag (example list)\n",
    "priority_list = {\"heat/hot water\",\"electric\",\"elevator\",\"structural\",\"gas\",\"sewer\",\"water system\"}\n",
    "df[\"is_high_priority\"] = df[\"complaint_norm\"].isin(priority_list)\n",
    "\n",
    "# Borough normalization + a borough flag (example)\n",
    "if \"Borough\" in df.columns:\n",
    "    df[\"borough_norm\"] = df[\"Borough\"].astype(str).str.strip().str.title()\n",
    "    example_borough = \"Brooklyn\"\n",
    "    df[\"is_brooklyn\"] = df[\"borough_norm\"].eq(example_borough)\n",
    "else:\n",
    "    df[\"borough_norm\"] = \"\"\n",
    "    df[\"is_brooklyn\"] = False\n",
    "\n",
    "# Clean negatives & NaNs for response_time_hrs\n",
    "df = df[df[\"response_time_hrs\"] >= 0].dropna(subset=[\"response_time_hrs\"]).copy()\n",
    "\n",
    "df.head(3)\n"
   ]
  },
  {
   "cell_type": "markdown",
   "metadata": {},
   "source": [
    "#### Step 2:  Brainstorm Interaction Features using the Boolean Columns Created Above \n",
    "\n",
    "\n",
    "Type out several interactions **we haven't built in the code-along** and then we will create **#1** together\n",
    "\n",
    "1. `is_high_priority × is_weekend` → priority complaints that **arrive on weekends** (we will build this one together)\n",
    "\n",
    "\n",
    "We'll **build #1** together and discuss how a stakeholder could use it."
   ]
  },
  {
   "cell_type": "code",
   "execution_count": 5,
   "metadata": {},
   "outputs": [
    {
     "data": {
      "text/html": [
       "<div>\n",
       "<style scoped>\n",
       "    .dataframe tbody tr th:only-of-type {\n",
       "        vertical-align: middle;\n",
       "    }\n",
       "\n",
       "    .dataframe tbody tr th {\n",
       "        vertical-align: top;\n",
       "    }\n",
       "\n",
       "    .dataframe thead th {\n",
       "        text-align: right;\n",
       "    }\n",
       "</style>\n",
       "<table border=\"1\" class=\"dataframe\">\n",
       "  <thead>\n",
       "    <tr style=\"text-align: right;\">\n",
       "      <th></th>\n",
       "      <th>complaint_norm</th>\n",
       "      <th>is_high_priority</th>\n",
       "      <th>is_weekend</th>\n",
       "      <th>int_highprio_weekend</th>\n",
       "    </tr>\n",
       "  </thead>\n",
       "  <tbody>\n",
       "    <tr>\n",
       "      <th>7</th>\n",
       "      <td>homeless person assistance</td>\n",
       "      <td>False</td>\n",
       "      <td>False</td>\n",
       "      <td>0</td>\n",
       "    </tr>\n",
       "    <tr>\n",
       "      <th>37</th>\n",
       "      <td>blocked driveway</td>\n",
       "      <td>False</td>\n",
       "      <td>False</td>\n",
       "      <td>0</td>\n",
       "    </tr>\n",
       "    <tr>\n",
       "      <th>43</th>\n",
       "      <td>noise - residential</td>\n",
       "      <td>False</td>\n",
       "      <td>False</td>\n",
       "      <td>0</td>\n",
       "    </tr>\n",
       "    <tr>\n",
       "      <th>47</th>\n",
       "      <td>noise - commercial</td>\n",
       "      <td>False</td>\n",
       "      <td>False</td>\n",
       "      <td>0</td>\n",
       "    </tr>\n",
       "    <tr>\n",
       "      <th>50</th>\n",
       "      <td>non-emergency police matter</td>\n",
       "      <td>False</td>\n",
       "      <td>False</td>\n",
       "      <td>0</td>\n",
       "    </tr>\n",
       "    <tr>\n",
       "      <th>51</th>\n",
       "      <td>noise - residential</td>\n",
       "      <td>False</td>\n",
       "      <td>False</td>\n",
       "      <td>0</td>\n",
       "    </tr>\n",
       "    <tr>\n",
       "      <th>54</th>\n",
       "      <td>noise - residential</td>\n",
       "      <td>False</td>\n",
       "      <td>False</td>\n",
       "      <td>0</td>\n",
       "    </tr>\n",
       "    <tr>\n",
       "      <th>57</th>\n",
       "      <td>noise - residential</td>\n",
       "      <td>False</td>\n",
       "      <td>False</td>\n",
       "      <td>0</td>\n",
       "    </tr>\n",
       "  </tbody>\n",
       "</table>\n",
       "</div>"
      ],
      "text/plain": [
       "                 complaint_norm  is_high_priority  is_weekend  \\\n",
       "7    homeless person assistance             False       False   \n",
       "37             blocked driveway             False       False   \n",
       "43          noise - residential             False       False   \n",
       "47           noise - commercial             False       False   \n",
       "50  non-emergency police matter             False       False   \n",
       "51          noise - residential             False       False   \n",
       "54          noise - residential             False       False   \n",
       "57          noise - residential             False       False   \n",
       "\n",
       "    int_highprio_weekend  \n",
       "7                      0  \n",
       "37                     0  \n",
       "43                     0  \n",
       "47                     0  \n",
       "50                     0  \n",
       "51                     0  \n",
       "54                     0  \n",
       "57                     0  "
      ]
     },
     "metadata": {},
     "output_type": "display_data"
    },
    {
     "name": "stdout",
     "output_type": "stream",
     "text": [
      "Share of records that are high-priority weekend: 0.0096\n"
     ]
    }
   ],
   "source": [
    "# Binary interaction (1 if high-priority AND weekend)\n",
    "df[\"int_highprio_weekend\"] = df['is_high_priority'].astype(int)*df['is_weekend'].astype(int)\n",
    "\n",
    "# Quick view and a sanity check\n",
    "display(df[[\"complaint_norm\",\"is_high_priority\",\"is_weekend\",\"int_highprio_weekend\"]].head(8))\n",
    "\n",
    "# What does this code do? \n",
    "print(\"Share of records that are high-priority weekend:\",\n",
    "      df[\"int_highprio_weekend\"].mean().round(4))"
   ]
  },
  {
   "cell_type": "markdown",
   "metadata": {},
   "source": [
    "### Step 3:  Aggregation of the feature we created against response time "
   ]
  },
  {
   "cell_type": "code",
   "execution_count": 9,
   "metadata": {},
   "outputs": [
    {
     "data": {
      "text/html": [
       "<div>\n",
       "<style scoped>\n",
       "    .dataframe tbody tr th:only-of-type {\n",
       "        vertical-align: middle;\n",
       "    }\n",
       "\n",
       "    .dataframe tbody tr th {\n",
       "        vertical-align: top;\n",
       "    }\n",
       "\n",
       "    .dataframe thead th {\n",
       "        text-align: right;\n",
       "    }\n",
       "</style>\n",
       "<table border=\"1\" class=\"dataframe\">\n",
       "  <thead>\n",
       "    <tr style=\"text-align: right;\">\n",
       "      <th></th>\n",
       "      <th>avg_response_time_hrs</th>\n",
       "    </tr>\n",
       "  </thead>\n",
       "  <tbody>\n",
       "    <tr>\n",
       "      <th>0</th>\n",
       "      <td>7.959591</td>\n",
       "    </tr>\n",
       "    <tr>\n",
       "      <th>1</th>\n",
       "      <td>13.956211</td>\n",
       "    </tr>\n",
       "  </tbody>\n",
       "</table>\n",
       "</div>"
      ],
      "text/plain": [
       "   avg_response_time_hrs\n",
       "0               7.959591\n",
       "1              13.956211"
      ]
     },
     "execution_count": 9,
     "metadata": {},
     "output_type": "execute_result"
    }
   ],
   "source": [
    "# Compare average response time: high-priority weekend vs others\n",
    "agg = (df.groupby('int_highprio_weekend')['response_time_hrs'].mean().rename({0:\"other\",1:\"highprio_weekend\"}).reset_index(drop=True))\n",
    "agg.to_frame(\"avg_response_time_hrs\")\n"
   ]
  },
  {
   "cell_type": "markdown",
   "metadata": {},
   "source": [
    "#### Side Note:  Why create `int_highprio_weekend` feature in the first place aka the use-case\n",
    "\n",
    "- **Definition:** 1 if the complaint is both **high-priority** and submitted on a **weekend**, else 0.\n",
    "- **Why it matters:** Ops can check if **high-priority weekend** cases have longer response times or need different staffing.\n",
    "- **Stakeholder example:** The **Operations Manager** could propose adding a weekend on-call rota for elevator/electric emergencies if these cases show longer average response time.\n"
   ]
  },
  {
   "cell_type": "markdown",
   "metadata": {},
   "source": [
    "### 👩‍💻 Student-Led Section (20 minutes)"
   ]
  },
  {
   "cell_type": "markdown",
   "metadata": {},
   "source": [
    "**Goal:** Create and interpret *interaction features* that would help a stakeholder you choose (e.g., Ops Manager, Borough Director).\n",
    "\n",
    "**Rules**\n",
    "- The instructor built one interaction; you will build **others**.\n",
    "- For each interaction you create, add **one sentence** explaining how a stakeholder could use it.\n",
    "\n",
    "**Deliverables**\n",
    "- At least **2 new interactions**\n",
    "- A short **stakeholder note** under each (1–2 sentences)\n"
   ]
  },
  {
   "cell_type": "markdown",
   "metadata": {},
   "source": [
    "#### Task 1:  Create Interaction #1 \n",
    "\n",
    "**Goal:** Build a binary interaction using two booleans we already have (e.g., `is_weekend × is_night`, or `is_high_priority × is_peak_commute`).\n",
    "\n",
    "**Stakeholder note (1–2 sentences):** Explain how your chosen stakeholder could use this interaction to make a decision.\n",
    "\n",
    "**Answer:** The stakeholder could use this interaction as a means to check if a high priority complaint will be subjected to peak commute times. To explain even further, high priority complaints are issues that require more immediate action, and peak commutes are times throughout the day when traffic will be higher and take longer due to it being the busiest hours of the day, thus the peak commute. This metric could help dictate decisions on actions knowing a high priority complaint will take longer to solve due to peak commute times.\n"
   ]
  },
  {
   "cell_type": "code",
   "execution_count": 10,
   "metadata": {},
   "outputs": [
    {
     "data": {
      "text/plain": [
       "int_highprio_peakcommute    0.0105\n",
       "dtype: float64"
      ]
     },
     "execution_count": 10,
     "metadata": {},
     "output_type": "execute_result"
    }
   ],
   "source": [
    "# Example pattern (replace None):\n",
    "new_col_name_1 = 'int_highprio_peakcommute'  # e.g., \"int_highprio_peakcommute\"\n",
    "left_bool_1    = df['is_high_priority']  # e.g., df[\"is_high_priority\"]\n",
    "right_bool_1   = df['is_peak_commute']  # e.g., df[\"is_peak_commute\"]\n",
    "\n",
    "df[new_col_name_1] = (left_bool_1.astype(int) * right_bool_1.astype(int))\n",
    "df[[new_col_name_1]].mean().round(4)  # quick share check"
   ]
  },
  {
   "cell_type": "markdown",
   "metadata": {},
   "source": [
    "#### Task 2: Create Interaction #2\n",
    "\n",
    "**Goal:** Build a **borough-specific** interaction (e.g., `is_brooklyn × is_high_priority` or `is_brooklyn × is_weekend`).\n",
    "\n",
    "**Stakeholder note (1–2 sentences):** Explain how a **Borough Director** could use this to prioritize crews or adjust on-hand maintenance staff.\n",
    "\n",
    "**Answer:** This interaction could be especially useful to borough-level directors, specifically the one for Brooklyn. NYC is a big place, so having an interaction that looks at high-priority complaints in Brooklyn could help filter out noise and make high-priority complaints easy and digestible."
   ]
  },
  {
   "cell_type": "code",
   "execution_count": 13,
   "metadata": {},
   "outputs": [
    {
     "data": {
      "text/plain": [
       "int_brooklyn_highprio    0.007\n",
       "dtype: float64"
      ]
     },
     "execution_count": 13,
     "metadata": {},
     "output_type": "execute_result"
    }
   ],
   "source": [
    "# Example pattern (replace None):\n",
    "new_col_name_2 = 'int_brooklyn_highprio'   # e.g., \"int_brooklyn_weekend\"\n",
    "left_bool_2    = df['is_brooklyn']   # e.g., df[\"is_brooklyn\"]\n",
    "right_bool_2   = df['is_high_priority']   # e.g., df[\"is_weekend\"]\n",
    "\n",
    "df[new_col_name_2] = (left_bool_2.astype(int) * right_bool_2.astype(int))\n",
    "df[[new_col_name_2]].mean().round(4)"
   ]
  },
  {
   "cell_type": "markdown",
   "metadata": {},
   "source": [
    "#### Task 3 — Aggregate Check\n",
    "\n",
    "Compute and show the average `response_time_hrs` grouped by **each new interaction** you created.  \n",
    "Add a 1‑sentence takeaway for each (e.g., “Group=1 is slower by ~3.2 hours → staffing gap.”)\n"
   ]
  },
  {
   "cell_type": "code",
   "execution_count": 14,
   "metadata": {},
   "outputs": [
    {
     "name": "stdout",
     "output_type": "stream",
     "text": [
      "\n",
      "=== int_highprio_peakcommute ===\n",
      "int_highprio_peakcommute\n",
      "0     7.93\n",
      "1    16.58\n",
      "Name: response_time_hrs, dtype: float64\n",
      "\n",
      "=== int_brooklyn_highprio ===\n",
      "int_brooklyn_highprio\n",
      "0     7.95\n",
      "1    17.21\n",
      "Name: response_time_hrs, dtype: float64\n"
     ]
    }
   ],
   "source": [
    "# Replace None with your new column names from Tasks 1 & 2\n",
    "for col in [\"int_highprio_peakcommute\", \"int_brooklyn_highprio\"]:  # e.g., [\"int_highprio_peakcommute\", \"int_brooklyn_weekend\"]\n",
    "    grp = (df.groupby(col)[\"response_time_hrs\"].mean().round(2))\n",
    "    print(f\"\\n=== {col} ===\")\n",
    "    print(grp)"
   ]
  },
  {
   "cell_type": "markdown",
   "metadata": {},
   "source": [
    "**Answer:** First, to explain what we are seeing, we are seeing the average response time, in hours, for our new interactions we created. Across both interactions, we are seeing more than double the amount of response time hours for both interactions. This means that high priority complaints during peak commutes take longer than when either factor is not true, a significant metric that is important. Similarly, high priority complaints in Brooklyn are also getting more than double average response time in hours, another important metric that calls for a serious review of how complaints are handled given these situations."
   ]
  },
  {
   "cell_type": "markdown",
   "metadata": {},
   "source": [
    "#### Reflection (2–5 sentences)\n",
    "Pick **one** of your interactions and explain:\n",
    "\n",
    "- Why it is useful to your chosen stakeholder\n",
    "- One risk or bias it might introduce (e.g., masking weekday patterns)\n",
    "- A next step to validate it (e.g., compare across months, run an A/B on staffing)\n",
    "\n",
    "\n",
    "\n",
    "**Answer:** \n",
    "\n",
    "- The interaction of high priority complaints during peak hours is useful for a stakeholder because it is both an actionable insight and a tracker that will change as things improve/worsen. The stakeholder can see that even high priority complaints are still subject to very long response times during peak commute times. The numbers from this interaction could support the stakeholder when talking to other people that can help improve this issue, like governmental departments that deal with these complaints on the ground.\n",
    "\n",
    "- One risk of bias that is apparent is that we are generalizing two factors: whether it is a high priority complaint or whether it's during peak commute hours. We don't know which one is false when our interaction shows 1, it simply only tells us that one of the factors is False.\n",
    "\n",
    "- To validate this interaction, we could run a statistical test to find the significant differences between four groups: Neither factor is true, the first factor is true, the second factor is true, and both factors are true. With these groups, we can run an ANOVA and Post-Hoc to validate which factors affect which, and what differences they bring about that lead to the overall interaction."
   ]
  },
  {
   "cell_type": "markdown",
   "metadata": {},
   "source": [
    "### 📣 Class Share-Out & Instructor Wrap-Up (15 minutes)\n",
    "\n",
    "Be ready to have the students share out the following points with the class: \n",
    "\n",
    "**Explain:**\n",
    "Your response to the reflection question above "
   ]
  },
  {
   "cell_type": "markdown",
   "metadata": {},
   "source": [
    "#### Instructor Wrap-Up: Explainability & Complexity (Notes)\n",
    "\n",
    "- **Interpretability:** Simple binary interactions are clearer to stakeholders than complex numeric × numeric terms.\n",
    "- **Complexity vs. Performance:** More interactions can improve model accuracy but may reduce explainability -- Mod 6\n",
    "- **Scaling:** If you use numeric × numeric interactions, consider scaling before modeling -- We didn't do that here BUT you saw how to scale in code-along\n",
    "- **Correlation & Leakage:** Interactions can be correlated!  This can cause a problem for modeling so keep that in mind -- Mod 6\n",
    "- **DECISION MAKING:** Remember our DATA IN CONTEXT AREA-- this notebook helped you drive decision making by not just looking at the data surface but creating features and interaction terms that MATTER!\n"
   ]
  }
 ],
 "metadata": {
  "kernelspec": {
   "display_name": "data-analysis-env",
   "language": "python",
   "name": "python3"
  },
  "language_info": {
   "codemirror_mode": {
    "name": "ipython",
    "version": 3
   },
   "file_extension": ".py",
   "mimetype": "text/x-python",
   "name": "python",
   "nbconvert_exporter": "python",
   "pygments_lexer": "ipython3",
   "version": "3.9.22"
  }
 },
 "nbformat": 4,
 "nbformat_minor": 2
}
