{
 "cells": [
  {
   "cell_type": "markdown",
   "metadata": {},
   "source": [
    "## 🛠️ Mod5 Data Challenge 7: Churn and Activation \n",
    "\n",
    "\n",
    "**Why this activity?**  \n",
    "Use real transactions to compute simple **activation** and **monthly churn** so we can reason about product health and early value.\n",
    "\n",
    "\n",
    "**Dataset:** UCI Online Retail II (Excel, 2009–2011). \n",
    "\n",
    "**Goals — You will be able to:**\n",
    "1) Load & minimally prep the Online Retail II Excel data  \n",
    "2) Define a simple **activation** metric  \n",
    "3) Estimate **monthly churn** (active in month *t* but not in *t+1*)  \n",
    "4) Explain changes and propose concrete actions\n",
    "\n",
    "**Interview practice:**\n",
    "- Q1: Why can a small churn increase (e.g., 3% → 5%) be a big deal over a year?\n",
    "- Q2: How would you define activation for a product without purchases?\n",
    "\n"
   ]
  },
  {
   "cell_type": "markdown",
   "metadata": {},
   "source": [
    "### 👩‍🏫 Instructor-Led Demo (25 minutes)"
   ]
  },
  {
   "cell_type": "markdown",
   "metadata": {},
   "source": [
    "### Step 1 — Load the Online Retail II Excel and prepare fields (You've seen this already!)\n",
    "\n",
    "**Notes:**  \n",
    "- Read both sheets, parse dates, keep all rows (including cancellations/returns), drop only missing `CustomerID`.  \n",
    "- We’ll compute a helper `amount` and a `snapshot_date` (max date + 1 day).  \n",
    "- The goal is to practice metrics, not heavy cleaning.\n",
    "\n",
    "\n"
   ]
  },
  {
   "cell_type": "code",
   "execution_count": null,
   "metadata": {},
   "outputs": [],
   "source": [
    "# import packages per usual \n",
    "import pandas as pd\n",
    "import numpy as np\n",
    "import seaborn as sns\n",
    "import matplotlib.pyplot as plt\n",
    "from datetime import timedelta"
   ]
  },
  {
   "cell_type": "code",
   "execution_count": null,
   "metadata": {},
   "outputs": [],
   "source": [
    "#YOU'VE SEEN THIS CODE ALREADY :) \n",
    "\n",
    "# Path to your downloaded Excel file\n",
    "DATA_PATH = \"../data/online_retail_II.xlsx\"  \n",
    "\n",
    "# 1) Read both sheets and concatenate\n",
    "sheets = [\"Year 2009-2010\", \"Year 2010-2011\"]\n",
    "df_list = [pd.read_excel(DATA_PATH, sheet_name=s, engine=\"openpyxl\") for s in sheets]\n",
    "df = pd.concat(df_list, ignore_index=True)\n",
    "\n",
    "# 2) Parse datetime\n",
    "df[\"InvoiceDate\"] = pd.to_datetime(df[\"InvoiceDate\"], errors=\"coerce\")\n",
    "\n",
    "# 3) Drop missing CustomerID (required to build RFM)\n",
    "df = df.dropna(subset=[\"Customer ID\"]).copy()\n",
    "df[\"Customer ID\"] = df[\"Customer ID\"].astype(int)\n",
    "\n",
    "# 4) Line total (Monetary basis uses positive spend only)\n",
    "df[\"amount\"] = df[\"Quantity\"] * df[\"Price\"]\n",
    "snapshot_date = df[\"InvoiceDate\"].max().normalize() + pd.Timedelta(days=1)\n",
    "\n",
    "df.head()\n"
   ]
  },
  {
   "cell_type": "markdown",
   "metadata": {},
   "source": [
    "### Step 2 — Customer ledger\n",
    "**Notes:**  \n",
    "- For each customer: first invoice (signup proxy), last invoice, number of **unique** invoices.  \n",
    "- We’ll anchor activation logic to first invoice date.\n",
    "\n"
   ]
  },
  {
   "cell_type": "code",
   "execution_count": null,
   "metadata": {},
   "outputs": [],
   "source": [
    "cust = (\n",
    "    df.groupby(None)\n",
    "      .agg(\n",
    "          first_invoice=(\"InvoiceDate\", \"min\"),\n",
    "          last_invoice=(None, \"max\"),\n",
    "          unique_invoices=(\"Invoice\", None)\n",
    "      )\n",
    "      .reset_index()\n",
    ")\n",
    "cust.head()\n"
   ]
  },
  {
   "cell_type": "markdown",
   "metadata": {},
   "source": [
    "### Step 3 — Activation (≥2 invoices within 30 days of first)\n",
    "\n",
    "**Notes:**  \n",
    "- “Activation” is the first moment when real value is likely.  \n",
    "- For simplicity: a customer is **activated** if they complete **≥2 unique invoices** within **30 days** of the first invoice.\n"
   ]
  },
  {
   "cell_type": "code",
   "execution_count": null,
   "metadata": {},
   "outputs": [],
   "source": [
    "# Prepare a 30-day window per customer\n",
    "cust[\"act_window_end\"] = cust[\"first_invoice\"] + pd.Timedelta(None)\n",
    "\n",
    "# Attach window to each row\n",
    "df_win = df.merge(cust[[\"Customer ID\", \"first_invoice\", \"act_window_end\"]], on=None, how=None)\n",
    "\n",
    "# Count unique invoices in the 30-day window\n",
    "in_win = (df_win[\"InvoiceDate\"] >= df_win[\"first_invoice\"]) & (None)\n",
    "win_counts = (\n",
    "    df_win.loc[in_win]\n",
    "          .groupby(\"Customer ID\")[\"Invoice\"]\n",
    "          .nunique()\n",
    "          .rename(\"invoices_30d\")\n",
    "          .to_frame()\n",
    ")\n",
    "\n",
    "# Merge back; users with no activity in window get 0\n",
    "cust_act = cust.merge(win_counts, on=\"Customer ID\", how=\"left\").fillna({\"invoices_30d\": 0})\n",
    "\n",
    "# Activation rule\n",
    "cust_act[\"activated_30d\"] = (cust_act[\"invoices_30d\"] >= 2).astype(int)\n",
    "activation_rate = None\n",
    "print(f\"Activation (≥2 invoices within 30 days): {activation_rate:.2f}%\")\n",
    "\n",
    "cust_act[[\"Customer ID\",\"first_invoice\",\"invoices_30d\",\"activated_30d\"]].head()\n"
   ]
  },
  {
   "cell_type": "markdown",
   "metadata": {},
   "source": [
    "### 👩‍🏫 Student Led (20 minutes) -- CHURN"
   ]
  },
  {
   "cell_type": "markdown",
   "metadata": {},
   "source": [
    "### Step 1 — Create `year_month` column\n",
    "We’ll use this to group invoices into monthly buckets.\n"
   ]
  },
  {
   "cell_type": "code",
   "execution_count": null,
   "metadata": {},
   "outputs": [],
   "source": [
    "# Create a year-month column\n",
    "\n",
    "df[\"year_month\"] = df[None].dt.to_period(None)\n"
   ]
  },
  {
   "cell_type": "code",
   "execution_count": null,
   "metadata": {},
   "outputs": [],
   "source": [
    "df[\"year_month\"] = df[\"InvoiceDate\"].dt.to_period(\"M\")\n"
   ]
  },
  {
   "cell_type": "markdown",
   "metadata": {},
   "source": [
    "### Step 2 — Track who is active each month\n",
    "You’ll create a dictionary of sets: {month: set of customer IDs}\n",
    "\n"
   ]
  },
  {
   "cell_type": "code",
   "execution_count": null,
   "metadata": {},
   "outputs": [],
   "source": [
    "active_sets = (\n",
    "    df.groupby(None)[None]\n",
    "    .apply(lambda s: set(None))\n",
    "    .to_dict()\n",
    ")"
   ]
  },
  {
   "cell_type": "code",
   "execution_count": null,
   "metadata": {},
   "outputs": [],
   "source": [
    "active_sets = (\n",
    "    df.groupby(\"year_month\")[\"Customer ID\"]\n",
    "    .apply(lambda s: set(s.unique()))\n",
    "    .to_dict()\n",
    ")\n"
   ]
  },
  {
   "cell_type": "markdown",
   "metadata": {},
   "source": [
    "### Step 3 — Calculate churn from each month to the next\n",
    "\n",
    "Churn rate = (active in t but not in t+1) / active in t\n",
    "\n"
   ]
  },
  {
   "cell_type": "code",
   "execution_count": null,
   "metadata": {},
   "outputs": [],
   "source": [
    "months_sorted = sorted(active_sets.keys())\n",
    "rows = []\n",
    "for i in range(len(months_sorted) - 1):\n",
    "    m, m_next = months_sorted[i], months_sorted[i+1]\n",
    "    active_m, active_next = active_sets[m], active_sets[m_next]\n",
    "    if len(active_m) == None:\n",
    "        continue\n",
    "    churners = None\n",
    "    churn_rate = (None) * 100\n",
    "    rows.append({\n",
    "        \"month\": str(m),\n",
    "        \"active_in_m\": len(active_m),\n",
    "        \"active_in_next\": len(active_next),\n",
    "        \"churners_to_next\": len(churners),\n",
    "        \"monthly_churn_rate_%\": round(churn_rate, 2)\n",
    "    })\n",
    "\n",
    "monthly_churn = pd.DataFrame(rows)\n",
    "monthly_churn.head()"
   ]
  },
  {
   "cell_type": "code",
   "execution_count": null,
   "metadata": {},
   "outputs": [],
   "source": [
    "months_sorted = sorted(active_sets.keys())\n",
    "rows = []\n",
    "for i in range(len(months_sorted) - 1):\n",
    "    m, m_next = months_sorted[i], months_sorted[i+1]\n",
    "    active_m, active_next = active_sets[m], active_sets[m_next]\n",
    "    if len(active_m) == 0:\n",
    "        continue\n",
    "    churners = active_m - active_next\n",
    "    churn_rate = (len(churners) / len(active_m)) * 100\n",
    "    rows.append({\n",
    "        \"month\": str(m),\n",
    "        \"active_in_m\": len(active_m),\n",
    "        \"active_in_next\": len(active_next),\n",
    "        \"churners_to_next\": len(churners),\n",
    "        \"monthly_churn_rate_%\": round(churn_rate, 2)\n",
    "    })\n",
    "\n",
    "monthly_churn = pd.DataFrame(rows)\n",
    "monthly_churn.head()\n",
    "\n"
   ]
  },
  {
   "cell_type": "markdown",
   "metadata": {},
   "source": [
    "## Wrap‑Up (15 mins): Activation & Churn\n",
    "\n",
    "Students Discussion Prompts:\n",
    "- What happens if activation = only 1 invoice? Or 3?\n",
    "- If churn spikes in a month, what should a product team investigate?\n",
    "- How would you visualize churn trends for different segments?\n",
    "\n",
    "\n",
    "🎯 What you learned:\n",
    "- How to define a simple activation metric using real invoice behavior\n",
    "- How to compute churn: who *was* active and who didn’t return\n",
    "- Real data doesn’t always align neatly — always consider your metric assumptions\n",
    "\n",
    "\n",
    "\n",
    "🚀 Next Steps:\n",
    "Try calculating **cohort churn** by signup month or country!\n"
   ]
  }
 ],
 "metadata": {
  "kernelspec": {
   "display_name": "Python (learn-env)",
   "language": "python",
   "name": "learn-env"
  },
  "language_info": {
   "codemirror_mode": {
    "name": "ipython",
    "version": 3
   },
   "file_extension": ".py",
   "mimetype": "text/x-python",
   "name": "python",
   "nbconvert_exporter": "python",
   "pygments_lexer": "ipython3",
   "version": "3.12.4"
  }
 },
 "nbformat": 4,
 "nbformat_minor": 2
}
