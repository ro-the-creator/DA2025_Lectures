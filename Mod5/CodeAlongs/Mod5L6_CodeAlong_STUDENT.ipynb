{
 "cells": [
  {
   "cell_type": "markdown",
   "metadata": {},
   "source": [
    "## Mod 5 Lecture 6 Code-Along:  Segmentation and RFM \n",
    "\n",
    "### Why this activity?\n",
    "This hands-on exercise connects directly to today’s lecture on segmentation and RFM analysis.  \n",
    "\n",
    "### Goals (you will be able to…)\n",
    "✅ Calculate Recency, Frequency, and Monetary (RFM) values  \n",
    "✅ Score customers on a scale from 1–4  \n",
    "✅ Combine RFM scores to segment customers  \n",
    "✅ Prepare for interview questions about segmentation & behavior-based targeting\n",
    "\n",
    "### Interview practice (be ready to answer)\n",
    "- **Q1: You've just completed an RFM analysis. What are two different business actions you could recommend based on your findings?**\n",
    "\n",
    "- **Q2: You work for a music streaming service that doesn't have purchases. How would you adapt RFM to user engagement?**\n"
   ]
  },
  {
   "cell_type": "markdown",
   "metadata": {},
   "source": [
    "## 🔹 Step 1 — Create a sample transaction dataset"
   ]
  },
  {
   "cell_type": "code",
   "execution_count": null,
   "metadata": {},
   "outputs": [],
   "source": [
    "import pandas as pd\n",
    "from datetime import datetime\n",
    "\n",
    "# Sample transaction data\n",
    "transactions = {\n",
    "    'customer_id': [1, 2, 1, 3, 2, 1, 4, 3, 2],\n",
    "    'transaction_date': [\n",
    "        '2023-10-01', '2023-10-05', '2023-10-12',\n",
    "        '2023-08-20', '2023-10-15', '2023-10-25',\n",
    "        '2023-06-10', '2023-09-01', '2023-10-26'\n",
    "    ],\n",
    "    'amount': [50, 75, 60, 120, 80, 55, 200, 150, 90]\n",
    "}\n",
    "\n",
    "# Convert to DataFrame and parse dates\n",
    "df = None\n",
    "df['transaction_date'] = None\n",
    "df.head()\n",
    "\n",
    "\n"
   ]
  },
  {
   "cell_type": "markdown",
   "metadata": {},
   "source": [
    "## 🔹 Step 2 — Set snapshot date and calculate Recency, Frequency, and Monetary (RFM)\n",
    "\n",
    "- **Recency**: Days since last purchase  \n",
    "- **Frequency**: Number of purchases  \n",
    "- **Monetary**: Total amount spent  \n",
    "We’ll anchor everything to a fixed snapshot date so it’s reproducible.\n"
   ]
  },
  {
   "cell_type": "code",
   "execution_count": null,
   "metadata": {},
   "outputs": [],
   "source": [
    "# Set a fixed date to calculate recency from\n",
    "snapshot_date = datetime(2023, 10, 27)\n",
    "\n",
    "# Group by customer and calculate RFM\n",
    "rfm = None\n",
    "\n",
    "rfm"
   ]
  },
  {
   "cell_type": "markdown",
   "metadata": {},
   "source": [
    "## 🔹 Step 3 — Assign scores from 1 (worst) to 4 (best)\n",
    "\n",
    "\n",
    "We’ll use quartiles:\n",
    "- For **Recency**, lower is better → score 4  \n",
    "- For **Frequency & Monetary**, higher is better → score 4  \n",
    "These scores help us group users.\n"
   ]
  },
  {
   "cell_type": "code",
   "execution_count": null,
   "metadata": {},
   "outputs": [],
   "source": [
    "# Convert raw R, F, M to scores using quartiles\n",
    "rfm['R_score'] = pd.qcut(rfm['Recency'], 4, labels=[4, 3, 2, 1])\n",
    "rfm['F_score'] = pd.qcut(rfm['Frequency'].rank(method='first'), 4, labels=[1, 2, 3, 4])\n",
    "rfm['M_score'] = None\n",
    "\n",
    "rfm[['Recency', 'Frequency', 'Monetary', 'R_score', 'F_score', 'M_score']]\n"
   ]
  },
  {
   "cell_type": "markdown",
   "metadata": {},
   "source": [
    "## 🔹 Step 4 — Combine R, F, M scores into one RFM_Score\n",
    "\n",
    "\n",
    "For example:  \n",
    "- **444** = Very recent, very frequent, high spender → Champion  \n",
    "- **111** = Not recent, rare buyer, low spender → Lost\n"
   ]
  },
  {
   "cell_type": "code",
   "execution_count": null,
   "metadata": {},
   "outputs": [],
   "source": [
    "# Combine scores into a single RFM segment\n",
    "rfm['RFM_Score'] = rfm['R_score'].astype(str) + None + rfm['M_score'].astype(str)\n",
    "\n",
    "# View full table\n",
    "rfm\n"
   ]
  },
  {
   "cell_type": "markdown",
   "metadata": {},
   "source": [
    "## 🔹 Step 5 — Interpreting segments\n",
    "\n",
    "Segmenting customers by RFM helps identify:\n",
    "- **Champions** (444): Reward and retain  \n",
    "- **At-Risk** (e.g. 431): Re-engage with offers  \n",
    "- **Lost** (111): Survey or win-back attempt  \n",
    "This helps prioritize your customer strategies.\n"
   ]
  }
 ],
 "metadata": {
  "kernelspec": {
   "display_name": "Python (learn-env)",
   "language": "python",
   "name": "learn-env"
  },
  "language_info": {
   "codemirror_mode": {
    "name": "ipython",
    "version": 3
   },
   "file_extension": ".py",
   "mimetype": "text/x-python",
   "name": "python",
   "nbconvert_exporter": "python",
   "pygments_lexer": "ipython3",
   "version": "3.12.4"
  }
 },
 "nbformat": 4,
 "nbformat_minor": 2
}
