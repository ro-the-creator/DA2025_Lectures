{
 "cells": [
  {
   "cell_type": "markdown",
   "metadata": {},
   "source": [
    "## Mod 5 Lecture 3 Code-Along:  Data Transformations \n",
    "\n",
    "### Goals\n",
    "* Apply a log-transformation on a continous numeric variable \n",
    "* Be able to articulate the difference between \"non-logged\" and log variables \n",
    "\n",
    "### Data\n",
    "Using the same NYC 311 dataset (remember the data is HUGE so we extracted just a week).  Data information exists [HERE](https://data.cityofnewyork.us/Social-Services/311-Service-Requests-from-2010-to-Present/erm2-nwe9/about_data)"
   ]
  },
  {
   "cell_type": "code",
   "execution_count": null,
   "metadata": {},
   "outputs": [],
   "source": [
    "import pandas as pd\n",
    "import numpy as np\n",
    "import matplotlib.pyplot as plt"
   ]
  },
  {
   "cell_type": "code",
   "execution_count": null,
   "metadata": {},
   "outputs": [],
   "source": [
    "# Read in data nyc311.csv \n",
    "\n",
    "df = None"
   ]
  },
  {
   "cell_type": "code",
   "execution_count": null,
   "metadata": {},
   "outputs": [],
   "source": [
    "#Run this cell without changes!  You've done this in the previous code\n",
    "\n",
    "LOCAL_TZ = \"America/New_York\"\n",
    "\n",
    "def to_utc(series, local_tz=LOCAL_TZ):\n",
    "    \"\"\"\n",
    "    Idempotent conversion:\n",
    "      1) Parse to datetime.\n",
    "      2) If naive -> localize to local_tz (handle DST).\n",
    "      3) Convert to UTC.\n",
    "    Safe to re-run without raising 'Already tz-aware' errors.\n",
    "    \"\"\"\n",
    "    s = pd.to_datetime(series, errors=\"coerce\")\n",
    "\n",
    "    # if tz-naive, localize; if tz-aware, leave as-is\n",
    "    if s.dt.tz is None:\n",
    "        s = s.dt.tz_localize(local_tz, nonexistent=\"shift_forward\", ambiguous=\"NaT\")\n",
    "\n",
    "    return s.dt.tz_convert(\"UTC\")\n",
    "\n",
    "# --- Apply to your DataFrame (df) ---\n",
    "# Ensure the columns exist; adjust names if your file uses different headers\n",
    "required_cols = [\"Created Date\", \"Closed Date\"]\n",
    "missing = [c for c in required_cols if c not in df.columns]\n",
    "if missing:\n",
    "    raise KeyError(f\"Missing expected columns: {missing}\")\n",
    "\n",
    "# Optionally drop rows that lack either timestamp before conversion\n",
    "df = df.dropna(subset=[\"Created Date\", \"Closed Date\"]).copy()\n",
    "\n",
    "df[\"Created Date\"] = to_utc(df[\"Created Date\"])\n",
    "df[\"Closed Date\"]  = to_utc(df[\"Closed Date\"])\n",
    "\n",
    "# Compute response time in hours\n",
    "delta = df[\"Closed Date\"] - df[\"Created Date\"]\n",
    "df[\"response_time_hrs\"] = delta.dt.total_seconds() / 3600\n",
    "\n",
    "# Drop any rows that became NaT due to ambiguous DST cases\n",
    "df = df.dropna(subset=[\"Created Date\", \"Closed Date\"])"
   ]
  },
  {
   "cell_type": "markdown",
   "metadata": {},
   "source": [
    "### Task 1:  Visualize the \"response time\" BEFORE LOGGING "
   ]
  },
  {
   "cell_type": "code",
   "execution_count": null,
   "metadata": {},
   "outputs": [],
   "source": [
    "# Assume df already loaded with tz-aware dates and response_time_hrs\n",
    "df[\"response_time_hrs\"] = None # avoid log(0)\n",
    "\n",
    "# Quick look at original distribution\n",
    "None"
   ]
  },
  {
   "cell_type": "markdown",
   "metadata": {},
   "source": [
    "### Task 2:  Apply a log transformation "
   ]
  },
  {
   "cell_type": "code",
   "execution_count": null,
   "metadata": {},
   "outputs": [],
   "source": [
    "df[\"log_response_time\"] = None\n",
    "df[[\"response_time_hrs\", \"log_response_time\"]].describe()"
   ]
  },
  {
   "cell_type": "markdown",
   "metadata": {},
   "source": [
    "### Task 3:  Visualize the Difference "
   ]
  },
  {
   "cell_type": "code",
   "execution_count": null,
   "metadata": {},
   "outputs": [],
   "source": [
    "plt.figure(figsize=(12,5))\n",
    "\n",
    "plt.subplot(1, 2, 1)\n",
    "None\n",
    "plt.title(\"Original Response Time\")\n",
    "\n",
    "plt.subplot(1, 2, 2)\n",
    "None\n",
    "plt.title(\"Log-Transformed\")\n",
    "\n",
    "plt.tight_layout()\n",
    "plt.show()\n"
   ]
  }
 ],
 "metadata": {
  "kernelspec": {
   "display_name": "Python (learn-env)",
   "language": "python",
   "name": "learn-env"
  },
  "language_info": {
   "codemirror_mode": {
    "name": "ipython",
    "version": 3
   },
   "file_extension": ".py",
   "mimetype": "text/x-python",
   "name": "python",
   "nbconvert_exporter": "python",
   "pygments_lexer": "ipython3",
   "version": "3.12.4"
  }
 },
 "nbformat": 4,
 "nbformat_minor": 2
}
