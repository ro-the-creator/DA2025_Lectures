{
 "cells": [
  {
   "cell_type": "markdown",
   "metadata": {},
   "source": [
    "## Mod 5 Lecture 5 Code-Along:  Cohorts & Retention \n",
    "\n",
    "### Why this activity?\n",
    "This hands-on exercise connects directly to today’s lecture on **Cohorts & Retention**. You’ll build a **cohort retention matrix** that shows whether new users keep coming back over time. This is core to understanding product “stickiness” and whether changes are helping or hurting.\n",
    "\n",
    "### Goals (you will be able to…)\n",
    "1. Define **cohorts** by a shared start event (signup month).\n",
    "2. Compute **retention** across months since signup.\n",
    "3. Visualize and interpret a **cohort matrix** (table of retention rates).\n",
    "4. Explain cohort differences to stakeholders in plain language.\n",
    "\n",
    "### Interview practice (be ready to answer)\n",
    "- **Q1:** Why is a cohort retention chart more useful than just looking at MAU (monthly active users)?\n",
    "- **Q2:** Day-7 retention suddenly dropped from 40% → 20% for a new cohort. What do you investigate first?\n"
   ]
  },
  {
   "cell_type": "markdown",
   "metadata": {},
   "source": [
    "## Step 1 — Create a small user activity dataset\n",
    "We’ll use a tiny example so you can see the full pipeline end-to-end.\n"
   ]
  },
  {
   "cell_type": "code",
   "execution_count": null,
   "metadata": {},
   "outputs": [],
   "source": [
    "import pandas as pd\n",
    "\n",
    "data = {\n",
    "    \"user_id\":       [1, 2, 1, 3, 2, 1, 4, 3],\n",
    "    \"activity_date\": [\"2023-01-05\", \"2023-01-10\", \"2023-02-04\", \"2023-02-15\",\n",
    "                      \"2023-02-16\", \"2023-03-01\", \"2023-03-20\", \"2023-03-25\"]\n",
    "}\n",
    "df = pd.DataFrame(data)\n",
    "#Convert to datetime \n",
    "df[\"activity_date\"] = None\n",
    "df.head()\n",
    "\n"
   ]
  },
  {
   "cell_type": "markdown",
   "metadata": {},
   "source": [
    "## Step 2 — Define cohorts by signup month\n",
    "We’ll:\n",
    "1) Find each user’s **first activity** date (treat as signup).  \n",
    "2) Convert that to a **cohort month** (e.g., 2023-01)."
   ]
  },
  {
   "cell_type": "code",
   "execution_count": null,
   "metadata": {},
   "outputs": [],
   "source": [
    "# First activity per user (treat as signup date)\n",
    "df[\"signup_date\"] = None\n",
    "# Cohort month (Period[M])\n",
    "df[\"cohort\"] = None\n",
    "df[[\"user_id\", \"activity_date\", \"signup_date\", \"cohort\"]].head()\n"
   ]
  },
  {
   "cell_type": "markdown",
   "metadata": {},
   "source": [
    "## Step 3 — Calculate retention by months since signup\n",
    "We’ll:\n",
    "1) Compute **month_number** = months since cohort start.  \n",
    "2) Count **unique active users** by (cohort, month_number).  \n",
    "3) Pivot to a **cohort matrix**: rows = cohorts, columns = months since signup.  \n",
    "4) Divide each row by **cohort size** (Month 0) to get a retention rate."
   ]
  },
  {
   "cell_type": "code",
   "execution_count": null,
   "metadata": {},
   "outputs": [],
   "source": [
    "# Months since signup (cohort)\n",
    "\n",
    "df[\"month_number\"] = None\n",
    "\n",
    "# Unique active users per (cohort, month_number)\n",
    "cohort_data = None\n",
    "\n",
    "# Pivot: rows = cohort, columns = months since signup\n",
    "cohort_pivot = cohort_data.pivot(None)\n",
    "\n",
    "# Cohort size = Month 0 users\n",
    "cohort_size = cohort_pivot.iloc[:, 0]\n",
    "retention_matrix = cohort_pivot.divide(cohort_size, axis=0)\n",
    "\n",
    "retention_matrix\n"
   ]
  },
  {
   "cell_type": "markdown",
   "metadata": {},
   "source": [
    "## Step 4 — Format as % and interpret\n",
    "We’ll convert to percents for a stakeholder-friendly view.  \n",
    "Then write 2–3 sentences interpreting a meaningful difference between cohorts."
   ]
  },
  {
   "cell_type": "code",
   "execution_count": null,
   "metadata": {},
   "outputs": [],
   "source": [
    "retention_pct = None\n",
    "retention_pct.fillna(\"\", inplace=True)\n",
    "retention_pct\n"
   ]
  },
  {
   "cell_type": "markdown",
   "metadata": {},
   "source": [
    "### Sample Interpretation\n",
    "- The **Jan 2023** cohort retains better at Month 1 than the **Feb 2023** cohort.  \n",
    "- A likely explanation is a **product or onboarding change** made in February that increased early churn, or a **marketing source** shift that brought in lower-intent users.  \n",
    "- Next, I’d track **onboarding completion** and **first-week engagement** for each cohort and compare to see where the friction starts.\n"
   ]
  },
  {
   "cell_type": "markdown",
   "metadata": {},
   "source": [
    "### Optional (for now):  Visualize It!"
   ]
  },
  {
   "cell_type": "code",
   "execution_count": null,
   "metadata": {},
   "outputs": [],
   "source": [
    "#RUN THIS CELL WITHOUT CHANGES\n",
    "\n",
    "import numpy as np\n",
    "import pandas as pd\n",
    "import matplotlib.pyplot as plt\n",
    "import seaborn as sns\n",
    "\n",
    "# Ensure numeric 0–100 matrix\n",
    "pct = retention_pct.copy()\n",
    "pct = pct.replace(\"\", np.nan).astype(float).fillna(0.0)\n",
    "pct = pct.sort_index(axis=0).sort_index(axis=1)\n",
    "\n",
    "plt.figure(figsize=(9, 5))\n",
    "ax = sns.heatmap(\n",
    "    pct,\n",
    "    annot=True,            # show numbers in cells\n",
    "    fmt=\".0f\",             # no decimals\n",
    "    linewidths=0.5,\n",
    "    linecolor=\"white\",\n",
    "    cbar_kws={\"label\": \"Retention (%)\"},\n",
    "    vmin=0, vmax=100\n",
    ")\n",
    "ax.set_title(\"Cohort Retention Heatmap (%)\")\n",
    "ax.set_xlabel(\"Months Since Signup\")\n",
    "ax.set_ylabel(\"Cohort (Signup Month)\")\n",
    "plt.tight_layout()\n",
    "plt.show()\n"
   ]
  }
 ],
 "metadata": {
  "kernelspec": {
   "display_name": "Python (learn-env)",
   "language": "python",
   "name": "learn-env"
  },
  "language_info": {
   "codemirror_mode": {
    "name": "ipython",
    "version": 3
   },
   "file_extension": ".py",
   "mimetype": "text/x-python",
   "name": "python",
   "nbconvert_exporter": "python",
   "pygments_lexer": "ipython3",
   "version": "3.12.4"
  }
 },
 "nbformat": 4,
 "nbformat_minor": 2
}
