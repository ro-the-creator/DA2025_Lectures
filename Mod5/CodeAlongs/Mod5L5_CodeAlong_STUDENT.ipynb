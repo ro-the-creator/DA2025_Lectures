{
 "cells": [
  {
   "cell_type": "markdown",
   "metadata": {},
   "source": [
    "## Mod 5 Lecture 5 Code-Along:  Cohorts & Retention \n",
    "\n",
    "### Why this activity?\n",
    "This hands-on exercise connects directly to today’s lecture on **Cohorts & Retention**. You’ll build a **cohort retention matrix** that shows whether new users keep coming back over time. This is core to understanding product “stickiness” and whether changes are helping or hurting.\n",
    "\n",
    "### Goals (you will be able to…)\n",
    "1. Define **cohorts** by a shared start event (signup month).\n",
    "2. Compute **retention** across months since signup.\n",
    "3. Visualize and interpret a **cohort matrix** (table of retention rates).\n",
    "4. Explain cohort differences to stakeholders in plain language.\n",
    "\n",
    "### Interview practice (be ready to answer)\n",
    "- **Q1:** Why is a cohort retention chart more useful than just looking at MAU (monthly active users)?\n",
    "- **Q2:** Day-7 retention suddenly dropped from 40% → 20% for a new cohort. What do you investigate first?\n"
   ]
  },
  {
   "cell_type": "markdown",
   "metadata": {},
   "source": [
    "## Step 1 — Create a small user activity dataset\n",
    "We’ll use a tiny example so you can see the full pipeline end-to-end.\n"
   ]
  },
  {
   "cell_type": "code",
   "execution_count": 1,
   "metadata": {},
   "outputs": [
    {
     "data": {
      "text/html": [
       "<div>\n",
       "<style scoped>\n",
       "    .dataframe tbody tr th:only-of-type {\n",
       "        vertical-align: middle;\n",
       "    }\n",
       "\n",
       "    .dataframe tbody tr th {\n",
       "        vertical-align: top;\n",
       "    }\n",
       "\n",
       "    .dataframe thead th {\n",
       "        text-align: right;\n",
       "    }\n",
       "</style>\n",
       "<table border=\"1\" class=\"dataframe\">\n",
       "  <thead>\n",
       "    <tr style=\"text-align: right;\">\n",
       "      <th></th>\n",
       "      <th>user_id</th>\n",
       "      <th>activity_date</th>\n",
       "    </tr>\n",
       "  </thead>\n",
       "  <tbody>\n",
       "    <tr>\n",
       "      <th>0</th>\n",
       "      <td>1</td>\n",
       "      <td>2023-01-05</td>\n",
       "    </tr>\n",
       "    <tr>\n",
       "      <th>1</th>\n",
       "      <td>2</td>\n",
       "      <td>2023-01-10</td>\n",
       "    </tr>\n",
       "    <tr>\n",
       "      <th>2</th>\n",
       "      <td>1</td>\n",
       "      <td>2023-02-04</td>\n",
       "    </tr>\n",
       "    <tr>\n",
       "      <th>3</th>\n",
       "      <td>3</td>\n",
       "      <td>2023-02-15</td>\n",
       "    </tr>\n",
       "    <tr>\n",
       "      <th>4</th>\n",
       "      <td>2</td>\n",
       "      <td>2023-02-16</td>\n",
       "    </tr>\n",
       "  </tbody>\n",
       "</table>\n",
       "</div>"
      ],
      "text/plain": [
       "   user_id activity_date\n",
       "0        1    2023-01-05\n",
       "1        2    2023-01-10\n",
       "2        1    2023-02-04\n",
       "3        3    2023-02-15\n",
       "4        2    2023-02-16"
      ]
     },
     "execution_count": 1,
     "metadata": {},
     "output_type": "execute_result"
    }
   ],
   "source": [
    "import pandas as pd\n",
    "\n",
    "data = {\n",
    "    \"user_id\":       [1, 2, 1, 3, 2, 1, 4, 3],\n",
    "    \"activity_date\": [\"2023-01-05\", \"2023-01-10\", \"2023-02-04\", \"2023-02-15\",\n",
    "                      \"2023-02-16\", \"2023-03-01\", \"2023-03-20\", \"2023-03-25\"]\n",
    "}\n",
    "df = pd.DataFrame(data)\n",
    "#Convert to datetime \n",
    "df[\"activity_date\"] = pd.to_datetime(df['activity_date'])\n",
    "df.head()\n",
    "\n"
   ]
  },
  {
   "cell_type": "markdown",
   "metadata": {},
   "source": [
    "## Step 2 — Define cohorts by signup month\n",
    "We’ll:\n",
    "1) Find each user’s **first activity** date (treat as signup).  \n",
    "2) Convert that to a **cohort month** (e.g., 2023-01)."
   ]
  },
  {
   "cell_type": "code",
   "execution_count": 8,
   "metadata": {},
   "outputs": [
    {
     "data": {
      "text/html": [
       "<div>\n",
       "<style scoped>\n",
       "    .dataframe tbody tr th:only-of-type {\n",
       "        vertical-align: middle;\n",
       "    }\n",
       "\n",
       "    .dataframe tbody tr th {\n",
       "        vertical-align: top;\n",
       "    }\n",
       "\n",
       "    .dataframe thead th {\n",
       "        text-align: right;\n",
       "    }\n",
       "</style>\n",
       "<table border=\"1\" class=\"dataframe\">\n",
       "  <thead>\n",
       "    <tr style=\"text-align: right;\">\n",
       "      <th></th>\n",
       "      <th>user_id</th>\n",
       "      <th>activity_date</th>\n",
       "      <th>signup_date</th>\n",
       "      <th>cohort</th>\n",
       "    </tr>\n",
       "  </thead>\n",
       "  <tbody>\n",
       "    <tr>\n",
       "      <th>0</th>\n",
       "      <td>1</td>\n",
       "      <td>2023-01-05</td>\n",
       "      <td>2023-01-05</td>\n",
       "      <td>2023-01</td>\n",
       "    </tr>\n",
       "    <tr>\n",
       "      <th>1</th>\n",
       "      <td>2</td>\n",
       "      <td>2023-01-10</td>\n",
       "      <td>2023-01-10</td>\n",
       "      <td>2023-01</td>\n",
       "    </tr>\n",
       "    <tr>\n",
       "      <th>2</th>\n",
       "      <td>1</td>\n",
       "      <td>2023-02-04</td>\n",
       "      <td>2023-01-05</td>\n",
       "      <td>2023-01</td>\n",
       "    </tr>\n",
       "    <tr>\n",
       "      <th>3</th>\n",
       "      <td>3</td>\n",
       "      <td>2023-02-15</td>\n",
       "      <td>2023-02-15</td>\n",
       "      <td>2023-02</td>\n",
       "    </tr>\n",
       "    <tr>\n",
       "      <th>4</th>\n",
       "      <td>2</td>\n",
       "      <td>2023-02-16</td>\n",
       "      <td>2023-01-10</td>\n",
       "      <td>2023-01</td>\n",
       "    </tr>\n",
       "    <tr>\n",
       "      <th>5</th>\n",
       "      <td>1</td>\n",
       "      <td>2023-03-01</td>\n",
       "      <td>2023-01-05</td>\n",
       "      <td>2023-01</td>\n",
       "    </tr>\n",
       "    <tr>\n",
       "      <th>6</th>\n",
       "      <td>4</td>\n",
       "      <td>2023-03-20</td>\n",
       "      <td>2023-03-20</td>\n",
       "      <td>2023-03</td>\n",
       "    </tr>\n",
       "    <tr>\n",
       "      <th>7</th>\n",
       "      <td>3</td>\n",
       "      <td>2023-03-25</td>\n",
       "      <td>2023-02-15</td>\n",
       "      <td>2023-02</td>\n",
       "    </tr>\n",
       "  </tbody>\n",
       "</table>\n",
       "</div>"
      ],
      "text/plain": [
       "   user_id activity_date signup_date   cohort\n",
       "0        1    2023-01-05  2023-01-05  2023-01\n",
       "1        2    2023-01-10  2023-01-10  2023-01\n",
       "2        1    2023-02-04  2023-01-05  2023-01\n",
       "3        3    2023-02-15  2023-02-15  2023-02\n",
       "4        2    2023-02-16  2023-01-10  2023-01\n",
       "5        1    2023-03-01  2023-01-05  2023-01\n",
       "6        4    2023-03-20  2023-03-20  2023-03\n",
       "7        3    2023-03-25  2023-02-15  2023-02"
      ]
     },
     "execution_count": 8,
     "metadata": {},
     "output_type": "execute_result"
    }
   ],
   "source": [
    "# First activity per user (treat as signup date)\n",
    "#df[\"signup_date\"] = df.groupby(df['user_id']).transform(min)\n",
    "# Cohort month (Period[M])\n",
    "df[\"cohort\"] = df['signup_date'].dt.to_period('M')\n",
    "df[[\"user_id\", \"activity_date\", \"signup_date\", \"cohort\"]].head(8)\n"
   ]
  },
  {
   "cell_type": "markdown",
   "metadata": {},
   "source": [
    "## Step 3 — Calculate retention by months since signup\n",
    "We’ll:\n",
    "1) Compute **month_number** = months since cohort start.  \n",
    "2) Count **unique active users** by (cohort, month_number).  \n",
    "3) Pivot to a **cohort matrix**: rows = cohorts, columns = months since signup.  \n",
    "4) Divide each row by **cohort size** (Month 0) to get a retention rate."
   ]
  },
  {
   "cell_type": "code",
   "execution_count": 10,
   "metadata": {},
   "outputs": [
    {
     "data": {
      "text/html": [
       "<div>\n",
       "<style scoped>\n",
       "    .dataframe tbody tr th:only-of-type {\n",
       "        vertical-align: middle;\n",
       "    }\n",
       "\n",
       "    .dataframe tbody tr th {\n",
       "        vertical-align: top;\n",
       "    }\n",
       "\n",
       "    .dataframe thead th {\n",
       "        text-align: right;\n",
       "    }\n",
       "</style>\n",
       "<table border=\"1\" class=\"dataframe\">\n",
       "  <thead>\n",
       "    <tr style=\"text-align: right;\">\n",
       "      <th>month_number</th>\n",
       "      <th>0</th>\n",
       "      <th>1</th>\n",
       "      <th>2</th>\n",
       "    </tr>\n",
       "    <tr>\n",
       "      <th>cohort</th>\n",
       "      <th></th>\n",
       "      <th></th>\n",
       "      <th></th>\n",
       "    </tr>\n",
       "  </thead>\n",
       "  <tbody>\n",
       "    <tr>\n",
       "      <th>2023-01</th>\n",
       "      <td>1.0</td>\n",
       "      <td>1.0</td>\n",
       "      <td>0.5</td>\n",
       "    </tr>\n",
       "    <tr>\n",
       "      <th>2023-02</th>\n",
       "      <td>1.0</td>\n",
       "      <td>1.0</td>\n",
       "      <td>NaN</td>\n",
       "    </tr>\n",
       "    <tr>\n",
       "      <th>2023-03</th>\n",
       "      <td>1.0</td>\n",
       "      <td>NaN</td>\n",
       "      <td>NaN</td>\n",
       "    </tr>\n",
       "  </tbody>\n",
       "</table>\n",
       "</div>"
      ],
      "text/plain": [
       "month_number    0    1    2\n",
       "cohort                     \n",
       "2023-01       1.0  1.0  0.5\n",
       "2023-02       1.0  1.0  NaN\n",
       "2023-03       1.0  NaN  NaN"
      ]
     },
     "execution_count": 10,
     "metadata": {},
     "output_type": "execute_result"
    }
   ],
   "source": [
    "# Months since signup (cohort)\n",
    "\n",
    "df[\"month_number\"] = (df['activity_date'].dt.to_period('M') - df['cohort']).apply(lambda x: x.n)\n",
    "\n",
    "# Unique active users per (cohort, month_number)\n",
    "cohort_data = (df.groupby(['cohort', 'month_number'])['user_id'].nunique().reset_index())\n",
    "\n",
    "# Pivot: rows = cohort, columns = months since signup\n",
    "cohort_pivot = cohort_data.pivot(index='cohort', columns='month_number', values='user_id')\n",
    "\n",
    "# Cohort size = Month 0 users\n",
    "cohort_size = cohort_pivot.iloc[:, 0]\n",
    "retention_matrix = cohort_pivot.divide(cohort_size, axis=0)\n",
    "\n",
    "retention_matrix\n"
   ]
  },
  {
   "cell_type": "markdown",
   "metadata": {},
   "source": [
    "## Step 4 — Format as % and interpret\n",
    "We’ll convert to percents for a stakeholder-friendly view.  \n",
    "Then write 2–3 sentences interpreting a meaningful difference between cohorts."
   ]
  },
  {
   "cell_type": "code",
   "execution_count": 11,
   "metadata": {},
   "outputs": [
    {
     "name": "stderr",
     "output_type": "stream",
     "text": [
      "/var/folders/gs/yv3dj4zx2tgdd5tw701ypspm0000gp/T/ipykernel_43664/910410490.py:2: FutureWarning: Setting an item of incompatible dtype is deprecated and will raise an error in a future version of pandas. Value '' has dtype incompatible with float64, please explicitly cast to a compatible dtype first.\n",
      "  retention_pct.fillna(\"\", inplace=True)\n"
     ]
    },
    {
     "data": {
      "text/html": [
       "<div>\n",
       "<style scoped>\n",
       "    .dataframe tbody tr th:only-of-type {\n",
       "        vertical-align: middle;\n",
       "    }\n",
       "\n",
       "    .dataframe tbody tr th {\n",
       "        vertical-align: top;\n",
       "    }\n",
       "\n",
       "    .dataframe thead th {\n",
       "        text-align: right;\n",
       "    }\n",
       "</style>\n",
       "<table border=\"1\" class=\"dataframe\">\n",
       "  <thead>\n",
       "    <tr style=\"text-align: right;\">\n",
       "      <th>month_number</th>\n",
       "      <th>0</th>\n",
       "      <th>1</th>\n",
       "      <th>2</th>\n",
       "    </tr>\n",
       "    <tr>\n",
       "      <th>cohort</th>\n",
       "      <th></th>\n",
       "      <th></th>\n",
       "      <th></th>\n",
       "    </tr>\n",
       "  </thead>\n",
       "  <tbody>\n",
       "    <tr>\n",
       "      <th>2023-01</th>\n",
       "      <td>100.0</td>\n",
       "      <td>100.0</td>\n",
       "      <td>50.0</td>\n",
       "    </tr>\n",
       "    <tr>\n",
       "      <th>2023-02</th>\n",
       "      <td>100.0</td>\n",
       "      <td>100.0</td>\n",
       "      <td></td>\n",
       "    </tr>\n",
       "    <tr>\n",
       "      <th>2023-03</th>\n",
       "      <td>100.0</td>\n",
       "      <td></td>\n",
       "      <td></td>\n",
       "    </tr>\n",
       "  </tbody>\n",
       "</table>\n",
       "</div>"
      ],
      "text/plain": [
       "month_number      0      1     2\n",
       "cohort                          \n",
       "2023-01       100.0  100.0  50.0\n",
       "2023-02       100.0  100.0      \n",
       "2023-03       100.0             "
      ]
     },
     "execution_count": 11,
     "metadata": {},
     "output_type": "execute_result"
    }
   ],
   "source": [
    "retention_pct = (retention_matrix.round(2) * 100)\n",
    "retention_pct.fillna(\"\", inplace=True)\n",
    "retention_pct\n"
   ]
  },
  {
   "cell_type": "markdown",
   "metadata": {},
   "source": [
    "### Sample Interpretation\n",
    "- The **Jan 2023** cohort retains better at Month 1 than the **Feb 2023** cohort.  \n",
    "- A likely explanation is a **product or onboarding change** made in February that increased early churn, or a **marketing source** shift that brought in lower-intent users.  \n",
    "- Next, I’d track **onboarding completion** and **first-week engagement** for each cohort and compare to see where the friction starts.\n"
   ]
  },
  {
   "cell_type": "markdown",
   "metadata": {},
   "source": [
    "### Optional (for now):  Visualize It!"
   ]
  },
  {
   "cell_type": "code",
   "execution_count": 12,
   "metadata": {},
   "outputs": [
    {
     "name": "stderr",
     "output_type": "stream",
     "text": [
      "/var/folders/gs/yv3dj4zx2tgdd5tw701ypspm0000gp/T/ipykernel_43664/2684061264.py:10: FutureWarning: Downcasting behavior in `replace` is deprecated and will be removed in a future version. To retain the old behavior, explicitly call `result.infer_objects(copy=False)`. To opt-in to the future behavior, set `pd.set_option('future.no_silent_downcasting', True)`\n",
      "  pct = pct.replace(\"\", np.nan).astype(float).fillna(0.0)\n"
     ]
    },
    {
     "data": {
      "image/png": "[encoded data removed]",
      "text/plain": [
       "<Figure size 900x500 with 2 Axes>"
      ]
     },
     "metadata": {},
     "output_type": "display_data"
    }
   ],
   "source": [
    "#RUN THIS CELL WITHOUT CHANGES\n",
    "\n",
    "import numpy as np\n",
    "import pandas as pd\n",
    "import matplotlib.pyplot as plt\n",
    "import seaborn as sns\n",
    "\n",
    "# Ensure numeric 0–100 matrix\n",
    "pct = retention_pct.copy()\n",
    "pct = pct.replace(\"\", np.nan).astype(float).fillna(0.0)\n",
    "pct = pct.sort_index(axis=0).sort_index(axis=1)\n",
    "\n",
    "plt.figure(figsize=(9, 5))\n",
    "ax = sns.heatmap(\n",
    "    pct,\n",
    "    annot=True,            # show numbers in cells\n",
    "    fmt=\".0f\",             # no decimals\n",
    "    linewidths=0.5,\n",
    "    linecolor=\"white\",\n",
    "    cbar_kws={\"label\": \"Retention (%)\"},\n",
    "    vmin=0, vmax=100\n",
    ")\n",
    "ax.set_title(\"Cohort Retention Heatmap (%)\")\n",
    "ax.set_xlabel(\"Months Since Signup\")\n",
    "ax.set_ylabel(\"Cohort (Signup Month)\")\n",
    "plt.tight_layout()\n",
    "plt.show()\n"
   ]
  }
 ],
 "metadata": {
  "kernelspec": {
   "display_name": "data-analysis-env",
   "language": "python",
   "name": "python3"
  },
  "language_info": {
   "codemirror_mode": {
    "name": "ipython",
    "version": 3
   },
   "file_extension": ".py",
   "mimetype": "text/x-python",
   "name": "python",
   "nbconvert_exporter": "python",
   "pygments_lexer": "ipython3",
   "version": "3.9.22"
  }
 },
 "nbformat": 4,
 "nbformat_minor": 2
}
