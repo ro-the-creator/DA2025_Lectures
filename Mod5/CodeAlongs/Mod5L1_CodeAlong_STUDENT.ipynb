{
 "cells": [
  {
   "cell_type": "markdown",
   "metadata": {},
   "source": [
    "## Mod 5 Lecture 1 Code-Along:  Extract and Transform Data \n",
    "\n",
    "### Goals\n",
    "* Perform data transformations in Python \n",
    "\n",
    "**Note: Assume this data was already 'extracted' for you.  You will learn more about extracting data from online APIs later in the fellowship.**"
   ]
  },
  {
   "cell_type": "markdown",
   "metadata": {},
   "source": [
    "### 🧪 Let's clean some raw purchase data in Python."
   ]
  },
  {
   "cell_type": "code",
   "execution_count": 5,
   "metadata": {},
   "outputs": [],
   "source": [
    "import pandas as pd\n",
    "\n",
    "#This looks like JSON (could have been scraped from an API)\n",
    "raw_data = {\n",
    "    'user_id': ['a1', 'b2', 'c3', 'd4-test'],\n",
    "    'purchase_timestamp_pst': ['2023-10-26 10:00:00', '2023-10-26 10:05:00', '2023-10-26 10:12:00', '2023-10-26 10:15:00'],\n",
    "    'amount_usd': [10.50, 5.25, 12.00, 100.00]\n",
    "}"
   ]
  },
  {
   "cell_type": "code",
   "execution_count": 6,
   "metadata": {},
   "outputs": [],
   "source": [
    "## Turn the raw data into a dataframe\n",
    "\n",
    "df = None\n"
   ]
  },
  {
   "cell_type": "markdown",
   "metadata": {},
   "source": [
    "### Can you think of ways you may clean/transform this data?"
   ]
  },
  {
   "cell_type": "markdown",
   "metadata": {},
   "source": [
    "### Step 1 – Filter Out Test Data\n",
    "\n",
    "📌 This filters out rows with \"-test\" in the user_id — likely internal or QA accounts."
   ]
  },
  {
   "cell_type": "code",
   "execution_count": 7,
   "metadata": {},
   "outputs": [],
   "source": [
    "df = None"
   ]
  },
  {
   "cell_type": "markdown",
   "metadata": {},
   "source": [
    "### Step 2 – Convert Time to UTC\n",
    "\n",
    "🕐 Why? Mixing timezones makes it hard to compare data across regions. We standardize it."
   ]
  },
  {
   "cell_type": "code",
   "execution_count": 8,
   "metadata": {},
   "outputs": [],
   "source": [
    "df['timestamp_utc'] = pd.to_datetime(df['purchase_timestamp_pst'])\\\n",
    "    .dt.tz_localize('America/Los_Angeles')\\\n",
    "    .dt.tz_convert('UTC')"
   ]
  },
  {
   "cell_type": "markdown",
   "metadata": {},
   "source": [
    "### Step 3 – Add Day of Week\n",
    "\n",
    "🗓️ Helps with identifying trends like weekend spikes in purchases. ANTICIPATE what your analysis may need or other analysts analysis for that matter "
   ]
  },
  {
   "cell_type": "code",
   "execution_count": 9,
   "metadata": {},
   "outputs": [],
   "source": [
    "df['day_of_week'] = None\n"
   ]
  },
  {
   "cell_type": "code",
   "execution_count": 10,
   "metadata": {},
   "outputs": [
    {
     "data": {
      "text/html": [
       "<div>\n",
       "<style scoped>\n",
       "    .dataframe tbody tr th:only-of-type {\n",
       "        vertical-align: middle;\n",
       "    }\n",
       "\n",
       "    .dataframe tbody tr th {\n",
       "        vertical-align: top;\n",
       "    }\n",
       "\n",
       "    .dataframe thead th {\n",
       "        text-align: right;\n",
       "    }\n",
       "</style>\n",
       "<table border=\"1\" class=\"dataframe\">\n",
       "  <thead>\n",
       "    <tr style=\"text-align: right;\">\n",
       "      <th></th>\n",
       "      <th>user_id</th>\n",
       "      <th>purchase_timestamp_pst</th>\n",
       "      <th>amount_usd</th>\n",
       "      <th>timestamp_utc</th>\n",
       "      <th>day_of_week</th>\n",
       "    </tr>\n",
       "  </thead>\n",
       "  <tbody>\n",
       "    <tr>\n",
       "      <th>0</th>\n",
       "      <td>a1</td>\n",
       "      <td>2023-10-26 10:00:00</td>\n",
       "      <td>10.50</td>\n",
       "      <td>2023-10-26 17:00:00+00:00</td>\n",
       "      <td>3</td>\n",
       "    </tr>\n",
       "    <tr>\n",
       "      <th>1</th>\n",
       "      <td>b2</td>\n",
       "      <td>2023-10-26 10:05:00</td>\n",
       "      <td>5.25</td>\n",
       "      <td>2023-10-26 17:05:00+00:00</td>\n",
       "      <td>3</td>\n",
       "    </tr>\n",
       "    <tr>\n",
       "      <th>2</th>\n",
       "      <td>c3</td>\n",
       "      <td>2023-10-26 10:12:00</td>\n",
       "      <td>12.00</td>\n",
       "      <td>2023-10-26 17:12:00+00:00</td>\n",
       "      <td>3</td>\n",
       "    </tr>\n",
       "  </tbody>\n",
       "</table>\n",
       "</div>"
      ],
      "text/plain": [
       "  user_id purchase_timestamp_pst  amount_usd             timestamp_utc  \\\n",
       "0      a1    2023-10-26 10:00:00       10.50 2023-10-26 17:00:00+00:00   \n",
       "1      b2    2023-10-26 10:05:00        5.25 2023-10-26 17:05:00+00:00   \n",
       "2      c3    2023-10-26 10:12:00       12.00 2023-10-26 17:12:00+00:00   \n",
       "\n",
       "   day_of_week  \n",
       "0            3  \n",
       "1            3  \n",
       "2            3  "
      ]
     },
     "execution_count": 10,
     "metadata": {},
     "output_type": "execute_result"
    }
   ],
   "source": [
    "#Look at the result :) \n",
    "\n",
    "df.head()"
   ]
  },
  {
   "cell_type": "markdown",
   "metadata": {},
   "source": [
    "ETL is a common term for data engineers, analysts, and scientists alike and companies may have different ETL responsiblities depending on the role.  Understanding this concept and the transformations you may need will be beneficial whether you are actually doing th 'T' or someone else because you can help inform them!"
   ]
  }
 ],
 "metadata": {
  "kernelspec": {
   "display_name": "Python (learn-env)",
   "language": "python",
   "name": "learn-env"
  },
  "language_info": {
   "codemirror_mode": {
    "name": "ipython",
    "version": 3
   },
   "file_extension": ".py",
   "mimetype": "text/x-python",
   "name": "python",
   "nbconvert_exporter": "python",
   "pygments_lexer": "ipython3",
   "version": "3.12.4"
  }
 },
 "nbformat": 4,
 "nbformat_minor": 2
}
