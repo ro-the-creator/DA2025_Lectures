{
 "cells": [
  {
   "cell_type": "markdown",
   "metadata": {},
   "source": [
    "## Mod 5 Lecture 4 Code-Along:  Funnels in Python\n",
    "\n",
    "### Goals\n",
    "* Create conversion rates at each funnel step \n",
    "\n",
    "\n",
    "### Data\n",
    "We are using just sample \"toy\" data to just illustrate the calculations (aka make it easier to digest)"
   ]
  },
  {
   "cell_type": "code",
   "execution_count": 1,
   "metadata": {},
   "outputs": [],
   "source": [
    "import pandas as pd\n",
    "import numpy as np"
   ]
  },
  {
   "cell_type": "markdown",
   "metadata": {},
   "source": [
    "### Task 1:  Create Steps & User Counts\n",
    "Note if your data has a column that is called \"marketing channel\" or \"user entry point\" you can filter for each channel/entry point and get counts etc :) "
   ]
  },
  {
   "cell_type": "code",
   "execution_count": 29,
   "metadata": {},
   "outputs": [
    {
     "data": {
      "text/html": [
       "<div>\n",
       "<style scoped>\n",
       "    .dataframe tbody tr th:only-of-type {\n",
       "        vertical-align: middle;\n",
       "    }\n",
       "\n",
       "    .dataframe tbody tr th {\n",
       "        vertical-align: top;\n",
       "    }\n",
       "\n",
       "    .dataframe thead th {\n",
       "        text-align: right;\n",
       "    }\n",
       "</style>\n",
       "<table border=\"1\" class=\"dataframe\">\n",
       "  <thead>\n",
       "    <tr style=\"text-align: right;\">\n",
       "      <th></th>\n",
       "      <th>step_name</th>\n",
       "      <th>user_count</th>\n",
       "    </tr>\n",
       "  </thead>\n",
       "  <tbody>\n",
       "    <tr>\n",
       "      <th>0</th>\n",
       "      <td>Visited Homepage</td>\n",
       "      <td>10000</td>\n",
       "    </tr>\n",
       "    <tr>\n",
       "      <th>1</th>\n",
       "      <td>Viewed Item</td>\n",
       "      <td>4000</td>\n",
       "    </tr>\n",
       "    <tr>\n",
       "      <th>2</th>\n",
       "      <td>Added to Cart</td>\n",
       "      <td>1000</td>\n",
       "    </tr>\n",
       "    <tr>\n",
       "      <th>3</th>\n",
       "      <td>Reached Checkout</td>\n",
       "      <td>500</td>\n",
       "    </tr>\n",
       "    <tr>\n",
       "      <th>4</th>\n",
       "      <td>Completed Purchase</td>\n",
       "      <td>400</td>\n",
       "    </tr>\n",
       "  </tbody>\n",
       "</table>\n",
       "</div>"
      ],
      "text/plain": [
       "            step_name  user_count\n",
       "0    Visited Homepage       10000\n",
       "1         Viewed Item        4000\n",
       "2       Added to Cart        1000\n",
       "3    Reached Checkout         500\n",
       "4  Completed Purchase         400"
      ]
     },
     "execution_count": 29,
     "metadata": {},
     "output_type": "execute_result"
    }
   ],
   "source": [
    "# Step labels and user counts\n",
    "data = {\n",
    "    'step_name': [\n",
    "        'Visited Homepage', 'Viewed Item',\n",
    "        'Added to Cart', 'Reached Checkout', 'Completed Purchase'\n",
    "    ],\n",
    "    'user_count': [10000, 4000, 1000, 500, 400]\n",
    "}\n",
    "\n",
    "df = pd.DataFrame(data)\n",
    "df"
   ]
  },
  {
   "cell_type": "markdown",
   "metadata": {},
   "source": [
    "### Task 2:  Calculate and add conversion rates to the dataframe\n",
    "\n",
    "Students:  What do you think shift(1) does here? "
   ]
  },
  {
   "cell_type": "code",
   "execution_count": 30,
   "metadata": {},
   "outputs": [
    {
     "name": "stdout",
     "output_type": "stream",
     "text": [
      "0    10000\n",
      "1     4000\n",
      "2     1000\n",
      "3      500\n",
      "4      400\n",
      "Name: user_count, dtype: int64\n",
      "0        NaN\n",
      "1    10000.0\n",
      "2     4000.0\n",
      "3     1000.0\n",
      "4      500.0\n",
      "Name: user_count, dtype: float64\n"
     ]
    }
   ],
   "source": [
    "print(df['user_count'])\n",
    "print(df['user_count'].shift(1))"
   ]
  },
  {
   "cell_type": "code",
   "execution_count": 32,
   "metadata": {},
   "outputs": [
    {
     "data": {
      "text/html": [
       "<div>\n",
       "<style scoped>\n",
       "    .dataframe tbody tr th:only-of-type {\n",
       "        vertical-align: middle;\n",
       "    }\n",
       "\n",
       "    .dataframe tbody tr th {\n",
       "        vertical-align: top;\n",
       "    }\n",
       "\n",
       "    .dataframe thead th {\n",
       "        text-align: right;\n",
       "    }\n",
       "</style>\n",
       "<table border=\"1\" class=\"dataframe\">\n",
       "  <thead>\n",
       "    <tr style=\"text-align: right;\">\n",
       "      <th></th>\n",
       "      <th>step_name</th>\n",
       "      <th>user_count</th>\n",
       "      <th>step_conversion</th>\n",
       "      <th>overall_conversion</th>\n",
       "      <th>step_conversion_text</th>\n",
       "      <th>overall_conversion_text</th>\n",
       "    </tr>\n",
       "  </thead>\n",
       "  <tbody>\n",
       "    <tr>\n",
       "      <th>0</th>\n",
       "      <td>Visited Homepage</td>\n",
       "      <td>10000</td>\n",
       "      <td>NaN</td>\n",
       "      <td>100.0</td>\n",
       "      <td>nan%</td>\n",
       "      <td>100.0%</td>\n",
       "    </tr>\n",
       "    <tr>\n",
       "      <th>1</th>\n",
       "      <td>Viewed Item</td>\n",
       "      <td>4000</td>\n",
       "      <td>40.0</td>\n",
       "      <td>40.0</td>\n",
       "      <td>40.0%</td>\n",
       "      <td>40.0%</td>\n",
       "    </tr>\n",
       "    <tr>\n",
       "      <th>2</th>\n",
       "      <td>Added to Cart</td>\n",
       "      <td>1000</td>\n",
       "      <td>25.0</td>\n",
       "      <td>10.0</td>\n",
       "      <td>25.0%</td>\n",
       "      <td>10.0%</td>\n",
       "    </tr>\n",
       "    <tr>\n",
       "      <th>3</th>\n",
       "      <td>Reached Checkout</td>\n",
       "      <td>500</td>\n",
       "      <td>50.0</td>\n",
       "      <td>5.0</td>\n",
       "      <td>50.0%</td>\n",
       "      <td>5.0%</td>\n",
       "    </tr>\n",
       "    <tr>\n",
       "      <th>4</th>\n",
       "      <td>Completed Purchase</td>\n",
       "      <td>400</td>\n",
       "      <td>80.0</td>\n",
       "      <td>4.0</td>\n",
       "      <td>80.0%</td>\n",
       "      <td>4.0%</td>\n",
       "    </tr>\n",
       "  </tbody>\n",
       "</table>\n",
       "</div>"
      ],
      "text/plain": [
       "            step_name  user_count  step_conversion  overall_conversion  \\\n",
       "0    Visited Homepage       10000              NaN               100.0   \n",
       "1         Viewed Item        4000             40.0                40.0   \n",
       "2       Added to Cart        1000             25.0                10.0   \n",
       "3    Reached Checkout         500             50.0                 5.0   \n",
       "4  Completed Purchase         400             80.0                 4.0   \n",
       "\n",
       "  step_conversion_text overall_conversion_text  \n",
       "0                 nan%                  100.0%  \n",
       "1                40.0%                   40.0%  \n",
       "2                25.0%                   10.0%  \n",
       "3                50.0%                    5.0%  \n",
       "4                80.0%                    4.0%  "
      ]
     },
     "execution_count": 32,
     "metadata": {},
     "output_type": "execute_result"
    }
   ],
   "source": [
    "# Step-to-step conversion\n",
    "df['step_conversion'] = df['user_count'] / df['user_count'].shift(1)\n",
    "\n",
    "# Overall conversion from the first step\n",
    "df['overall_conversion'] = (df['user_count'])/(df['user_count'][0])\n",
    "\n",
    "# Format as percentages\n",
    "df['step_conversion'] = (df['step_conversion'] * 100).round(2)\n",
    "df['step_conversion_text'] = df['step_conversion'].astype(str)+'%'\n",
    "df['overall_conversion'] = (df['overall_conversion']*100)\n",
    "df['overall_conversion_text'] = (df['overall_conversion']).astype(str)+'%'\n",
    "df"
   ]
  },
  {
   "cell_type": "markdown",
   "metadata": {},
   "source": [
    "### Task 3:  Interpret the Funnel\n",
    "\n",
    "Students:  We print out the results again and add it as a nice markdown table below the output for ease of interpretation.  What are the main insights here?"
   ]
  },
  {
   "cell_type": "code",
   "execution_count": 34,
   "metadata": {},
   "outputs": [
    {
     "data": {
      "text/html": [
       "<div>\n",
       "<style scoped>\n",
       "    .dataframe tbody tr th:only-of-type {\n",
       "        vertical-align: middle;\n",
       "    }\n",
       "\n",
       "    .dataframe tbody tr th {\n",
       "        vertical-align: top;\n",
       "    }\n",
       "\n",
       "    .dataframe thead th {\n",
       "        text-align: right;\n",
       "    }\n",
       "</style>\n",
       "<table border=\"1\" class=\"dataframe\">\n",
       "  <thead>\n",
       "    <tr style=\"text-align: right;\">\n",
       "      <th></th>\n",
       "      <th>step_name</th>\n",
       "      <th>user_count</th>\n",
       "      <th>step_conversion</th>\n",
       "      <th>overall_conversion</th>\n",
       "    </tr>\n",
       "  </thead>\n",
       "  <tbody>\n",
       "    <tr>\n",
       "      <th>0</th>\n",
       "      <td>Visited Homepage</td>\n",
       "      <td>10000</td>\n",
       "      <td>NaN</td>\n",
       "      <td>100.0</td>\n",
       "    </tr>\n",
       "    <tr>\n",
       "      <th>1</th>\n",
       "      <td>Viewed Item</td>\n",
       "      <td>4000</td>\n",
       "      <td>40.0</td>\n",
       "      <td>40.0</td>\n",
       "    </tr>\n",
       "    <tr>\n",
       "      <th>2</th>\n",
       "      <td>Added to Cart</td>\n",
       "      <td>1000</td>\n",
       "      <td>25.0</td>\n",
       "      <td>10.0</td>\n",
       "    </tr>\n",
       "    <tr>\n",
       "      <th>3</th>\n",
       "      <td>Reached Checkout</td>\n",
       "      <td>500</td>\n",
       "      <td>50.0</td>\n",
       "      <td>5.0</td>\n",
       "    </tr>\n",
       "    <tr>\n",
       "      <th>4</th>\n",
       "      <td>Completed Purchase</td>\n",
       "      <td>400</td>\n",
       "      <td>80.0</td>\n",
       "      <td>4.0</td>\n",
       "    </tr>\n",
       "  </tbody>\n",
       "</table>\n",
       "</div>"
      ],
      "text/plain": [
       "            step_name  user_count  step_conversion  overall_conversion\n",
       "0    Visited Homepage       10000              NaN               100.0\n",
       "1         Viewed Item        4000             40.0                40.0\n",
       "2       Added to Cart        1000             25.0                10.0\n",
       "3    Reached Checkout         500             50.0                 5.0\n",
       "4  Completed Purchase         400             80.0                 4.0"
      ]
     },
     "execution_count": 34,
     "metadata": {},
     "output_type": "execute_result"
    }
   ],
   "source": [
    "df[['step_name', 'user_count', 'step_conversion', 'overall_conversion']]"
   ]
  },
  {
   "cell_type": "markdown",
   "metadata": {},
   "source": [
    "| Step          | Users | Step Conv. | Overall Conv. |\n",
    "| ------------- | ----- | ---------- | ------------- |\n",
    "| Viewed Item   | 4,000 | 40%        | 40%           |\n",
    "| Added to Cart | 1,000 | 25%        | 10%           |\n",
    "| Checkout      | 500   | 50%        | 5%            |\n",
    "| Purchase      | 400   | 80%        | 4%            |\n"
   ]
  }
 ],
 "metadata": {
  "kernelspec": {
   "display_name": "data-analysis-env",
   "language": "python",
   "name": "python3"
  },
  "language_info": {
   "codemirror_mode": {
    "name": "ipython",
    "version": 3
   },
   "file_extension": ".py",
   "mimetype": "text/x-python",
   "name": "python",
   "nbconvert_exporter": "python",
   "pygments_lexer": "ipython3",
   "version": "3.9.22"
  }
 },
 "nbformat": 4,
 "nbformat_minor": 2
}
