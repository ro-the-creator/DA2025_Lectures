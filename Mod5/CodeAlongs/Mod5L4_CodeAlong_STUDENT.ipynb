{
 "cells": [
  {
   "cell_type": "markdown",
   "metadata": {},
   "source": [
    "## Mod 5 Lecture 4 Code-Along:  Funnels in Python\n",
    "\n",
    "### Goals\n",
    "* Create conversion rates at each funnel step \n",
    "\n",
    "\n",
    "### Data\n",
    "We are using just sample \"toy\" data to just illustrate the calculations (aka make it easier to digest)"
   ]
  },
  {
   "cell_type": "code",
   "execution_count": null,
   "metadata": {},
   "outputs": [],
   "source": [
    "import pandas as pd\n",
    "import numpy as np"
   ]
  },
  {
   "cell_type": "markdown",
   "metadata": {},
   "source": [
    "### Task 1:  Create Steps & User Counts\n",
    "Note if your data has a column that is called \"marketing channel\" or \"user entry point\" you can filter for each channel/entry point and get counts etc :) "
   ]
  },
  {
   "cell_type": "code",
   "execution_count": null,
   "metadata": {},
   "outputs": [],
   "source": [
    "# Step labels and user counts\n",
    "data = {\n",
    "    'step_name': [\n",
    "        'Visited Homepage', 'Viewed Item',\n",
    "        'Added to Cart', 'Reached Checkout', 'Completed Purchase'\n",
    "    ],\n",
    "    'user_count': [10000, 4000, 1000, 500, 400]\n",
    "}\n",
    "\n",
    "df = pd.DataFrame(data)\n",
    "df"
   ]
  },
  {
   "cell_type": "markdown",
   "metadata": {},
   "source": [
    "### Task 2:  Calculate and add conversion rates to the dataframe\n",
    "\n",
    "Students:  What do you think shift(1) does here? "
   ]
  },
  {
   "cell_type": "code",
   "execution_count": null,
   "metadata": {},
   "outputs": [],
   "source": [
    "# Step-to-step conversion\n",
    "df['step_conversion'] = df['user_count'] / df['user_count'].shift(1)\n",
    "\n",
    "# Overall conversion from the first step\n",
    "df['overall_conversion'] = None\n",
    "\n",
    "# Format as percentages\n",
    "df['step_conversion'] = (df['step_conversion'] * 100).round(2)\n",
    "df['overall_conversion'] = None\n",
    "df"
   ]
  },
  {
   "cell_type": "markdown",
   "metadata": {},
   "source": [
    "### Task 3:  Interpret the Funnel\n",
    "\n",
    "Students:  We print out the results again and add it as a nice markdown table below the output for ease of interpretation.  What are the main insights here?"
   ]
  },
  {
   "cell_type": "code",
   "execution_count": null,
   "metadata": {},
   "outputs": [],
   "source": [
    "print(df[['step_name', 'user_count', 'step_conversion', 'overall_conversion']])"
   ]
  },
  {
   "cell_type": "markdown",
   "metadata": {},
   "source": [
    "| Step          | Users | Step Conv. | Overall Conv. |\n",
    "| ------------- | ----- | ---------- | ------------- |\n",
    "| Viewed Item   | 4,000 | 40%        | 40%           |\n",
    "| Added to Cart | 1,000 | 25%        | 10%           |\n",
    "| Checkout      | 500   | 50%        | 5%            |\n",
    "| Purchase      | 400   | 80%        | 4%            |\n"
   ]
  }
 ],
 "metadata": {
  "kernelspec": {
   "display_name": "Python (learn-env)",
   "language": "python",
   "name": "learn-env"
  },
  "language_info": {
   "codemirror_mode": {
    "name": "ipython",
    "version": 3
   },
   "file_extension": ".py",
   "mimetype": "text/x-python",
   "name": "python",
   "nbconvert_exporter": "python",
   "pygments_lexer": "ipython3",
   "version": "3.12.4"
  }
 },
 "nbformat": 4,
 "nbformat_minor": 2
}
