{
 "cells": [
  {
   "cell_type": "markdown",
   "metadata": {},
   "source": [
    "## Mod 5 Lecture 7 Code-Along:  Churn and Activation \n",
    "\n",
    "**What you’ll do**\n",
    "- Generate a small synthetic user‑event dataset\n",
    "- Define a simple **activation** metric (users who reach a first “value” moment)\n",
    "- Estimate **monthly churn** (users active in month *t* who don’t return in *t+1*)\n",
    "- Read and explain the outputs\n",
    "\n",
    "**Key ideas**\n",
    "- Small changes in churn compound over time\n",
    "- Activation (early value) is often the strongest driver of retention\n"
   ]
  },
  {
   "cell_type": "markdown",
   "metadata": {},
   "source": [
    "## Step 1 — Create a tiny synthetic dataset\n",
    "\n",
    "**Notes:**  \n",
    "We’ll simulate a few months of app activity for ~600 users.  \n",
    "Each “event” is a generic user action (login, view, click, etc.).  \n",
    "We’ll keep it **simple** and reproducible (fixed random seed).\n"
   ]
  },
  {
   "cell_type": "code",
   "execution_count": null,
   "metadata": {},
   "outputs": [],
   "source": [
    "import numpy as np\n",
    "import pandas as pd\n",
    "\n",
    "rng = np.random.default_rng(7)\n",
    "\n",
    "# Basic knobs\n",
    "N_USERS = None\n",
    "MONTHS  = pd.period_range(\"2023-01\", periods=6, freq=\"M\")  # Jan..Jun\n",
    "USERS   = np.arange(1, N_USERS+1)\n",
    "\n",
    "# Simulate each user's signup month (earlier months more likely)\n",
    "signup_probs = np.array([0.25, 0.22, 0.18, 0.15, 0.12, 0.08])\n",
    "signup_probs = signup_probs / signup_probs.sum()\n",
    "signup_month = rng.choice(MONTHS, size=N_USERS, p=signup_probs)\n",
    "\n",
    "users = pd.DataFrame(None)\n",
    "users.head()"
   ]
  },
  {
   "cell_type": "code",
   "execution_count": null,
   "metadata": {},
   "outputs": [],
   "source": [
    "# RUN CELL WITHOUT CHANGES -- UNDERSTAND THIS CODE\n",
    "# For each user & month >= signup, simulate whether they were \"active\" that month\n",
    "# Start with a base activation chance that decays slightly over time to mimic churn\n",
    "rows = []\n",
    "for uid, sgn in zip(users[\"user_id\"], users[\"signup_month\"]):\n",
    "    for m in MONTHS:\n",
    "        if m < sgn:\n",
    "            continue\n",
    "        # probability of being active decays with months since signup\n",
    "        months_since = m.ordinal - sgn.ordinal\n",
    "        base_p = 0.6 * (0.85 ** months_since)  # simple decay curve\n",
    "        active = rng.random() < base_p\n",
    "        if active:\n",
    "            # If active, simulate a small number of events (1..4)\n",
    "            n_events = rng.integers(1, 5)\n",
    "            for _ in range(n_events):\n",
    "                rows.append({\"user_id\": uid, \"year_month\": m, \"event_type\": \"generic_event\"})\n",
    "\n",
    "events = pd.DataFrame(rows)\n",
    "events.head()\n"
   ]
  },
  {
   "cell_type": "markdown",
   "metadata": {},
   "source": [
    "## Step 2 — Define an example Activation metric\n",
    "\n",
    "Students:  What are some insights after running this cell?\n",
    "\n",
    "**Notes:**  \n",
    "We’ll call a user **activated** if they generated **≥ 3 events** in their **signup month**.  \n",
    "(Think: they explored enough to reach a first “Aha!” moment.)\n"
   ]
  },
  {
   "cell_type": "code",
   "execution_count": null,
   "metadata": {},
   "outputs": [],
   "source": [
    "# Events in signup month\n",
    "events_signup = events.merge(\n",
    "    users.rename(columns={\"signup_month\": \"cohort\"}),\n",
    "    on=None,\n",
    "    how=None  # keep all users (even with zero events)\n",
    ")\n",
    "\n",
    "# Count events within the cohort (signup) month\n",
    "events_signup[\"in_signup_month\"] = (events_signup[\"year_month\"] == events_signup[\"cohort\"])\n",
    "signup_counts = (\n",
    "    events_signup[events_signup[\"in_signup_month\"]]\n",
    "    .groupby(None, as_index=False)\n",
    "    .size()\n",
    "    .rename(columns={\"size\": \"signup_events\"})\n",
    ")\n",
    "\n",
    "# Users with no events get 0\n",
    "signup_counts = users[[\"user_id\"]].merge(signup_counts, on=None, how=\"left\").fillna({\"signup_events\": 0})\n",
    "\n",
    "# Activation rule: ≥ 3 events in signup month\n",
    "signup_counts[\"activated\"] = (None).astype(int)\n",
    "\n",
    "activation_rate = None\n",
    "print(f\"Activation rate (≥3 events in signup month): {activation_rate:.1f}%\")\n",
    "\n",
    "signup_counts.head()\n"
   ]
  },
  {
   "cell_type": "markdown",
   "metadata": {},
   "source": [
    "## Step 3 — Compute monthly churn \n",
    "\n",
    "Students:  What are some insights after running this cell?\n",
    "\n",
    "**Notes:**  \n",
    "- A user is **active** in a month if they have at least one event.  \n",
    "- **Churn from month t to t+1** = users active in *t* who **do not** appear in *t+1*.  \n",
    "We’ll compute this across the 6 months we simulated.\n"
   ]
  },
  {
   "cell_type": "code",
   "execution_count": null,
   "metadata": {},
   "outputs": [],
   "source": [
    "# Active users per month (set for easy set arithmetic)\n",
    "active_sets = (\n",
    "    events.groupby(\"year_month\")[\"user_id\"]\n",
    "    .apply(lambda s: set(s.unique()))\n",
    "    .reindex(MONTHS, fill_value=set())\n",
    "    .to_dict()\n",
    ")\n",
    "\n",
    "# Build churn table\n",
    "rows = []\n",
    "months = list(MONTHS)\n",
    "for i in range(len(months) - 1):\n",
    "    m, m_next = months[i], months[i+1]\n",
    "    active_m, active_next = active_sets[m], active_sets[m_next]\n",
    "    if len(active_m) == 0:\n",
    "        continue\n",
    "    churners = None\n",
    "    churn_rate = None\n",
    "    rows.append({\n",
    "        \"month\": str(m),\n",
    "        \"active_in_m\": len(active_m),\n",
    "        \"active_in_next\": len(active_next),\n",
    "        \"churners_to_next\": len(churners),\n",
    "        \"monthly_churn_rate_%\": round(churn_rate, 2)\n",
    "    })\n",
    "\n",
    "churn_table = pd.DataFrame(rows)\n",
    "churn_table\n"
   ]
  }
 ],
 "metadata": {
  "kernelspec": {
   "display_name": "Python (learn-env)",
   "language": "python",
   "name": "learn-env"
  },
  "language_info": {
   "codemirror_mode": {
    "name": "ipython",
    "version": 3
   },
   "file_extension": ".py",
   "mimetype": "text/x-python",
   "name": "python",
   "nbconvert_exporter": "python",
   "pygments_lexer": "ipython3",
   "version": "3.12.4"
  }
 },
 "nbformat": 4,
 "nbformat_minor": 2
}
