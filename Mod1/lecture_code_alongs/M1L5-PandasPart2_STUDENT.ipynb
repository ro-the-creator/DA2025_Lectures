{
 "cells": [
  {
   "cell_type": "markdown",
   "metadata": {},
   "source": [
    "# M1L5 More EDA with Pandas \n",
    "\n",
    "This notebook will guide you through some essential data manipulation techniques using the Pandas library in Python. We'll be working with the Austin Animal Center Intakes dataset, which contains information about animals entering the Austin Animal Center.\n",
    "\n",
    "### **Dataset:** [Austin Animal Center Intakes](https://catalog.data.gov/dataset/austin-animal-center-intakes) -- This is also in your data folder \n",
    "\n",
    "### **Objectives:**\n",
    "\n",
    " 1.  Load and explore the dataset.\n",
    " 2.  Use `groupby()` to aggregate data.\n",
    " 3.  Create contingency tables using `crosstab()`.\n",
    " 4.  Identify and handle duplicate entries."
   ]
  },
  {
   "cell_type": "markdown",
   "metadata": {},
   "source": [
    "## Step 1:  Import pandas and numpy "
   ]
  },
  {
   "cell_type": "code",
   "execution_count": 1,
   "metadata": {},
   "outputs": [],
   "source": [
    "#Import packages \n",
    "\n",
    "import pandas as pd\n",
    "import numpy as np"
   ]
  },
  {
   "cell_type": "markdown",
   "metadata": {},
   "source": [
    "## Step 2:  Load in the data and save it as `df`"
   ]
  },
  {
   "cell_type": "code",
   "execution_count": 2,
   "metadata": {},
   "outputs": [],
   "source": [
    "df = pd.read_csv('/Users/Marcy_Student/Desktop/marcy/marcy-git/DA2025_Lectures/Mod1/CSVs/Austin_Animal_Center_Intakes__10_01_2013_to_05_05_2025_.csv')"
   ]
  },
  {
   "cell_type": "markdown",
   "metadata": {},
   "source": [
    "## Step 3:  Look at the data (can you think of some methods to do this)"
   ]
  },
  {
   "cell_type": "code",
   "execution_count": 3,
   "metadata": {},
   "outputs": [
    {
     "data": {
      "text/html": [
       "<div>\n",
       "<style scoped>\n",
       "    .dataframe tbody tr th:only-of-type {\n",
       "        vertical-align: middle;\n",
       "    }\n",
       "\n",
       "    .dataframe tbody tr th {\n",
       "        vertical-align: top;\n",
       "    }\n",
       "\n",
       "    .dataframe thead th {\n",
       "        text-align: right;\n",
       "    }\n",
       "</style>\n",
       "<table border=\"1\" class=\"dataframe\">\n",
       "  <thead>\n",
       "    <tr style=\"text-align: right;\">\n",
       "      <th></th>\n",
       "      <th>Animal ID</th>\n",
       "      <th>Name</th>\n",
       "      <th>DateTime</th>\n",
       "      <th>MonthYear</th>\n",
       "      <th>Found Location</th>\n",
       "      <th>Intake Type</th>\n",
       "      <th>Intake Condition</th>\n",
       "      <th>Animal Type</th>\n",
       "      <th>Sex upon Intake</th>\n",
       "      <th>Age upon Intake</th>\n",
       "      <th>Breed</th>\n",
       "      <th>Color</th>\n",
       "    </tr>\n",
       "  </thead>\n",
       "  <tbody>\n",
       "    <tr>\n",
       "      <th>0</th>\n",
       "      <td>A521520</td>\n",
       "      <td>Nina</td>\n",
       "      <td>10/01/2013 07:51:00 AM</td>\n",
       "      <td>October 2013</td>\n",
       "      <td>Norht Ec in Austin (TX)</td>\n",
       "      <td>Stray</td>\n",
       "      <td>Normal</td>\n",
       "      <td>Dog</td>\n",
       "      <td>Spayed Female</td>\n",
       "      <td>7 years</td>\n",
       "      <td>Border Terrier/Border Collie</td>\n",
       "      <td>White/Tan</td>\n",
       "    </tr>\n",
       "    <tr>\n",
       "      <th>1</th>\n",
       "      <td>A664235</td>\n",
       "      <td>NaN</td>\n",
       "      <td>10/01/2013 08:33:00 AM</td>\n",
       "      <td>October 2013</td>\n",
       "      <td>Abia in Austin (TX)</td>\n",
       "      <td>Stray</td>\n",
       "      <td>Normal</td>\n",
       "      <td>Cat</td>\n",
       "      <td>Unknown</td>\n",
       "      <td>1 week</td>\n",
       "      <td>Domestic Shorthair Mix</td>\n",
       "      <td>Orange/White</td>\n",
       "    </tr>\n",
       "    <tr>\n",
       "      <th>2</th>\n",
       "      <td>A664236</td>\n",
       "      <td>NaN</td>\n",
       "      <td>10/01/2013 08:33:00 AM</td>\n",
       "      <td>October 2013</td>\n",
       "      <td>Abia in Austin (TX)</td>\n",
       "      <td>Stray</td>\n",
       "      <td>Normal</td>\n",
       "      <td>Cat</td>\n",
       "      <td>Unknown</td>\n",
       "      <td>1 week</td>\n",
       "      <td>Domestic Shorthair Mix</td>\n",
       "      <td>Orange/White</td>\n",
       "    </tr>\n",
       "    <tr>\n",
       "      <th>3</th>\n",
       "      <td>A664237</td>\n",
       "      <td>NaN</td>\n",
       "      <td>10/01/2013 08:33:00 AM</td>\n",
       "      <td>October 2013</td>\n",
       "      <td>Abia in Austin (TX)</td>\n",
       "      <td>Stray</td>\n",
       "      <td>Normal</td>\n",
       "      <td>Cat</td>\n",
       "      <td>Unknown</td>\n",
       "      <td>1 week</td>\n",
       "      <td>Domestic Shorthair Mix</td>\n",
       "      <td>Orange/White</td>\n",
       "    </tr>\n",
       "    <tr>\n",
       "      <th>4</th>\n",
       "      <td>A664233</td>\n",
       "      <td>Stevie</td>\n",
       "      <td>10/01/2013 08:53:00 AM</td>\n",
       "      <td>October 2013</td>\n",
       "      <td>7405 Springtime in Austin (TX)</td>\n",
       "      <td>Stray</td>\n",
       "      <td>Injured</td>\n",
       "      <td>Dog</td>\n",
       "      <td>Intact Female</td>\n",
       "      <td>3 years</td>\n",
       "      <td>Pit Bull Mix</td>\n",
       "      <td>Blue/White</td>\n",
       "    </tr>\n",
       "    <tr>\n",
       "      <th>...</th>\n",
       "      <td>...</td>\n",
       "      <td>...</td>\n",
       "      <td>...</td>\n",
       "      <td>...</td>\n",
       "      <td>...</td>\n",
       "      <td>...</td>\n",
       "      <td>...</td>\n",
       "      <td>...</td>\n",
       "      <td>...</td>\n",
       "      <td>...</td>\n",
       "      <td>...</td>\n",
       "      <td>...</td>\n",
       "    </tr>\n",
       "    <tr>\n",
       "      <th>173807</th>\n",
       "      <td>A929690</td>\n",
       "      <td>NaN</td>\n",
       "      <td>05/03/2025 11:18:00 PM</td>\n",
       "      <td>May 2025</td>\n",
       "      <td>8038 Exchange Dr in Austin (TX)</td>\n",
       "      <td>Stray</td>\n",
       "      <td>Injured</td>\n",
       "      <td>Dog</td>\n",
       "      <td>Intact Male</td>\n",
       "      <td>2 years</td>\n",
       "      <td>Belgian Malinois</td>\n",
       "      <td>Brown/Black</td>\n",
       "    </tr>\n",
       "    <tr>\n",
       "      <th>173808</th>\n",
       "      <td>A929717</td>\n",
       "      <td>NaN</td>\n",
       "      <td>05/04/2025 03:14:00 PM</td>\n",
       "      <td>May 2025</td>\n",
       "      <td>Austin (TX)</td>\n",
       "      <td>Public Assist</td>\n",
       "      <td>Normal</td>\n",
       "      <td>Dog</td>\n",
       "      <td>Intact Male</td>\n",
       "      <td>1 year</td>\n",
       "      <td>Shih Tzu Mix</td>\n",
       "      <td>White/Blue</td>\n",
       "    </tr>\n",
       "    <tr>\n",
       "      <th>173809</th>\n",
       "      <td>A929724</td>\n",
       "      <td>NaN</td>\n",
       "      <td>05/04/2025 07:43:00 PM</td>\n",
       "      <td>May 2025</td>\n",
       "      <td>7105 Providence Ave Apt 3 in Austin (TX)</td>\n",
       "      <td>Stray</td>\n",
       "      <td>Normal</td>\n",
       "      <td>Other</td>\n",
       "      <td>Unknown</td>\n",
       "      <td>1 year</td>\n",
       "      <td>Rabbit Sh</td>\n",
       "      <td>Tan/White</td>\n",
       "    </tr>\n",
       "    <tr>\n",
       "      <th>173810</th>\n",
       "      <td>A929725</td>\n",
       "      <td>Oswold</td>\n",
       "      <td>05/04/2025 10:55:00 PM</td>\n",
       "      <td>May 2025</td>\n",
       "      <td>1501  Red River St in Austin (TX)</td>\n",
       "      <td>Public Assist</td>\n",
       "      <td>Normal</td>\n",
       "      <td>Dog</td>\n",
       "      <td>Intact Male</td>\n",
       "      <td>10 years</td>\n",
       "      <td>Boxer Mix</td>\n",
       "      <td>Tan/White</td>\n",
       "    </tr>\n",
       "    <tr>\n",
       "      <th>173811</th>\n",
       "      <td>A929635</td>\n",
       "      <td>NaN</td>\n",
       "      <td>05/04/2025 11:44:00 PM</td>\n",
       "      <td>May 2025</td>\n",
       "      <td>708 Simonetti in Austin (TX)</td>\n",
       "      <td>Stray</td>\n",
       "      <td>Normal</td>\n",
       "      <td>Cat</td>\n",
       "      <td>Spayed Female</td>\n",
       "      <td>2 years</td>\n",
       "      <td>Domestic Shorthair</td>\n",
       "      <td>Black/White</td>\n",
       "    </tr>\n",
       "  </tbody>\n",
       "</table>\n",
       "<p>173812 rows × 12 columns</p>\n",
       "</div>"
      ],
      "text/plain": [
       "       Animal ID    Name                DateTime     MonthYear  \\\n",
       "0        A521520    Nina  10/01/2013 07:51:00 AM  October 2013   \n",
       "1        A664235     NaN  10/01/2013 08:33:00 AM  October 2013   \n",
       "2        A664236     NaN  10/01/2013 08:33:00 AM  October 2013   \n",
       "3        A664237     NaN  10/01/2013 08:33:00 AM  October 2013   \n",
       "4        A664233  Stevie  10/01/2013 08:53:00 AM  October 2013   \n",
       "...          ...     ...                     ...           ...   \n",
       "173807   A929690     NaN  05/03/2025 11:18:00 PM      May 2025   \n",
       "173808   A929717     NaN  05/04/2025 03:14:00 PM      May 2025   \n",
       "173809   A929724     NaN  05/04/2025 07:43:00 PM      May 2025   \n",
       "173810   A929725  Oswold  05/04/2025 10:55:00 PM      May 2025   \n",
       "173811   A929635     NaN  05/04/2025 11:44:00 PM      May 2025   \n",
       "\n",
       "                                  Found Location    Intake Type  \\\n",
       "0                        Norht Ec in Austin (TX)          Stray   \n",
       "1                            Abia in Austin (TX)          Stray   \n",
       "2                            Abia in Austin (TX)          Stray   \n",
       "3                            Abia in Austin (TX)          Stray   \n",
       "4                 7405 Springtime in Austin (TX)          Stray   \n",
       "...                                          ...            ...   \n",
       "173807           8038 Exchange Dr in Austin (TX)          Stray   \n",
       "173808                               Austin (TX)  Public Assist   \n",
       "173809  7105 Providence Ave Apt 3 in Austin (TX)          Stray   \n",
       "173810         1501  Red River St in Austin (TX)  Public Assist   \n",
       "173811              708 Simonetti in Austin (TX)          Stray   \n",
       "\n",
       "       Intake Condition Animal Type Sex upon Intake Age upon Intake  \\\n",
       "0                Normal         Dog   Spayed Female         7 years   \n",
       "1                Normal         Cat         Unknown          1 week   \n",
       "2                Normal         Cat         Unknown          1 week   \n",
       "3                Normal         Cat         Unknown          1 week   \n",
       "4               Injured         Dog   Intact Female         3 years   \n",
       "...                 ...         ...             ...             ...   \n",
       "173807          Injured         Dog     Intact Male         2 years   \n",
       "173808           Normal         Dog     Intact Male          1 year   \n",
       "173809           Normal       Other         Unknown          1 year   \n",
       "173810           Normal         Dog     Intact Male        10 years   \n",
       "173811           Normal         Cat   Spayed Female         2 years   \n",
       "\n",
       "                               Breed         Color  \n",
       "0       Border Terrier/Border Collie     White/Tan  \n",
       "1             Domestic Shorthair Mix  Orange/White  \n",
       "2             Domestic Shorthair Mix  Orange/White  \n",
       "3             Domestic Shorthair Mix  Orange/White  \n",
       "4                       Pit Bull Mix    Blue/White  \n",
       "...                              ...           ...  \n",
       "173807              Belgian Malinois   Brown/Black  \n",
       "173808                  Shih Tzu Mix    White/Blue  \n",
       "173809                     Rabbit Sh     Tan/White  \n",
       "173810                     Boxer Mix     Tan/White  \n",
       "173811            Domestic Shorthair   Black/White  \n",
       "\n",
       "[173812 rows x 12 columns]"
      ]
     },
     "execution_count": 3,
     "metadata": {},
     "output_type": "execute_result"
    }
   ],
   "source": [
    "df"
   ]
  },
  {
   "cell_type": "markdown",
   "metadata": {},
   "source": [
    "## Step 4:  Count up how many missing values exist in each column (you would need to chain two methods here -- one to check for missing values and the other to sum missing values up)"
   ]
  },
  {
   "cell_type": "code",
   "execution_count": 31,
   "metadata": {},
   "outputs": [
    {
     "data": {
      "text/plain": [
       "Index(['Animal ID', 'Name', 'DateTime', 'MonthYear', 'Found Location',\n",
       "       'Intake Type', 'Intake Condition', 'Animal Type', 'Sex upon Intake',\n",
       "       'Age upon Intake', 'Breed', 'Color'],\n",
       "      dtype='object')"
      ]
     },
     "execution_count": 31,
     "metadata": {},
     "output_type": "execute_result"
    }
   ],
   "source": [
    "df.columns"
   ]
  },
  {
   "cell_type": "code",
   "execution_count": 57,
   "metadata": {},
   "outputs": [
    {
     "name": "stdout",
     "output_type": "stream",
     "text": [
      "Animal ID\n",
      "False    173812\n",
      "Name: count, dtype: int64\n",
      "\n",
      "Name\n",
      "False    123821\n",
      "True      49991\n",
      "Name: count, dtype: int64\n",
      "\n",
      "DateTime\n",
      "False    173812\n",
      "Name: count, dtype: int64\n",
      "\n",
      "MonthYear\n",
      "False    173812\n",
      "Name: count, dtype: int64\n",
      "\n",
      "Found Location\n",
      "False    173812\n",
      "Name: count, dtype: int64\n",
      "\n",
      "Intake Type\n",
      "False    173812\n",
      "Name: count, dtype: int64\n",
      "\n",
      "Intake Condition\n",
      "False    173812\n",
      "Name: count, dtype: int64\n",
      "\n",
      "Animal Type\n",
      "False    173812\n",
      "Name: count, dtype: int64\n",
      "\n",
      "Sex upon Intake\n",
      "False    173811\n",
      "True          1\n",
      "Name: count, dtype: int64\n",
      "\n",
      "Age upon Intake\n",
      "False    173812\n",
      "Name: count, dtype: int64\n",
      "\n",
      "Breed\n",
      "False    173812\n",
      "Name: count, dtype: int64\n",
      "\n",
      "Color\n",
      "False    173812\n",
      "Name: count, dtype: int64\n",
      "\n"
     ]
    },
    {
     "name": "stderr",
     "output_type": "stream",
     "text": [
      "/var/folders/gs/yv3dj4zx2tgdd5tw701ypspm0000gp/T/ipykernel_83255/2000213482.py:2: FutureWarning: pandas.value_counts is deprecated and will be removed in a future version. Use pd.Series(obj).value_counts() instead.\n",
      "  print(pd.value_counts(df[col].isnull()))\n"
     ]
    }
   ],
   "source": [
    "for col in df.columns:\n",
    "    print(pd.value_counts(df[col].isnull()))\n",
    "    print('')"
   ]
  },
  {
   "cell_type": "markdown",
   "metadata": {},
   "source": [
    "## Step 5:  Count up the amount of animals by Animal Type "
   ]
  },
  {
   "cell_type": "code",
   "execution_count": 35,
   "metadata": {},
   "outputs": [
    {
     "name": "stdout",
     "output_type": "stream",
     "text": [
      "Animal Type\n",
      "Dog          94608\n",
      "Cat          69324\n",
      "Other         8968\n",
      "Bird           878\n",
      "Livestock       34\n",
      "Name: count, dtype: int64\n"
     ]
    },
    {
     "name": "stderr",
     "output_type": "stream",
     "text": [
      "/var/folders/gs/yv3dj4zx2tgdd5tw701ypspm0000gp/T/ipykernel_83255/323281066.py:1: FutureWarning: pandas.value_counts is deprecated and will be removed in a future version. Use pd.Series(obj).value_counts() instead.\n",
      "  animal_counts = pd.value_counts(df['Animal Type'])\n"
     ]
    }
   ],
   "source": [
    "animal_counts = pd.value_counts(df['Animal Type'])\n",
    "print(animal_counts)"
   ]
  },
  {
   "cell_type": "markdown",
   "metadata": {},
   "source": [
    "## Step 6:  Create a crosstab showing the count of animal types for each intake condition."
   ]
  },
  {
   "cell_type": "code",
   "execution_count": 36,
   "metadata": {},
   "outputs": [
    {
     "name": "stdout",
     "output_type": "stream",
     "text": [
      "Intake Condition  Aged  Agonal  Behavior  Congenital  Feral  Injured  \\\n",
      "Animal Type                                                            \n",
      "Bird                 0       0         0           0      0      249   \n",
      "Cat                 77       3         8           0    133     4339   \n",
      "Dog                445       1        73           1     11     5000   \n",
      "Livestock            0       0         0           0      0        2   \n",
      "Other                3       0         0           0      1     1215   \n",
      "\n",
      "Intake Condition  Med Attn  Med Urgent  Medical  Neonatal  Neurologic  Normal  \\\n",
      "Animal Type                                                                     \n",
      "Bird                     0           0        0         1           0     603   \n",
      "Cat                     27          11      213      1467           5   57032   \n",
      "Dog                     60          10      391       476           6   83773   \n",
      "Livestock                0           0        0         1           0      28   \n",
      "Other                    0           0       10        26           2    5705   \n",
      "\n",
      "Intake Condition  Nursing  Other  Panleuk  Parvo  Pregnant  Sick  Space  \\\n",
      "Animal Type                                                               \n",
      "Bird                    0      8        0      0         0    17      0   \n",
      "Cat                  2559    110        1      0        41  3287      4   \n",
      "Dog                  1214    229        0     11       129  2756      0   \n",
      "Livestock               0      0        0      0         0     3      0   \n",
      "Other                 105      6        0      0         0  1876      0   \n",
      "\n",
      "Intake Condition  Unknown  \n",
      "Animal Type                \n",
      "Bird                    0  \n",
      "Cat                     7  \n",
      "Dog                    22  \n",
      "Livestock               0  \n",
      "Other                  19  \n"
     ]
    }
   ],
   "source": [
    "cross_table = pd.crosstab(df['Animal Type'], df['Intake Condition'])\n",
    "print(cross_table)"
   ]
  },
  {
   "cell_type": "markdown",
   "metadata": {},
   "source": [
    "## Step 7:  Check for duplicate Animal IDs (pay close attention to the syntax here)"
   ]
  },
  {
   "cell_type": "code",
   "execution_count": 43,
   "metadata": {},
   "outputs": [
    {
     "name": "stdout",
     "output_type": "stream",
     "text": [
      "Animal ID\n",
      "False    156287\n",
      "True      17525\n",
      "Name: count, dtype: int64\n"
     ]
    },
    {
     "name": "stderr",
     "output_type": "stream",
     "text": [
      "/var/folders/gs/yv3dj4zx2tgdd5tw701ypspm0000gp/T/ipykernel_83255/2739363902.py:1: FutureWarning: pandas.value_counts is deprecated and will be removed in a future version. Use pd.Series(obj).value_counts() instead.\n",
      "  duplicate_ids = pd.value_counts(df['Animal ID'].duplicated())\n"
     ]
    }
   ],
   "source": [
    "duplicate_ids = pd.value_counts(df['Animal ID'].duplicated())\n",
    "print(duplicate_ids)"
   ]
  },
  {
   "cell_type": "markdown",
   "metadata": {},
   "source": [
    "## Practice Joining Data "
   ]
  },
  {
   "cell_type": "markdown",
   "metadata": {},
   "source": [
    "### Scenario 1\n",
    "You have customer data split into two different files (DataFrames),\n",
    "and you want to combine them into a single DataFrame for analysis."
   ]
  },
  {
   "cell_type": "code",
   "execution_count": 44,
   "metadata": {},
   "outputs": [],
   "source": [
    "# Run the cell without changes to create the two dataframes \n",
    "\n",
    "customers_part1_df = pd.DataFrame({'CustomerID': [101, 102, 103],\n",
    "                                   'FirstName': ['Alice', 'Bob', 'Charlie'],\n",
    "                                   'City': ['Anytown', 'Otherville', 'Smallburg']})\n",
    "\n",
    "customers_part2_df = pd.DataFrame({'CustomerID': [104, 105, 106],\n",
    "                                   'FirstName': ['David', 'Emily', 'Frank'],\n",
    "                                   'City': ['Bigcity', 'Townsville', 'Villageton']})"
   ]
  },
  {
   "cell_type": "markdown",
   "metadata": {},
   "source": [
    "### Scenario 1 Task:  Use `pd.concat()` to stack the two dataframes above (afterall they have the same columns)"
   ]
  },
  {
   "cell_type": "code",
   "execution_count": 46,
   "metadata": {},
   "outputs": [
    {
     "data": {
      "text/html": [
       "<div>\n",
       "<style scoped>\n",
       "    .dataframe tbody tr th:only-of-type {\n",
       "        vertical-align: middle;\n",
       "    }\n",
       "\n",
       "    .dataframe tbody tr th {\n",
       "        vertical-align: top;\n",
       "    }\n",
       "\n",
       "    .dataframe thead th {\n",
       "        text-align: right;\n",
       "    }\n",
       "</style>\n",
       "<table border=\"1\" class=\"dataframe\">\n",
       "  <thead>\n",
       "    <tr style=\"text-align: right;\">\n",
       "      <th></th>\n",
       "      <th>CustomerID</th>\n",
       "      <th>FirstName</th>\n",
       "      <th>City</th>\n",
       "    </tr>\n",
       "  </thead>\n",
       "  <tbody>\n",
       "    <tr>\n",
       "      <th>0</th>\n",
       "      <td>101</td>\n",
       "      <td>Alice</td>\n",
       "      <td>Anytown</td>\n",
       "    </tr>\n",
       "    <tr>\n",
       "      <th>1</th>\n",
       "      <td>102</td>\n",
       "      <td>Bob</td>\n",
       "      <td>Otherville</td>\n",
       "    </tr>\n",
       "    <tr>\n",
       "      <th>2</th>\n",
       "      <td>103</td>\n",
       "      <td>Charlie</td>\n",
       "      <td>Smallburg</td>\n",
       "    </tr>\n",
       "    <tr>\n",
       "      <th>3</th>\n",
       "      <td>104</td>\n",
       "      <td>David</td>\n",
       "      <td>Bigcity</td>\n",
       "    </tr>\n",
       "    <tr>\n",
       "      <th>4</th>\n",
       "      <td>105</td>\n",
       "      <td>Emily</td>\n",
       "      <td>Townsville</td>\n",
       "    </tr>\n",
       "    <tr>\n",
       "      <th>5</th>\n",
       "      <td>106</td>\n",
       "      <td>Frank</td>\n",
       "      <td>Villageton</td>\n",
       "    </tr>\n",
       "  </tbody>\n",
       "</table>\n",
       "</div>"
      ],
      "text/plain": [
       "   CustomerID FirstName        City\n",
       "0         101     Alice     Anytown\n",
       "1         102       Bob  Otherville\n",
       "2         103   Charlie   Smallburg\n",
       "3         104     David     Bigcity\n",
       "4         105     Emily  Townsville\n",
       "5         106     Frank  Villageton"
      ]
     },
     "execution_count": 46,
     "metadata": {},
     "output_type": "execute_result"
    }
   ],
   "source": [
    "all_customers_df = pd.concat([customers_part1_df, customers_part2_df], ignore_index=True)\n",
    "all_customers_df"
   ]
  },
  {
   "cell_type": "markdown",
   "metadata": {},
   "source": [
    "### Scenario 2"
   ]
  },
  {
   "cell_type": "markdown",
   "metadata": {},
   "source": [
    "Combining customer details and loyalty points."
   ]
  },
  {
   "cell_type": "code",
   "execution_count": 47,
   "metadata": {},
   "outputs": [],
   "source": [
    "# Run the cell without changes to create the two dataframes \n",
    "\n",
    "customer_details_df = pd.DataFrame({'CustomerID': [101, 102, 103],\n",
    "                                    'Name': ['Alice', 'Bob', 'Charlie'],\n",
    "                                    'City': ['Anytown', 'Otherville', 'Smallburg']})\n",
    "\n",
    "loyalty_points_df = pd.DataFrame({'CustomerID': [101, 102, 103],\n",
    "                                  'Points': [100, 250, 50]})"
   ]
  },
  {
   "cell_type": "markdown",
   "metadata": {},
   "source": [
    "### Scenario 2 Task :  Merge the DataFrames on CustomerID\n"
   ]
  },
  {
   "cell_type": "code",
   "execution_count": 52,
   "metadata": {},
   "outputs": [
    {
     "data": {
      "text/html": [
       "<div>\n",
       "<style scoped>\n",
       "    .dataframe tbody tr th:only-of-type {\n",
       "        vertical-align: middle;\n",
       "    }\n",
       "\n",
       "    .dataframe tbody tr th {\n",
       "        vertical-align: top;\n",
       "    }\n",
       "\n",
       "    .dataframe thead th {\n",
       "        text-align: right;\n",
       "    }\n",
       "</style>\n",
       "<table border=\"1\" class=\"dataframe\">\n",
       "  <thead>\n",
       "    <tr style=\"text-align: right;\">\n",
       "      <th></th>\n",
       "      <th>CustomerID</th>\n",
       "      <th>Name</th>\n",
       "      <th>City</th>\n",
       "      <th>Points</th>\n",
       "    </tr>\n",
       "  </thead>\n",
       "  <tbody>\n",
       "    <tr>\n",
       "      <th>0</th>\n",
       "      <td>101</td>\n",
       "      <td>Alice</td>\n",
       "      <td>Anytown</td>\n",
       "      <td>100</td>\n",
       "    </tr>\n",
       "    <tr>\n",
       "      <th>1</th>\n",
       "      <td>102</td>\n",
       "      <td>Bob</td>\n",
       "      <td>Otherville</td>\n",
       "      <td>250</td>\n",
       "    </tr>\n",
       "    <tr>\n",
       "      <th>2</th>\n",
       "      <td>103</td>\n",
       "      <td>Charlie</td>\n",
       "      <td>Smallburg</td>\n",
       "      <td>50</td>\n",
       "    </tr>\n",
       "  </tbody>\n",
       "</table>\n",
       "</div>"
      ],
      "text/plain": [
       "   CustomerID     Name        City  Points\n",
       "0         101    Alice     Anytown     100\n",
       "1         102      Bob  Otherville     250\n",
       "2         103  Charlie   Smallburg      50"
      ]
     },
     "execution_count": 52,
     "metadata": {},
     "output_type": "execute_result"
    }
   ],
   "source": [
    "merged_customer_df = pd.merge(customer_details_df, loyalty_points_df, how='right')\n",
    "merged_customer_df"
   ]
  }
 ],
 "metadata": {
  "kernelspec": {
   "display_name": "data-analysis-env",
   "language": "python",
   "name": "python3"
  },
  "language_info": {
   "codemirror_mode": {
    "name": "ipython",
    "version": 3
   },
   "file_extension": ".py",
   "mimetype": "text/x-python",
   "name": "python",
   "nbconvert_exporter": "python",
   "pygments_lexer": "ipython3",
   "version": "3.9.22"
  }
 },
 "nbformat": 4,
 "nbformat_minor": 2
}
