{
 "cells": [
  {
   "cell_type": "markdown",
   "metadata": {},
   "source": [
    "# M1L7 Data Types, Dates, Strings \n",
    "\n",
    " We'll be working with UFO sighting data.\n",
    "\n",
    "### **Dataset:** [UFO Sightings](https://www.kaggle.com/datasets/jonwright13/ufo-sightings-around-the-world-better?resource=download) -- This is also in your data folder \n",
    "\n",
    "### **Objectives:**\n",
    "\n",
    "- Change an object to a datetime object \n",
    "- Use string methods to manipulate data \n"
   ]
  },
  {
   "cell_type": "markdown",
   "metadata": {},
   "source": [
    "### Step 1:  Import pandas and numpy "
   ]
  },
  {
   "cell_type": "code",
   "execution_count": 1,
   "metadata": {},
   "outputs": [],
   "source": [
    "#Import packages \n",
    "import pandas as pd\n",
    "import numpy as np"
   ]
  },
  {
   "cell_type": "markdown",
   "metadata": {},
   "source": [
    "### Step 2:  Load in the data and save it as `ufo`\n",
    "\n",
    "- The dataset is named `ufo-sightings.csv`"
   ]
  },
  {
   "cell_type": "code",
   "execution_count": 2,
   "metadata": {},
   "outputs": [],
   "source": [
    "ufo = pd.read_csv('/Users/Marcy_Student/Desktop/marcy/marcy-git/DA2025_Lectures/Mod1/CSVs/ufo-sightings-transformed.csv')"
   ]
  },
  {
   "cell_type": "markdown",
   "metadata": {},
   "source": [
    "### Step 3: Check column data types and the head of the data -- does the data/types make sense?"
   ]
  },
  {
   "cell_type": "code",
   "execution_count": 9,
   "metadata": {},
   "outputs": [
    {
     "name": "stdout",
     "output_type": "stream",
     "text": [
      "   Unnamed: 0            Date_time date_documented  Year  Month  Hour  Season  \\\n",
      "0           0  1949-10-10 20:30:00       4/27/2004  1949     10    20  Autumn   \n",
      "1           1  1949-10-10 21:00:00      12/16/2005  1949     10    21  Autumn   \n",
      "2           2  1955-10-10 17:00:00       1/21/2008  1955     10    17  Autumn   \n",
      "3           3  1956-10-10 21:00:00       1/17/2004  1956     10    21  Autumn   \n",
      "4           4  1960-10-10 20:00:00       1/22/2004  1960     10    20  Autumn   \n",
      "\n",
      "  Country_Code         Country   Region        Locale   latitude   longitude  \\\n",
      "0          USA   United States    Texas    San Marcos  29.883056  -97.941111   \n",
      "1          USA   United States    Texas  Bexar County  29.384210  -98.581082   \n",
      "2          GBR  United Kingdom  England       Chester  53.200000   -2.916667   \n",
      "3          USA   United States    Texas          Edna  28.978333  -96.645833   \n",
      "4          USA   United States   Hawaii       Kaneohe  21.418056 -157.803611   \n",
      "\n",
      "  UFO_shape  length_of_encounter_seconds Encounter_Duration  \\\n",
      "0  Cylinder                       2700.0         45 minutes   \n",
      "1     Light                       7200.0            1-2 hrs   \n",
      "2    Circle                         20.0         20 seconds   \n",
      "3    Circle                         20.0           1/2 hour   \n",
      "4     Light                        900.0         15 minutes   \n",
      "\n",
      "                                         Description  \n",
      "0  This event took place in early fall around 194...  \n",
      "1  1949 Lackland AFB&#44 TX.  Lights racing acros...  \n",
      "2  Green/Orange circular disc over Chester&#44 En...  \n",
      "3  My older brother and twin sister were leaving ...  \n",
      "4  AS a Marine 1st Lt. flying an FJ4B fighter/att...  \n",
      "-------------------------\n",
      "Unnamed: 0                       int64\n",
      "Date_time                       object\n",
      "date_documented                 object\n",
      "Year                             int64\n",
      "Month                            int64\n",
      "Hour                             int64\n",
      "Season                          object\n",
      "Country_Code                    object\n",
      "Country                         object\n",
      "Region                          object\n",
      "Locale                          object\n",
      "latitude                       float64\n",
      "longitude                      float64\n",
      "UFO_shape                       object\n",
      "length_of_encounter_seconds    float64\n",
      "Encounter_Duration              object\n",
      "Description                     object\n",
      "dtype: object\n"
     ]
    }
   ],
   "source": [
    "print(ufo.head())\n",
    "print('-------------------------')\n",
    "print(ufo.dtypes)"
   ]
  },
  {
   "cell_type": "markdown",
   "metadata": {},
   "source": [
    "### Step 4:  Convert the `Date` column to datetime \n",
    "\n",
    "- Even though we have columns for year, month, and hour; we still want to change Date_time to a datetime object \n",
    "- Dates can come in many formats so we will use this format: '%Y-%m-%d %H:%M:%S'"
   ]
  },
  {
   "cell_type": "code",
   "execution_count": 18,
   "metadata": {},
   "outputs": [],
   "source": [
    "ufo['Date_time'] = pd.to_datetime(ufo['Date_time'], format='%Y-%m-%d %H:%M:%S')"
   ]
  },
  {
   "cell_type": "code",
   "execution_count": 16,
   "metadata": {},
   "outputs": [
    {
     "name": "stdout",
     "output_type": "stream",
     "text": [
      "<class 'pandas.core.frame.DataFrame'>\n",
      "RangeIndex: 80328 entries, 0 to 80327\n",
      "Data columns (total 17 columns):\n",
      " #   Column                       Non-Null Count  Dtype         \n",
      "---  ------                       --------------  -----         \n",
      " 0   Unnamed: 0                   80328 non-null  int64         \n",
      " 1   Date_time                    80328 non-null  datetime64[ns]\n",
      " 2   date_documented              80328 non-null  object        \n",
      " 3   Year                         80328 non-null  int64         \n",
      " 4   Month                        80328 non-null  int64         \n",
      " 5   Hour                         80328 non-null  int64         \n",
      " 6   Season                       80328 non-null  object        \n",
      " 7   Country_Code                 80069 non-null  object        \n",
      " 8   Country                      80069 non-null  object        \n",
      " 9   Region                       79762 non-null  object        \n",
      " 10  Locale                       79871 non-null  object        \n",
      " 11  latitude                     80328 non-null  float64       \n",
      " 12  longitude                    80328 non-null  float64       \n",
      " 13  UFO_shape                    78398 non-null  object        \n",
      " 14  length_of_encounter_seconds  80328 non-null  float64       \n",
      " 15  Encounter_Duration           80328 non-null  object        \n",
      " 16  Description                  80313 non-null  object        \n",
      "dtypes: datetime64[ns](1), float64(3), int64(4), object(9)\n",
      "memory usage: 10.4+ MB\n"
     ]
    }
   ],
   "source": [
    "#Run this to see if the update worked \n",
    "ufo.info()"
   ]
  },
  {
   "cell_type": "markdown",
   "metadata": {},
   "source": [
    "### Step 5:  Make the `Description` column all lowercase \n",
    "\n",
    "- Think about why would we want text all lowercase \n",
    "\n",
    "**Instructor Notes**\n",
    "Feel free to talk about text analytics or LLMs or a simple case like states being different cases and you want to do aggregations"
   ]
  },
  {
   "cell_type": "code",
   "execution_count": 19,
   "metadata": {},
   "outputs": [
    {
     "name": "stdout",
     "output_type": "stream",
     "text": [
      "0        this event took place in early fall around 194...\n",
      "1        1949 lackland afb&#44 tx.  lights racing acros...\n",
      "2        green/orange circular disc over chester&#44 en...\n",
      "3        my older brother and twin sister were leaving ...\n",
      "4        as a marine 1st lt. flying an fj4b fighter/att...\n",
      "                               ...                        \n",
      "80323    round from the distance/slowly changing colors...\n",
      "80324    boise&#44 id&#44 spherical&#44 20 min&#44 10 r...\n",
      "80325                                         napa ufo&#44\n",
      "80326    saw a five gold lit cicular craft moving fastl...\n",
      "80327    2 witnesses 2  miles apart&#44 red &amp; white...\n",
      "Name: Description, Length: 80328, dtype: object\n"
     ]
    }
   ],
   "source": [
    "ufo['Description'] = ufo['Description'].str.lower()\n",
    "print(ufo['Description'])"
   ]
  },
  {
   "cell_type": "markdown",
   "metadata": {},
   "source": [
    "### Step 6:  Replace spaces with underscores in the `Encounter_Duration` column\n"
   ]
  },
  {
   "cell_type": "code",
   "execution_count": 20,
   "metadata": {},
   "outputs": [
    {
     "name": "stdout",
     "output_type": "stream",
     "text": [
      "0        45_minutes\n",
      "1           1-2_hrs\n",
      "2        20_seconds\n",
      "3          1/2_hour\n",
      "4        15_minutes\n",
      "            ...    \n",
      "80323    10_minutes\n",
      "80324    20_minutes\n",
      "80325          hour\n",
      "80326     5_seconds\n",
      "80327    17_minutes\n",
      "Name: Encounter_Duration, Length: 80328, dtype: object\n"
     ]
    }
   ],
   "source": [
    "ufo['Encounter_Duration'] = ufo['Encounter_Duration'].str.replace(' ', '_')\n",
    "print(ufo['Encounter_Duration'])"
   ]
  }
 ],
 "metadata": {
  "kernelspec": {
   "display_name": "data-analysis-env",
   "language": "python",
   "name": "python3"
  },
  "language_info": {
   "codemirror_mode": {
    "name": "ipython",
    "version": 3
   },
   "file_extension": ".py",
   "mimetype": "text/x-python",
   "name": "python",
   "nbconvert_exporter": "python",
   "pygments_lexer": "ipython3",
   "version": "3.9.22"
  }
 },
 "nbformat": 4,
 "nbformat_minor": 2
}
